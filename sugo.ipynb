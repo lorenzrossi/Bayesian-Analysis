{
 "cells": [
  {
   "cell_type": "code",
   "execution_count": null,
   "metadata": {},
   "outputs": [],
   "source": [
    "import pandas as pd"
   ]
  },
  {
   "cell_type": "markdown",
   "metadata": {},
   "source": [
    "### Y : energy"
   ]
  },
  {
   "cell_type": "code",
   "execution_count": null,
   "metadata": {},
   "outputs": [],
   "source": [
    "df_energy = pd.read_csv('data\\energy_dataset.csv')\n",
    "sorted(df_energy.columns)"
   ]
  },
  {
   "cell_type": "code",
   "execution_count": null,
   "metadata": {},
   "outputs": [],
   "source": [
    "df_energy.sort_values('time', inplace = True, )\n",
    "df_energy.interpolate(method='linear', limit_direction='forward', inplace=True, axis=0)"
   ]
  },
  {
   "cell_type": "markdown",
   "metadata": {},
   "source": [
    "dropping useless features"
   ]
  },
  {
   "cell_type": "code",
   "execution_count": null,
   "metadata": {},
   "outputs": [],
   "source": [
    "useless_energy_features = ['forecast solar day ahead',\n",
    " 'forecast wind offshore eday ahead',\n",
    " 'forecast wind onshore day ahead',\n",
    " 'price day ahead',\n",
    " 'total load actual',\n",
    " 'total load forecast',\n",
    " \n",
    " # NaN\n",
    " 'generation geothermal',\n",
    " 'generation marine',\n",
    " ]\n",
    "df_energy.drop(useless_energy_features, axis=1, inplace=True, )"
   ]
  },
  {
   "cell_type": "markdown",
   "metadata": {},
   "source": [
    "merging similar features"
   ]
  },
  {
   "cell_type": "code",
   "execution_count": null,
   "metadata": {},
   "outputs": [],
   "source": [
    "fossil_features = ['generation fossil brown coal/lignite',\n",
    " 'generation fossil coal-derived gas',\n",
    " 'generation fossil gas',\n",
    " 'generation fossil hard coal',\n",
    " 'generation fossil oil',\n",
    " 'generation fossil oil shale',\n",
    " 'generation fossil peat',]\n",
    "df_energy['generation fossil'] = df_energy[fossil_features].sum(axis = 1)\n",
    "df_energy.drop(fossil_features, axis=1, inplace=True, )"
   ]
  },
  {
   "cell_type": "code",
   "execution_count": null,
   "metadata": {},
   "outputs": [],
   "source": [
    "hydro_features = ['generation hydro pumped storage aggregated',\n",
    " 'generation hydro pumped storage consumption',\n",
    " 'generation hydro run-of-river and poundage',\n",
    " 'generation hydro water reservoir',]\n",
    "df_energy['generation hydro'] = df_energy[hydro_features].sum(axis = 1)\n",
    "df_energy.drop(hydro_features, axis=1, inplace=True, )"
   ]
  },
  {
   "cell_type": "code",
   "execution_count": null,
   "metadata": {},
   "outputs": [],
   "source": [
    "wind_features = ['generation wind offshore',\n",
    " 'generation wind onshore',]\n",
    "df_energy['generation wind'] = df_energy[wind_features].sum(axis = 1)\n",
    "df_energy.drop(wind_features, axis=1, inplace=True, )"
   ]
  },
  {
   "cell_type": "code",
   "execution_count": null,
   "metadata": {},
   "outputs": [],
   "source": [
    "nonrenew_features = [\n",
    " 'generation fossil',\n",
    " 'generation other',\n",
    " 'generation nuclear',\n",
    " 'generation waste',\n",
    "    ]\n",
    "\n",
    "renewable_features = [\n",
    " 'generation biomass',\n",
    " 'generation hydro',\n",
    " 'generation other renewable',\n",
    " 'generation solar',\n",
    " 'generation wind']"
   ]
  },
  {
   "cell_type": "code",
   "execution_count": null,
   "metadata": {},
   "outputs": [],
   "source": [
    "# cities = ['Barcelona', 'Bilbao', 'Madrid', 'Seville', 'Valencia']\n",
    "# cities_weights = {'Madrid': 6155116 / 15272043,\n",
    "#                   'Barcelona': 5179243 / 15272043,\n",
    "#                   'Valencia': 1645342 / 15272043,\n",
    "#                   'Seville': 1305342 / 15272043,\n",
    "#                   'Bilbao': 987000 / 15272043}"
   ]
  },
  {
   "cell_type": "code",
   "execution_count": null,
   "metadata": {},
   "outputs": [],
   "source": [
    "# for city, weight in cities_weights.items():    \n",
    "#     for feature in features_list:\n",
    "#         df_en[feature + ' ' + city] = df_en[feature]*weight"
   ]
  },
  {
   "cell_type": "markdown",
   "metadata": {},
   "source": [
    "### X : weather"
   ]
  },
  {
   "cell_type": "code",
   "execution_count": null,
   "metadata": {},
   "outputs": [],
   "source": [
    "df_weather = pd.read_csv('data\\weather_features.csv')\n",
    "sorted(df_weather.columns)"
   ]
  },
  {
   "cell_type": "code",
   "execution_count": null,
   "metadata": {},
   "outputs": [],
   "source": [
    "df_weather.drop_duplicates(subset=['dt_iso', 'city_name'], keep='first', inplace = True, )"
   ]
  },
  {
   "cell_type": "code",
   "execution_count": null,
   "metadata": {},
   "outputs": [],
   "source": [
    "useless_weather_features = [\n",
    "    'weather_id', \n",
    "    'weather_main', \n",
    "    'weather_icon', \n",
    "    ]\n",
    "df_weather.drop(useless_weather_features, axis=1, inplace=True, )"
   ]
  },
  {
   "cell_type": "code",
   "execution_count": null,
   "metadata": {},
   "outputs": [],
   "source": [
    "weather_list = [ 'city_name', 'temp', 'temp_min', 'temp_max', 'pressure',\n",
    "       'humidity', 'wind_speed', 'wind_deg', 'rain_1h', 'rain_3h', 'snow_3h',\n",
    "       'clouds_all',  'weather_description', ]"
   ]
  },
  {
   "cell_type": "markdown",
   "metadata": {},
   "source": [
    "encoding `weather_description`"
   ]
  },
  {
   "cell_type": "code",
   "execution_count": null,
   "metadata": {},
   "outputs": [],
   "source": [
    "# extract token words\n",
    "weather_tokens = {w for l in df_weather.weather_description for w in l.split()}\n",
    "weather_tokens.difference_update(['and', 'with', 'is', ])\n",
    "weather_tokens\n",
    "\n",
    "# TODO PCA per alleggerire"
   ]
  },
  {
   "cell_type": "code",
   "execution_count": null,
   "metadata": {},
   "outputs": [],
   "source": [
    "for t in weather_tokens:\n",
    "    df_weather[t] = df_weather.weather_description.apply(lambda text : 1 if t in text else 0)\n",
    "df_weather.drop('weather_description', axis=1, inplace = True, )"
   ]
  },
  {
   "cell_type": "markdown",
   "metadata": {},
   "source": [
    "encodind `cities`"
   ]
  },
  {
   "cell_type": "code",
   "execution_count": null,
   "metadata": {},
   "outputs": [],
   "source": [
    "# split in cities\n",
    "cities = list(set(df_weather.city_name))\n",
    "df_city_weather = { c : df_weather[df_weather.city_name == c].drop('city_name', axis=1) for c in cities }\n",
    "\n",
    "# adjust indexes for each split \n",
    "for city, dfi in df_city_weather.items():\n",
    "    dfi.set_index('dt_iso', inplace = True)\n",
    "    dfi.rename(columns = {c : f'{c}_{city}' for c in dfi.columns}, inplace = True )\n",
    "\n",
    "# re-merge dataframe\n",
    "df_final = pd.concat(list(df_city_weather.values()), axis=1, join='inner')"
   ]
  },
  {
   "cell_type": "code",
   "execution_count": null,
   "metadata": {},
   "outputs": [],
   "source": [
    "df_final = df_city_weather['Valencia']\n",
    "df_final = df_final[df_final.columns.difference({f'{t}_Valencia' for t in weather_tokens})]"
   ]
  },
  {
   "cell_type": "code",
   "execution_count": null,
   "metadata": {},
   "outputs": [],
   "source": [
    "df_energy.set_index('time', inplace=True)\n",
    "inputs, outputs = df_final.columns, df_energy.columns\n",
    "len(inputs), len(outputs)"
   ]
  },
  {
   "cell_type": "code",
   "execution_count": null,
   "metadata": {},
   "outputs": [],
   "source": [
    "dataset = pd.concat([df_final, df_energy], axis=1, join='inner')\n",
    "dataset"
   ]
  },
  {
   "cell_type": "markdown",
   "metadata": {},
   "source": [
    "## tensor"
   ]
  },
  {
   "cell_type": "code",
   "execution_count": null,
   "metadata": {},
   "outputs": [],
   "source": [
    "import pandas as pd\n",
    "import numpy as np\n",
    "import tensorflow as tf\n",
    "from sklearn.preprocessing import StandardScaler\n",
    "from sklearn.ensemble import IsolationForest\n",
    "import tensorflow_probability as tfp"
   ]
  },
  {
   "cell_type": "code",
   "execution_count": null,
   "metadata": {},
   "outputs": [],
   "source": [
    "tfk = tf.keras\n",
    "tf.keras.backend.set_floatx(\"float64\")\n",
    "tfd = tfp.distributions"
   ]
  },
  {
   "cell_type": "code",
   "execution_count": null,
   "metadata": {},
   "outputs": [],
   "source": [
    "tf.config.list_physical_devices(\"GPU\")"
   ]
  },
  {
   "cell_type": "code",
   "execution_count": null,
   "metadata": {},
   "outputs": [],
   "source": [
    "# Define helper functions.\n",
    "scaler = StandardScaler()\n",
    "detector = IsolationForest(n_estimators=1000, random_state=42) # (of outliers)\n",
    "neg_log_likelihood = lambda x, rv_x: -rv_x.log_prob(x)"
   ]
  },
  {
   "cell_type": "code",
   "execution_count": null,
   "metadata": {},
   "outputs": [],
   "source": [
    "# scale\n",
    "tmp = scaler.fit_transform(dataset)\n",
    "\n",
    "# keep inliers\n",
    "# is_inlier = detector.fit_predict(tmp)\n",
    "# print(sum(is_inlier))\n",
    "# tmp = tmp[(is_inlier > 0),:]\n",
    "\n",
    "# restore\n",
    "dataset = pd.DataFrame(tmp, columns=dataset.columns)"
   ]
  },
  {
   "cell_type": "code",
   "execution_count": null,
   "metadata": {},
   "outputs": [],
   "source": [
    "# Define some hyperparameters.\n",
    "n_epochs, n_batches, n_samples = 50, 15, dataset.shape[0]\n",
    "buffer_size, batch_size = n_samples, np.floor(n_samples/n_batches)"
   ]
  },
  {
   "cell_type": "code",
   "execution_count": null,
   "metadata": {},
   "outputs": [],
   "source": [
    "# Define training and test data sizes.\n",
    "n_train = int(0.75*dataset.shape[0])\n",
    "n_train"
   ]
  },
  {
   "cell_type": "code",
   "execution_count": null,
   "metadata": {},
   "outputs": [],
   "source": [
    "# Define dataset instance.\n",
    "data = tf.data.Dataset.from_tensor_slices((dataset[inputs].values, dataset[outputs].values))\n",
    "data = data.shuffle(n_samples, reshuffle_each_iteration=True)"
   ]
  },
  {
   "cell_type": "code",
   "execution_count": null,
   "metadata": {},
   "outputs": [],
   "source": [
    "# Define train and test data instances.\n",
    "data_train = data.take(n_train).batch(batch_size).repeat(n_epochs)\n",
    "data_test = data.skip(n_train).batch(1)"
   ]
  },
  {
   "cell_type": "code",
   "execution_count": null,
   "metadata": {},
   "outputs": [],
   "source": [
    "# Define prior for regularization.\n",
    "prior = tfd.Independent(\n",
    "    tfd.Normal(loc=tf.zeros(len(outputs), dtype=tf.float64), scale=1.0),\n",
    "    reinterpreted_batch_ndims=1)"
   ]
  },
  {
   "cell_type": "code",
   "execution_count": null,
   "metadata": {},
   "outputs": [],
   "source": [
    "# Define model instance.\n",
    "model = tfk.Sequential([\n",
    "\n",
    "    # input\n",
    "    tfk.layers.InputLayer(\n",
    "        input_shape=(len(inputs),),\n",
    "    name=\"input\"),\n",
    "    \n",
    "    # dense for inputs\n",
    "    tfk.layers.Dense(\n",
    "        n_batches, \n",
    "    activation=\"relu\", name=\"dense_1\"),\n",
    "    \n",
    "    # dense for weights\n",
    "    tfk.layers.Dense(\n",
    "        tfp.layers.MultivariateNormalTriL.params_size(len(outputs)), # uncertainty in the parameters weights\n",
    "    activation=None, name=\"distribution_weights\"),\n",
    "    \n",
    "    # (declaration of the) posterior probability distribution structure\n",
    "    tfp.layers.MultivariateNormalTriL(\n",
    "        len(outputs), activity_regularizer=tfp.layers.KLDivergenceRegularizer(prior, weight=1/n_batches), # activity_regularizer acts as prior for the output layer\n",
    "    name=\"output\")\n",
    "\n",
    "], name=\"model\")\n"
   ]
  },
  {
   "cell_type": "code",
   "execution_count": null,
   "metadata": {},
   "outputs": [],
   "source": [
    "# Compile model.\n",
    "model.compile(optimizer=\"adam\", loss=neg_log_likelihood)"
   ]
  },
  {
   "cell_type": "code",
   "execution_count": null,
   "metadata": {},
   "outputs": [],
   "source": [
    "# Run training session.\n",
    "# MIN 4 MIN 4 MIN 4\n",
    "model.fit(data_train, epochs=n_epochs, validation_data=data_test, verbose=True)"
   ]
  },
  {
   "cell_type": "code",
   "execution_count": null,
   "metadata": {},
   "outputs": [],
   "source": [
    "import pickle\n",
    "pickle.dump(model, open('model.pkl', 'wb'))"
   ]
  },
  {
   "cell_type": "code",
   "execution_count": null,
   "metadata": {},
   "outputs": [],
   "source": [
    "# Describe model.\n",
    "model.summary()"
   ]
  },
  {
   "cell_type": "markdown",
   "metadata": {},
   "source": [
    "To account for uncertainty in parameter weights, the dense layers have to be exchanged with\n",
    "\n",
    "- Flipout layers (``DenseFlipout``)\n",
    "- Variational layers (``DenseVariational``)\n",
    "\n",
    "Such a model has more parameters, since every weight is parametrized by normal distribution with non-shared mean and standard deviation. \\\n",
    "Weights will be resampled for different predictions."
   ]
  },
  {
   "cell_type": "code",
   "execution_count": null,
   "metadata": {},
   "outputs": [],
   "source": [
    "tfp.layers.DenseFlipout(10, activation=\"relu\", name=\"dense_1\")"
   ]
  },
  {
   "cell_type": "markdown",
   "metadata": {},
   "source": [
    "The default prior distribution over weights is `tfd.Normal(loc=0., scale=1.)` and can be adjusted using the ``kernel_prior_fn``"
   ]
  },
  {
   "cell_type": "code",
   "execution_count": null,
   "metadata": {},
   "outputs": [],
   "source": [
    "# Predict.\n",
    "samples = 500\n",
    "iterations = 10\n",
    "test_iterator = tf.compat.v1.data.make_one_shot_iterator(data_test)\n",
    "X_true, Y_true, Y_pred = np.empty(shape=(samples, len(inputs))), np.empty(shape=(samples, len(outputs))), np.empty(shape=(samples, len(outputs), iterations))"
   ]
  },
  {
   "cell_type": "code",
   "execution_count": null,
   "metadata": {},
   "outputs": [],
   "source": [
    "for i in range(samples):\n",
    "    features, labels = test_iterator.get_next()\n",
    "    X_true[i,:] = features\n",
    "    Y_true[i,:] = labels.numpy()\n",
    "    for k in range(iterations):\n",
    "        Y_pred[i,:,k] = model.predict(features)"
   ]
  },
  {
   "cell_type": "code",
   "execution_count": null,
   "metadata": {},
   "outputs": [],
   "source": [
    "# Calculate mean and standard deviation.\n",
    "Y_pred_m = np.mean(Y_pred, axis=-1)\n",
    "Y_pred_s = np.std(Y_pred, axis=-1)\n",
    "Y_pred_m, Y_pred_s"
   ]
  }
 ],
 "metadata": {
  "interpreter": {
   "hash": "31f2aee4e71d21fbe5cf8b01ff0e069b9275f58929596ceb00d14d90e3e16cd6"
  },
  "kernelspec": {
   "display_name": "Python 3.8.10 64-bit",
   "language": "python",
   "name": "python3"
  },
  "language_info": {
   "codemirror_mode": {
    "name": "ipython",
    "version": 3
   },
   "file_extension": ".py",
   "mimetype": "text/x-python",
   "name": "python",
   "nbconvert_exporter": "python",
   "pygments_lexer": "ipython3",
   "version": "3.7.9"
  },
  "orig_nbformat": 4
 },
 "nbformat": 4,
 "nbformat_minor": 2
}
