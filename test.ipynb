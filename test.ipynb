{
 "cells": [
  {
   "cell_type": "code",
   "execution_count": null,
   "metadata": {
    "collapsed": true
   },
   "outputs": [],
   "source": [
    "#Generate energy var weighted\n",
    "df_final['total load weighted'] = df_final['total load actual'] * cities_weights.get('{}'.format(city))\n",
    "df_final['gen non-renewable weighted'] = df_final['generation non-renewable'] * cities_weights.get('{}'.format(city))\n",
    "df_final['gen renewable weighted'] = df_final['generation renewable'] * cities_weights.get('{}'.format(city))\n",
    "df_final['gen biomass weighted'] = df_final['generation biomass'] * cities_weights.get('{}'.format(city))\n",
    "df_final['gen coal weighted'] = df_final['generation coal all'] * cities_weights.get('{}'.format(city))\n",
    "df_final['gen fossil oil weighted'] = df_final['generation fossil oil'] * cities_weights.get('{}'.format(city))\n",
    "df_final['gen fossil gas weighted'] = df_final['generation fossil gas'] * cities_weights.get('{}'.format(city))\n",
    "df_final['gen hydro weighted'] = df_final['generation hydro all'] * cities_weights.get('{}'.format(city))\n",
    "df_final['gen solar weighted'] = df_final['generation solar'] * cities_weights.get('{}'.format(city))\n",
    "df_final['gen nuclear weighted'] = df_final['generation nuclear'] * cities_weights.get('{}'.format(city))\n",
    "df_final['gen wind weighted'] = df_final['generation wind onshore'] * cities_weights.get('{}'.format(city))\n",
    "df_final['gen other weighted'] = df_final['generation other'] * cities_weights.get('{}'.format(city))\n",
    "df_final['gen other ren weighted'] = df_final['generation other renewable'] * cities_weights.get('{}'.format(city))\n",
    "df_final['gen waste weighted'] = df_final['generation waste'] * cities_weights.get('{}'.format(city))"
   ]
  },
  {
   "cell_type": "code",
   "execution_count": null,
   "outputs": [],
   "source": [
    "#Feature selection\n",
    "\n",
    "def multivariate_data(dataset, target, start_index, end_index, history_size,\n",
    "                      target_size, step, single_step=False):\n",
    "    data = []\n",
    "    labels = []\n",
    "\n",
    "    start_index = start_index + history_size\n",
    "    if end_index is None:\n",
    "        end_index = len(dataset) - target_size\n",
    "\n",
    "    for i in range(start_index, end_index):\n",
    "        indices = range(i-history_size, i, step)\n",
    "        data.append(dataset[indices])\n",
    "\n",
    "        if single_step:\n",
    "            labels.append(target[i + target_size])\n",
    "        else:\n",
    "            labels.append(target[i : i + target_size])\n",
    "\n",
    "    return np.array(data), np.array(labels)"
   ],
   "metadata": {
    "collapsed": false,
    "pycharm": {
     "name": "#%%\n"
    }
   }
  },
  {
   "cell_type": "code",
   "execution_count": null,
   "outputs": [],
   "source": [
    "X = df_final[['generation biomass', 'generation fossil gas', 'generation fossil oil', 'generation nuclear', 'generation other', 'generation other renewable', 'generation solar', 'generation waste', 'generation wind onshore', 'price actual', 'generation coal all','generation hydro all','temp_min', 'temp', 'temp_max', 'pressure', 'humidity', 'wind_speed', 'wind_deg', 'rain_1h', 'snow_3h', 'clouds_all']]\n",
    "y = df_final[['total load actual']]"
   ],
   "metadata": {
    "collapsed": false,
    "pycharm": {
     "name": "#%%\n"
    }
   }
  },
  {
   "cell_type": "code",
   "execution_count": null,
   "outputs": [],
   "source": [
    "model = sm.OLS(y, x).fit()\n",
    "model.summary2().tables[1]"
   ],
   "metadata": {
    "collapsed": false,
    "pycharm": {
     "name": "#%%\n"
    }
   }
  },
  {
   "cell_type": "code",
   "execution_count": null,
   "outputs": [],
   "source": [
    "X_train, X_test, y_train, y_test = train_test_split(X, y, test_size=0.3, random_state=42)"
   ],
   "metadata": {
    "collapsed": false,
    "pycharm": {
     "name": "#%%\n"
    }
   }
  },
  {
   "cell_type": "code",
   "execution_count": null,
   "outputs": [],
   "source": [
    "X_train = scaler.fit_transform(X_train)\n",
    "y_train = scaler.fit_transform(y_train)\n",
    "X_test = scaler.fit(X_test)\n",
    "y_test = scaler.fit(y_test)"
   ],
   "metadata": {
    "collapsed": false,
    "pycharm": {
     "name": "#%%\n"
    }
   }
  },
  {
   "cell_type": "code",
   "execution_count": null,
   "outputs": [],
   "source": [
    "df = df_final[['generation biomass', 'generation fossil gas', 'generation fossil oil', 'generation nuclear', 'generation other', 'generation other renewable', 'generation solar', 'generation waste', 'generation wind onshore', 'price actual', 'generation coal all','generation hydro all','temp_min', 'temp', 'temp_max', 'pressure', 'humidity', 'wind_speed', 'wind_deg', 'rain_1h', 'snow_3h', 'clouds_all']]"
   ],
   "metadata": {
    "collapsed": false,
    "pycharm": {
     "name": "#%%\n"
    }
   }
  }
 ],
 "metadata": {
  "kernelspec": {
   "display_name": "Python 3",
   "language": "python",
   "name": "python3"
  },
  "language_info": {
   "codemirror_mode": {
    "name": "ipython",
    "version": 2
   },
   "file_extension": ".py",
   "mimetype": "text/x-python",
   "name": "python",
   "nbconvert_exporter": "python",
   "pygments_lexer": "ipython2",
   "version": "2.7.6"
  }
 },
 "nbformat": 4,
 "nbformat_minor": 0
}