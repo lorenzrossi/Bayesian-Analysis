{
 "cells": [
  {
   "cell_type": "code",
   "execution_count": 133,
   "metadata": {},
   "outputs": [],
   "source": [
    "files = ['Bilbao', 'Madrid', 'National_flipout', 'National_no_NonRenew', 'National_whole' ]"
   ]
  },
  {
   "cell_type": "code",
   "execution_count": 134,
   "metadata": {},
   "outputs": [],
   "source": [
    "import pickle\n",
    "import seaborn as sns\n",
    "import pandas as pd\n",
    "import numpy as np\n",
    "sns.set_style('darkgrid')"
   ]
  },
  {
   "cell_type": "markdown",
   "metadata": {},
   "source": [
    "### data"
   ]
  },
  {
   "cell_type": "code",
   "execution_count": 135,
   "metadata": {},
   "outputs": [],
   "source": [
    "predicts = { f:pickle.load(open(f'./pickle/{f}_predict.pkl', 'rb')) for f in files}"
   ]
  },
  {
   "cell_type": "code",
   "execution_count": 136,
   "metadata": {},
   "outputs": [],
   "source": [
    "p = predicts['National_flipout']"
   ]
  },
  {
   "cell_type": "code",
   "execution_count": 137,
   "metadata": {},
   "outputs": [
    {
     "data": {
      "text/plain": [
       "(1000, 4, 10)"
      ]
     },
     "execution_count": 137,
     "metadata": {},
     "output_type": "execute_result"
    }
   ],
   "source": [
    "p.shape # (x1000) eol, solar, hydro, oth (x10 rep)"
   ]
  },
  {
   "cell_type": "code",
   "execution_count": 138,
   "metadata": {},
   "outputs": [],
   "source": [
    "to_df = []\n",
    "for i,a in enumerate(p[:7*24,:,:]): # only first week\n",
    "    for j,b in enumerate(a):\n",
    "        for k, c in enumerate(b):\n",
    "            to_df.append([i,j,k,c])"
   ]
  },
  {
   "cell_type": "code",
   "execution_count": 140,
   "metadata": {},
   "outputs": [
    {
     "data": {
      "text/html": [
       "<div>\n",
       "<style scoped>\n",
       "    .dataframe tbody tr th:only-of-type {\n",
       "        vertical-align: middle;\n",
       "    }\n",
       "\n",
       "    .dataframe tbody tr th {\n",
       "        vertical-align: top;\n",
       "    }\n",
       "\n",
       "    .dataframe thead th {\n",
       "        text-align: right;\n",
       "    }\n",
       "</style>\n",
       "<table border=\"1\" class=\"dataframe\">\n",
       "  <thead>\n",
       "    <tr style=\"text-align: right;\">\n",
       "      <th></th>\n",
       "      <th>forecast</th>\n",
       "      <th>type</th>\n",
       "      <th>iter</th>\n",
       "      <th>value</th>\n",
       "    </tr>\n",
       "  </thead>\n",
       "  <tbody>\n",
       "    <tr>\n",
       "      <th>0</th>\n",
       "      <td>0</td>\n",
       "      <td>solar</td>\n",
       "      <td>0</td>\n",
       "      <td>-0.387929</td>\n",
       "    </tr>\n",
       "    <tr>\n",
       "      <th>1</th>\n",
       "      <td>0</td>\n",
       "      <td>solar</td>\n",
       "      <td>1</td>\n",
       "      <td>0.058906</td>\n",
       "    </tr>\n",
       "    <tr>\n",
       "      <th>2</th>\n",
       "      <td>0</td>\n",
       "      <td>solar</td>\n",
       "      <td>2</td>\n",
       "      <td>-0.068672</td>\n",
       "    </tr>\n",
       "    <tr>\n",
       "      <th>3</th>\n",
       "      <td>0</td>\n",
       "      <td>solar</td>\n",
       "      <td>3</td>\n",
       "      <td>-0.085978</td>\n",
       "    </tr>\n",
       "    <tr>\n",
       "      <th>4</th>\n",
       "      <td>0</td>\n",
       "      <td>solar</td>\n",
       "      <td>4</td>\n",
       "      <td>0.175328</td>\n",
       "    </tr>\n",
       "    <tr>\n",
       "      <th>...</th>\n",
       "      <td>...</td>\n",
       "      <td>...</td>\n",
       "      <td>...</td>\n",
       "      <td>...</td>\n",
       "    </tr>\n",
       "    <tr>\n",
       "      <th>6715</th>\n",
       "      <td>167</td>\n",
       "      <td>other</td>\n",
       "      <td>5</td>\n",
       "      <td>0.743490</td>\n",
       "    </tr>\n",
       "    <tr>\n",
       "      <th>6716</th>\n",
       "      <td>167</td>\n",
       "      <td>other</td>\n",
       "      <td>6</td>\n",
       "      <td>0.633414</td>\n",
       "    </tr>\n",
       "    <tr>\n",
       "      <th>6717</th>\n",
       "      <td>167</td>\n",
       "      <td>other</td>\n",
       "      <td>7</td>\n",
       "      <td>0.753577</td>\n",
       "    </tr>\n",
       "    <tr>\n",
       "      <th>6718</th>\n",
       "      <td>167</td>\n",
       "      <td>other</td>\n",
       "      <td>8</td>\n",
       "      <td>0.711346</td>\n",
       "    </tr>\n",
       "    <tr>\n",
       "      <th>6719</th>\n",
       "      <td>167</td>\n",
       "      <td>other</td>\n",
       "      <td>9</td>\n",
       "      <td>0.558942</td>\n",
       "    </tr>\n",
       "  </tbody>\n",
       "</table>\n",
       "<p>6720 rows × 4 columns</p>\n",
       "</div>"
      ],
      "text/plain": [
       "      forecast   type  iter     value\n",
       "0            0  solar     0 -0.387929\n",
       "1            0  solar     1  0.058906\n",
       "2            0  solar     2 -0.068672\n",
       "3            0  solar     3 -0.085978\n",
       "4            0  solar     4  0.175328\n",
       "...        ...    ...   ...       ...\n",
       "6715       167  other     5  0.743490\n",
       "6716       167  other     6  0.633414\n",
       "6717       167  other     7  0.753577\n",
       "6718       167  other     8  0.711346\n",
       "6719       167  other     9  0.558942\n",
       "\n",
       "[6720 rows x 4 columns]"
      ]
     },
     "execution_count": 140,
     "metadata": {},
     "output_type": "execute_result"
    }
   ],
   "source": [
    "dfp = pd.DataFrame(to_df, columns=['forecast','type', 'iter', 'value'])\n",
    "dfp.type = dfp.type.map({i:v for i,v in enumerate(['solar', 'hydro', 'wind', 'other',])})\n",
    "dfp"
   ]
  },
  {
   "cell_type": "markdown",
   "metadata": {},
   "source": [
    "### plots"
   ]
  },
  {
   "cell_type": "code",
   "execution_count": 141,
   "metadata": {},
   "outputs": [],
   "source": [
    "sns.set(rc={'figure.figsize':(15,6)})"
   ]
  },
  {
   "cell_type": "code",
   "execution_count": 142,
   "metadata": {},
   "outputs": [],
   "source": [
    "# sns.lineplot(x=\"forecast\", y=\"value\", hue=\"type\", data=dfp[dfp.type == 'solar'])\n",
    "# sns.lineplot(x=\"forecast\", y=\"value\", hue=\"type\", data=dfp[dfp.type == 'hydro'])\n",
    "# sns.lineplot(x=\"forecast\", y=\"value\", hue=\"type\", data=dfp[dfp.type == 'wind'])"
   ]
  },
  {
   "cell_type": "code",
   "execution_count": 143,
   "metadata": {},
   "outputs": [],
   "source": [
    "sns.lineplot(x=\"forecast\", y=\"value\", hue=\"type\", data=dfp[(dfp.type == 'Bilbao') | (dfp.type == 'solar')], )"
   ]
  },
  {
   "cell_type": "code",
   "execution_count": 144,
   "metadata": {},
   "outputs": [],
   "source": [
    "# sns.lineplot(x=\"forecast\", y=\"value\", hue=\"type\", data=dfp[(dfp.type == 'hydro') | (dfp.type == 'wind')], )"
   ]
  },
  {
   "cell_type": "markdown",
   "metadata": {},
   "source": [
    "### mse"
   ]
  },
  {
   "cell_type": "code",
   "execution_count": 145,
   "metadata": {},
   "outputs": [],
   "source": [
    "y_true = pickle.load(open(f'./pickle/National_flipout_true.pkl', 'rb'))"
   ]
  },
  {
   "cell_type": "code",
   "execution_count": 146,
   "metadata": {},
   "outputs": [],
   "source": [
    "y_pred = np.median(p, axis=-1)"
   ]
  },
  {
   "cell_type": "code",
   "execution_count": 147,
   "metadata": {},
   "outputs": [],
   "source": [
    "mse = (np.square(y_true - y_pred)).mean()"
   ]
  },
  {
   "cell_type": "code",
   "execution_count": 148,
   "metadata": {},
   "outputs": [
    {
     "data": {
      "text/plain": [
       "0.21465735544142503"
      ]
     },
     "execution_count": 148,
     "metadata": {},
     "output_type": "execute_result"
    }
   ],
   "source": [
    "mse**(1/2)"
   ]
  },
  {
   "cell_type": "markdown",
   "metadata": {},
   "source": [
    "### violin"
   ]
  },
  {
   "cell_type": "code",
   "execution_count": 151,
   "metadata": {},
   "outputs": [],
   "source": [
    "b, m = np.median(predicts['Bilbao'], axis=-1), np.median(predicts['Madrid'], axis=-1)"
   ]
  },
  {
   "cell_type": "code",
   "execution_count": 155,
   "metadata": {},
   "outputs": [
    {
     "data": {
      "text/plain": [
       "array([0.13766422, 0.40599498, 0.39292641, 0.74740883])"
      ]
     },
     "execution_count": 155,
     "metadata": {},
     "output_type": "execute_result"
    }
   ],
   "source": [
    "b[0]"
   ]
  },
  {
   "cell_type": "code",
   "execution_count": 160,
   "metadata": {},
   "outputs": [],
   "source": [
    "dfb = pd.DataFrame([[t,e,v] for t,q in enumerate(b) for e,v in enumerate(q) ], columns=['forecast', 'type', 'value'])\n",
    "dfb.type = dfb.type.map({i:v for i,v in enumerate(['solar', 'hydro', 'wind', 'other',])})\n",
    "dfb['city'] = 'Bilbao'"
   ]
  },
  {
   "cell_type": "code",
   "execution_count": 161,
   "metadata": {},
   "outputs": [],
   "source": [
    "dfm = pd.DataFrame([[t,e,v] for t,q in enumerate(b) for e,v in enumerate(q) ], columns=['forecast', 'type', 'value'])\n",
    "dfm.type = dfm.type.map({i:v for i,v in enumerate(['solar', 'hydro', 'wind', 'other',])})\n",
    "dfm['city'] = 'Madrid'"
   ]
  },
  {
   "cell_type": "code",
   "execution_count": 162,
   "metadata": {},
   "outputs": [],
   "source": [
    "stk = pd.concat([dfb,dfm],ignore_index=True)"
   ]
  },
  {
   "cell_type": "code",
   "execution_count": 163,
   "metadata": {},
   "outputs": [
    {
     "data": {
      "text/plain": [
       "<AxesSubplot:xlabel='type', ylabel='value'>"
      ]
     },
     "execution_count": 163,
     "metadata": {},
     "output_type": "execute_result"
    },
    {
     "data": {
      "image/png": "[encoded data removed]",
      "text/plain": [
       "<Figure size 1080x432 with 1 Axes>"
      ]
     },
     "metadata": {},
     "output_type": "display_data"
    }
   ],
   "source": [
    "sns.violinplot(x=\"type\", y=\"value\", hue=\"city\", data=stk, palette=\"muted\")"
   ]
  },
  {
   "cell_type": "code",
   "execution_count": null,
   "metadata": {},
   "outputs": [],
   "source": []
  }
 ],
 "metadata": {
  "interpreter": {
   "hash": "a43673405cbdc80389383ec6697e5f951a7ae12954d2f3be76b69bb23dc2586f"
  },
  "kernelspec": {
   "display_name": "Python 3.10.2 ('venv': venv)",
   "language": "python",
   "name": "python3"
  },
  "language_info": {
   "codemirror_mode": {
    "name": "ipython",
    "version": 3
   },
   "file_extension": ".py",
   "mimetype": "text/x-python",
   "name": "python",
   "nbconvert_exporter": "python",
   "pygments_lexer": "ipython3",
   "version": "3.10.2"
  },
  "orig_nbformat": 4
 },
 "nbformat": 4,
 "nbformat_minor": 2
}