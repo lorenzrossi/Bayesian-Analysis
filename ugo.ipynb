{
 "cells": [
  {
   "cell_type": "code",
   "execution_count": 60,
   "metadata": {},
   "outputs": [
    {
     "name": "stdout",
     "output_type": "stream",
     "text": [
      "hola!\n"
     ]
    }
   ],
   "source": [
    "print('hola!')"
   ]
  },
  {
   "cell_type": "code",
   "execution_count": 61,
   "metadata": {
    "collapsed": true
   },
   "outputs": [
    {
     "name": "stdout",
     "output_type": "stream",
     "text": [
      "The tensorboard extension is already loaded. To reload it, use:\n",
      "  %reload_ext tensorboard\n"
     ]
    }
   ],
   "source": [
    "import pandas as pd\n",
    "import numpy as np\n",
    "import matplotlib.pyplot as plt\n",
    "%matplotlib inline\n",
    "import os\n",
    "import seaborn as sns\n",
    "import statsmodels.api as sm\n",
    "import xgboost as xgb\n",
    "import warnings\n",
    "from tensorflow.keras.layers import Dense, LSTM, Conv1D, MaxPooling1D, TimeDistributed, Flatten, Dropout, RepeatVector\n",
    "from statsmodels.graphics.tsaplots import plot_acf, plot_pacf\n",
    "from statsmodels.tsa.stattools import adfuller, kpss, ccf\n",
    "from sklearn.metrics import mean_squared_error, r2_score\n",
    "from sklearn.preprocessing import LabelEncoder, StandardScaler, MinMaxScaler\n",
    "from sklearn.decomposition import PCA\n",
    "from sklearn.linear_model import LinearRegression\n",
    "from sklearn.model_selection import train_test_split\n",
    "from math import sqrt\n",
    "import tensorflow as tf\n",
    "import tensorflow_probability as tfp\n",
    "import keras\n",
    "from keras.utils.np_utils import to_categorical\n",
    "from keras.datasets import mnist\n",
    "from sklearn.preprocessing import StandardScaler\n",
    "from sklearn.ensemble import IsolationForest\n",
    "from sklearn.model_selection import train_test_split\n",
    "from keras import models\n",
    "from keras import layers\n",
    "from keras import callbacks\n",
    "from keras.models import Sequential\n",
    "from keras.layers import Dense\n",
    "from tensorflow.keras import layers\n",
    "from tensorflow.keras import regularizers\n",
    "import tensorflow_docs as tfdocs\n",
    "import tensorflow_docs.modeling\n",
    "import tensorflow_docs.plots\n",
    "import datetime\n",
    "tfk = tf.keras\n",
    "tf.keras.backend.set_floatx(\"float64\")\n",
    "tfd = tfp.distributions\n",
    "# Load the TensorBoard notebook extension\n",
    "%load_ext tensorboard"
   ]
  },
  {
   "cell_type": "code",
   "execution_count": 62,
   "metadata": {
    "collapsed": false,
    "pycharm": {
     "name": "#%%\n"
    }
   },
   "outputs": [],
   "source": [
    "os.chdir('C:\\\\Users\\\\loren\\\\OneDrive\\\\Desktop\\\\Lezioni uni\\\\Bayesian Analysis\\\\Progetto')"
   ]
  },
  {
   "cell_type": "code",
   "execution_count": 63,
   "metadata": {
    "collapsed": false,
    "pycharm": {
     "name": "#%%\n"
    }
   },
   "outputs": [],
   "source": [
    "df_weather = pd.read_csv(\"weather_features.csv\", parse_dates=['dt_iso'])\n",
    "df_energy = pd.read_csv(\"energy_dataset.csv\", parse_dates=['time'])"
   ]
  },
  {
   "cell_type": "code",
   "execution_count": 64,
   "metadata": {
    "collapsed": false,
    "pycharm": {
     "name": "#%%\n"
    }
   },
   "outputs": [],
   "source": [
    "df_energy['generation coal all'] = df_energy['generation fossil hard coal'] + df_energy[\n",
    "    'generation fossil brown coal/lignite']\n",
    "df_energy['generation hydro all'] = df_energy['generation hydro water reservoir'] + df_energy[\n",
    "    'generation hydro pumped storage consumption'] + df_energy['generation hydro run-of-river and poundage']"
   ]
  },
  {
   "cell_type": "code",
   "execution_count": 65,
   "metadata": {
    "collapsed": false,
    "pycharm": {
     "name": "#%%\n"
    }
   },
   "outputs": [],
   "source": [
    "# Drop unusable columns\n",
    "\n",
    "df_energy = df_energy.drop(['generation fossil coal-derived gas','generation fossil oil shale',\n",
    "                            'generation fossil peat', 'generation geothermal',\n",
    "                            'generation hydro pumped storage aggregated', 'generation marine',\n",
    "                            'generation wind offshore', 'forecast wind offshore eday ahead',\n",
    "                            'generation hydro water reservoir','generation hydro pumped storage consumption',\n",
    "                            'generation hydro run-of-river and poundage', 'generation fossil hard coal',\n",
    "                            'generation fossil brown coal/lignite'],\n",
    "                            axis=1)"
   ]
  },
  {
   "cell_type": "code",
   "execution_count": 66,
   "metadata": {
    "collapsed": false,
    "pycharm": {
     "name": "#%%\n"
    }
   },
   "outputs": [
    {
     "data": {
      "text/plain": "                        time  generation biomass  generation fossil gas  \\\n0  2015-01-01 00:00:00+01:00               447.0                 4844.0   \n1  2015-01-01 01:00:00+01:00               449.0                 5196.0   \n2  2015-01-01 02:00:00+01:00               448.0                 4857.0   \n3  2015-01-01 03:00:00+01:00               438.0                 4314.0   \n4  2015-01-01 04:00:00+01:00               428.0                 4130.0   \n\n   generation fossil oil  generation nuclear  generation other  \\\n0                  162.0              7096.0              43.0   \n1                  158.0              7096.0              43.0   \n2                  157.0              7099.0              43.0   \n3                  160.0              7098.0              43.0   \n4                  156.0              7097.0              43.0   \n\n   generation other renewable  generation solar  generation waste  \\\n0                        73.0              49.0             196.0   \n1                        71.0              50.0             195.0   \n2                        73.0              50.0             196.0   \n3                        75.0              50.0             191.0   \n4                        74.0              42.0             189.0   \n\n   generation wind onshore  forecast solar day ahead  \\\n0                   6378.0                      17.0   \n1                   5890.0                      16.0   \n2                   5461.0                       8.0   \n3                   5238.0                       2.0   \n4                   4935.0                       9.0   \n\n   forecast wind onshore day ahead  total load forecast  total load actual  \\\n0                           6436.0              26118.0            25385.0   \n1                           5856.0              24934.0            24382.0   \n2                           5454.0              23515.0            22734.0   \n3                           5151.0              22642.0            21286.0   \n4                           4861.0              21785.0            20264.0   \n\n   price day ahead  price actual  generation coal all  generation hydro all  \n0            50.10         65.41               5150.0                3813.0  \n1            48.10         64.92               5083.0                3587.0  \n2            47.33         64.48               4904.0                3508.0  \n3            42.27         59.32               4385.0                3231.0  \n4            38.41         56.04               4027.0                3499.0  ",
      "text/html": "<div>\n<style scoped>\n    .dataframe tbody tr th:only-of-type {\n        vertical-align: middle;\n    }\n\n    .dataframe tbody tr th {\n        vertical-align: top;\n    }\n\n    .dataframe thead th {\n        text-align: right;\n    }\n</style>\n<table border=\"1\" class=\"dataframe\">\n  <thead>\n    <tr style=\"text-align: right;\">\n      <th></th>\n      <th>time</th>\n      <th>generation biomass</th>\n      <th>generation fossil gas</th>\n      <th>generation fossil oil</th>\n      <th>generation nuclear</th>\n      <th>generation other</th>\n      <th>generation other renewable</th>\n      <th>generation solar</th>\n      <th>generation waste</th>\n      <th>generation wind onshore</th>\n      <th>forecast solar day ahead</th>\n      <th>forecast wind onshore day ahead</th>\n      <th>total load forecast</th>\n      <th>total load actual</th>\n      <th>price day ahead</th>\n      <th>price actual</th>\n      <th>generation coal all</th>\n      <th>generation hydro all</th>\n    </tr>\n  </thead>\n  <tbody>\n    <tr>\n      <th>0</th>\n      <td>2015-01-01 00:00:00+01:00</td>\n      <td>447.0</td>\n      <td>4844.0</td>\n      <td>162.0</td>\n      <td>7096.0</td>\n      <td>43.0</td>\n      <td>73.0</td>\n      <td>49.0</td>\n      <td>196.0</td>\n      <td>6378.0</td>\n      <td>17.0</td>\n      <td>6436.0</td>\n      <td>26118.0</td>\n      <td>25385.0</td>\n      <td>50.10</td>\n      <td>65.41</td>\n      <td>5150.0</td>\n      <td>3813.0</td>\n    </tr>\n    <tr>\n      <th>1</th>\n      <td>2015-01-01 01:00:00+01:00</td>\n      <td>449.0</td>\n      <td>5196.0</td>\n      <td>158.0</td>\n      <td>7096.0</td>\n      <td>43.0</td>\n      <td>71.0</td>\n      <td>50.0</td>\n      <td>195.0</td>\n      <td>5890.0</td>\n      <td>16.0</td>\n      <td>5856.0</td>\n      <td>24934.0</td>\n      <td>24382.0</td>\n      <td>48.10</td>\n      <td>64.92</td>\n      <td>5083.0</td>\n      <td>3587.0</td>\n    </tr>\n    <tr>\n      <th>2</th>\n      <td>2015-01-01 02:00:00+01:00</td>\n      <td>448.0</td>\n      <td>4857.0</td>\n      <td>157.0</td>\n      <td>7099.0</td>\n      <td>43.0</td>\n      <td>73.0</td>\n      <td>50.0</td>\n      <td>196.0</td>\n      <td>5461.0</td>\n      <td>8.0</td>\n      <td>5454.0</td>\n      <td>23515.0</td>\n      <td>22734.0</td>\n      <td>47.33</td>\n      <td>64.48</td>\n      <td>4904.0</td>\n      <td>3508.0</td>\n    </tr>\n    <tr>\n      <th>3</th>\n      <td>2015-01-01 03:00:00+01:00</td>\n      <td>438.0</td>\n      <td>4314.0</td>\n      <td>160.0</td>\n      <td>7098.0</td>\n      <td>43.0</td>\n      <td>75.0</td>\n      <td>50.0</td>\n      <td>191.0</td>\n      <td>5238.0</td>\n      <td>2.0</td>\n      <td>5151.0</td>\n      <td>22642.0</td>\n      <td>21286.0</td>\n      <td>42.27</td>\n      <td>59.32</td>\n      <td>4385.0</td>\n      <td>3231.0</td>\n    </tr>\n    <tr>\n      <th>4</th>\n      <td>2015-01-01 04:00:00+01:00</td>\n      <td>428.0</td>\n      <td>4130.0</td>\n      <td>156.0</td>\n      <td>7097.0</td>\n      <td>43.0</td>\n      <td>74.0</td>\n      <td>42.0</td>\n      <td>189.0</td>\n      <td>4935.0</td>\n      <td>9.0</td>\n      <td>4861.0</td>\n      <td>21785.0</td>\n      <td>20264.0</td>\n      <td>38.41</td>\n      <td>56.04</td>\n      <td>4027.0</td>\n      <td>3499.0</td>\n    </tr>\n  </tbody>\n</table>\n</div>"
     },
     "execution_count": 66,
     "metadata": {},
     "output_type": "execute_result"
    }
   ],
   "source": [
    "df_energy.head()"
   ]
  },
  {
   "cell_type": "code",
   "execution_count": 67,
   "metadata": {
    "collapsed": false,
    "pycharm": {
     "name": "#%%\n"
    }
   },
   "outputs": [],
   "source": [
    "df_energy['generation non-renewable'] = df_energy['generation fossil gas'] + df_energy['generation fossil oil'] + df_energy['generation nuclear'] + df_energy['generation other'] + \\\n",
    "                                        df_energy['generation coal all'] + df_energy['generation waste']\n",
    "df_energy['generation renewable'] = df_energy['generation solar'] + df_energy['generation biomass'] + df_energy['generation hydro all'] + df_energy['generation other renewable'] + \\\n",
    "                                    df_energy['generation wind onshore']"
   ]
  },
  {
   "cell_type": "code",
   "execution_count": 68,
   "metadata": {
    "collapsed": false,
    "pycharm": {
     "name": "#%%\n"
    }
   },
   "outputs": [
    {
     "data": {
      "text/plain": "                        time  generation biomass  generation fossil gas  \\\n0  2015-01-01 00:00:00+01:00               447.0                 4844.0   \n1  2015-01-01 01:00:00+01:00               449.0                 5196.0   \n2  2015-01-01 02:00:00+01:00               448.0                 4857.0   \n3  2015-01-01 03:00:00+01:00               438.0                 4314.0   \n4  2015-01-01 04:00:00+01:00               428.0                 4130.0   \n\n   generation fossil oil  generation nuclear  generation other  \\\n0                  162.0              7096.0              43.0   \n1                  158.0              7096.0              43.0   \n2                  157.0              7099.0              43.0   \n3                  160.0              7098.0              43.0   \n4                  156.0              7097.0              43.0   \n\n   generation other renewable  generation solar  generation waste  \\\n0                        73.0              49.0             196.0   \n1                        71.0              50.0             195.0   \n2                        73.0              50.0             196.0   \n3                        75.0              50.0             191.0   \n4                        74.0              42.0             189.0   \n\n   generation wind onshore  forecast solar day ahead  \\\n0                   6378.0                      17.0   \n1                   5890.0                      16.0   \n2                   5461.0                       8.0   \n3                   5238.0                       2.0   \n4                   4935.0                       9.0   \n\n   forecast wind onshore day ahead  total load forecast  total load actual  \\\n0                           6436.0              26118.0            25385.0   \n1                           5856.0              24934.0            24382.0   \n2                           5454.0              23515.0            22734.0   \n3                           5151.0              22642.0            21286.0   \n4                           4861.0              21785.0            20264.0   \n\n   price day ahead  price actual  generation coal all  generation hydro all  \\\n0            50.10         65.41               5150.0                3813.0   \n1            48.10         64.92               5083.0                3587.0   \n2            47.33         64.48               4904.0                3508.0   \n3            42.27         59.32               4385.0                3231.0   \n4            38.41         56.04               4027.0                3499.0   \n\n   generation non-renewable  generation renewable  \n0                   17491.0               10760.0  \n1                   17771.0               10047.0  \n2                   17256.0                9540.0  \n3                   16191.0                9032.0  \n4                   15642.0                8978.0  ",
      "text/html": "<div>\n<style scoped>\n    .dataframe tbody tr th:only-of-type {\n        vertical-align: middle;\n    }\n\n    .dataframe tbody tr th {\n        vertical-align: top;\n    }\n\n    .dataframe thead th {\n        text-align: right;\n    }\n</style>\n<table border=\"1\" class=\"dataframe\">\n  <thead>\n    <tr style=\"text-align: right;\">\n      <th></th>\n      <th>time</th>\n      <th>generation biomass</th>\n      <th>generation fossil gas</th>\n      <th>generation fossil oil</th>\n      <th>generation nuclear</th>\n      <th>generation other</th>\n      <th>generation other renewable</th>\n      <th>generation solar</th>\n      <th>generation waste</th>\n      <th>generation wind onshore</th>\n      <th>forecast solar day ahead</th>\n      <th>forecast wind onshore day ahead</th>\n      <th>total load forecast</th>\n      <th>total load actual</th>\n      <th>price day ahead</th>\n      <th>price actual</th>\n      <th>generation coal all</th>\n      <th>generation hydro all</th>\n      <th>generation non-renewable</th>\n      <th>generation renewable</th>\n    </tr>\n  </thead>\n  <tbody>\n    <tr>\n      <th>0</th>\n      <td>2015-01-01 00:00:00+01:00</td>\n      <td>447.0</td>\n      <td>4844.0</td>\n      <td>162.0</td>\n      <td>7096.0</td>\n      <td>43.0</td>\n      <td>73.0</td>\n      <td>49.0</td>\n      <td>196.0</td>\n      <td>6378.0</td>\n      <td>17.0</td>\n      <td>6436.0</td>\n      <td>26118.0</td>\n      <td>25385.0</td>\n      <td>50.10</td>\n      <td>65.41</td>\n      <td>5150.0</td>\n      <td>3813.0</td>\n      <td>17491.0</td>\n      <td>10760.0</td>\n    </tr>\n    <tr>\n      <th>1</th>\n      <td>2015-01-01 01:00:00+01:00</td>\n      <td>449.0</td>\n      <td>5196.0</td>\n      <td>158.0</td>\n      <td>7096.0</td>\n      <td>43.0</td>\n      <td>71.0</td>\n      <td>50.0</td>\n      <td>195.0</td>\n      <td>5890.0</td>\n      <td>16.0</td>\n      <td>5856.0</td>\n      <td>24934.0</td>\n      <td>24382.0</td>\n      <td>48.10</td>\n      <td>64.92</td>\n      <td>5083.0</td>\n      <td>3587.0</td>\n      <td>17771.0</td>\n      <td>10047.0</td>\n    </tr>\n    <tr>\n      <th>2</th>\n      <td>2015-01-01 02:00:00+01:00</td>\n      <td>448.0</td>\n      <td>4857.0</td>\n      <td>157.0</td>\n      <td>7099.0</td>\n      <td>43.0</td>\n      <td>73.0</td>\n      <td>50.0</td>\n      <td>196.0</td>\n      <td>5461.0</td>\n      <td>8.0</td>\n      <td>5454.0</td>\n      <td>23515.0</td>\n      <td>22734.0</td>\n      <td>47.33</td>\n      <td>64.48</td>\n      <td>4904.0</td>\n      <td>3508.0</td>\n      <td>17256.0</td>\n      <td>9540.0</td>\n    </tr>\n    <tr>\n      <th>3</th>\n      <td>2015-01-01 03:00:00+01:00</td>\n      <td>438.0</td>\n      <td>4314.0</td>\n      <td>160.0</td>\n      <td>7098.0</td>\n      <td>43.0</td>\n      <td>75.0</td>\n      <td>50.0</td>\n      <td>191.0</td>\n      <td>5238.0</td>\n      <td>2.0</td>\n      <td>5151.0</td>\n      <td>22642.0</td>\n      <td>21286.0</td>\n      <td>42.27</td>\n      <td>59.32</td>\n      <td>4385.0</td>\n      <td>3231.0</td>\n      <td>16191.0</td>\n      <td>9032.0</td>\n    </tr>\n    <tr>\n      <th>4</th>\n      <td>2015-01-01 04:00:00+01:00</td>\n      <td>428.0</td>\n      <td>4130.0</td>\n      <td>156.0</td>\n      <td>7097.0</td>\n      <td>43.0</td>\n      <td>74.0</td>\n      <td>42.0</td>\n      <td>189.0</td>\n      <td>4935.0</td>\n      <td>9.0</td>\n      <td>4861.0</td>\n      <td>21785.0</td>\n      <td>20264.0</td>\n      <td>38.41</td>\n      <td>56.04</td>\n      <td>4027.0</td>\n      <td>3499.0</td>\n      <td>15642.0</td>\n      <td>8978.0</td>\n    </tr>\n  </tbody>\n</table>\n</div>"
     },
     "execution_count": 68,
     "metadata": {},
     "output_type": "execute_result"
    }
   ],
   "source": [
    "df_energy.head()"
   ]
  },
  {
   "cell_type": "code",
   "execution_count": 69,
   "metadata": {
    "collapsed": false,
    "pycharm": {
     "name": "#%%\n"
    }
   },
   "outputs": [
    {
     "data": {
      "text/plain": "       generation biomass  generation fossil gas  generation fossil oil  \\\ncount            35045.00               35046.00               35045.00   \nmean               383.51                5622.74                 298.32   \nstd                 85.35                2201.83                  52.52   \nmin                  0.00                   0.00                   0.00   \n25%                333.00                4126.00                 263.00   \n50%                367.00                4969.00                 300.00   \n75%                433.00                6429.00                 330.00   \nmax                592.00               20034.00                 449.00   \n\n       generation nuclear  generation other  generation other renewable  \\\ncount            35047.00          35046.00                    35046.00   \nmean              6263.91             60.23                       85.64   \nstd                839.67             20.24                       14.08   \nmin                  0.00              0.00                        0.00   \n25%               5760.00             53.00                       73.00   \n50%               6566.00             57.00                       88.00   \n75%               7025.00             80.00                       97.00   \nmax               7117.00            106.00                      119.00   \n\n       generation solar  generation waste  generation wind onshore  \\\ncount          35046.00          35045.00                 35046.00   \nmean            1432.67            269.45                  5464.48   \nstd             1680.12             50.20                  3213.69   \nmin                0.00              0.00                     0.00   \n25%               71.00            240.00                  2933.00   \n50%              616.00            279.00                  4849.00   \n75%             2578.00            310.00                  7398.00   \nmax             5792.00            357.00                 17436.00   \n\n       forecast solar day ahead  forecast wind onshore day ahead  \\\ncount                  35064.00                         35064.00   \nmean                    1439.07                          5471.22   \nstd                     1677.70                          3176.31   \nmin                        0.00                           237.00   \n25%                       69.00                          2979.00   \n50%                      576.00                          4855.00   \n75%                     2636.00                          7353.00   \nmax                     5836.00                         17430.00   \n\n       total load forecast  total load actual  price day ahead  price actual  \\\ncount             35064.00           35028.00         35064.00      35064.00   \nmean              28712.13           28696.94            49.87         57.88   \nstd                4594.10            4574.99            14.62         14.20   \nmin               18105.00           18041.00             2.06          9.33   \n25%               24793.75           24807.75            41.49         49.35   \n50%               28906.00           28901.00            50.52         58.02   \n75%               32263.25           32192.00            60.53         68.01   \nmax               41390.00           41015.00           101.99        116.80   \n\n       generation coal all  generation hydro all  generation non-renewable  \\\ncount             35046.00               35044.0                  35044.00   \nmean               4704.12                4052.9                  17218.86   \nstd                2245.64                2114.0                   3982.96   \nmin                   0.00                   0.0                   6363.00   \n25%                2678.00                2393.0                  14031.75   \n50%                4983.00                3589.0                  17005.00   \n75%                6503.00                5314.0                  19973.00   \nmax                9320.00               11613.0                  34498.00   \n\n       generation renewable  \ncount              35043.00  \nmean               11419.55  \nstd                 4254.98  \nmin                    0.00  \n25%                 8266.00  \n50%                10896.00  \n75%                14023.00  \nmax                27691.00  ",
      "text/html": "<div>\n<style scoped>\n    .dataframe tbody tr th:only-of-type {\n        vertical-align: middle;\n    }\n\n    .dataframe tbody tr th {\n        vertical-align: top;\n    }\n\n    .dataframe thead th {\n        text-align: right;\n    }\n</style>\n<table border=\"1\" class=\"dataframe\">\n  <thead>\n    <tr style=\"text-align: right;\">\n      <th></th>\n      <th>generation biomass</th>\n      <th>generation fossil gas</th>\n      <th>generation fossil oil</th>\n      <th>generation nuclear</th>\n      <th>generation other</th>\n      <th>generation other renewable</th>\n      <th>generation solar</th>\n      <th>generation waste</th>\n      <th>generation wind onshore</th>\n      <th>forecast solar day ahead</th>\n      <th>forecast wind onshore day ahead</th>\n      <th>total load forecast</th>\n      <th>total load actual</th>\n      <th>price day ahead</th>\n      <th>price actual</th>\n      <th>generation coal all</th>\n      <th>generation hydro all</th>\n      <th>generation non-renewable</th>\n      <th>generation renewable</th>\n    </tr>\n  </thead>\n  <tbody>\n    <tr>\n      <th>count</th>\n      <td>35045.00</td>\n      <td>35046.00</td>\n      <td>35045.00</td>\n      <td>35047.00</td>\n      <td>35046.00</td>\n      <td>35046.00</td>\n      <td>35046.00</td>\n      <td>35045.00</td>\n      <td>35046.00</td>\n      <td>35064.00</td>\n      <td>35064.00</td>\n      <td>35064.00</td>\n      <td>35028.00</td>\n      <td>35064.00</td>\n      <td>35064.00</td>\n      <td>35046.00</td>\n      <td>35044.0</td>\n      <td>35044.00</td>\n      <td>35043.00</td>\n    </tr>\n    <tr>\n      <th>mean</th>\n      <td>383.51</td>\n      <td>5622.74</td>\n      <td>298.32</td>\n      <td>6263.91</td>\n      <td>60.23</td>\n      <td>85.64</td>\n      <td>1432.67</td>\n      <td>269.45</td>\n      <td>5464.48</td>\n      <td>1439.07</td>\n      <td>5471.22</td>\n      <td>28712.13</td>\n      <td>28696.94</td>\n      <td>49.87</td>\n      <td>57.88</td>\n      <td>4704.12</td>\n      <td>4052.9</td>\n      <td>17218.86</td>\n      <td>11419.55</td>\n    </tr>\n    <tr>\n      <th>std</th>\n      <td>85.35</td>\n      <td>2201.83</td>\n      <td>52.52</td>\n      <td>839.67</td>\n      <td>20.24</td>\n      <td>14.08</td>\n      <td>1680.12</td>\n      <td>50.20</td>\n      <td>3213.69</td>\n      <td>1677.70</td>\n      <td>3176.31</td>\n      <td>4594.10</td>\n      <td>4574.99</td>\n      <td>14.62</td>\n      <td>14.20</td>\n      <td>2245.64</td>\n      <td>2114.0</td>\n      <td>3982.96</td>\n      <td>4254.98</td>\n    </tr>\n    <tr>\n      <th>min</th>\n      <td>0.00</td>\n      <td>0.00</td>\n      <td>0.00</td>\n      <td>0.00</td>\n      <td>0.00</td>\n      <td>0.00</td>\n      <td>0.00</td>\n      <td>0.00</td>\n      <td>0.00</td>\n      <td>0.00</td>\n      <td>237.00</td>\n      <td>18105.00</td>\n      <td>18041.00</td>\n      <td>2.06</td>\n      <td>9.33</td>\n      <td>0.00</td>\n      <td>0.0</td>\n      <td>6363.00</td>\n      <td>0.00</td>\n    </tr>\n    <tr>\n      <th>25%</th>\n      <td>333.00</td>\n      <td>4126.00</td>\n      <td>263.00</td>\n      <td>5760.00</td>\n      <td>53.00</td>\n      <td>73.00</td>\n      <td>71.00</td>\n      <td>240.00</td>\n      <td>2933.00</td>\n      <td>69.00</td>\n      <td>2979.00</td>\n      <td>24793.75</td>\n      <td>24807.75</td>\n      <td>41.49</td>\n      <td>49.35</td>\n      <td>2678.00</td>\n      <td>2393.0</td>\n      <td>14031.75</td>\n      <td>8266.00</td>\n    </tr>\n    <tr>\n      <th>50%</th>\n      <td>367.00</td>\n      <td>4969.00</td>\n      <td>300.00</td>\n      <td>6566.00</td>\n      <td>57.00</td>\n      <td>88.00</td>\n      <td>616.00</td>\n      <td>279.00</td>\n      <td>4849.00</td>\n      <td>576.00</td>\n      <td>4855.00</td>\n      <td>28906.00</td>\n      <td>28901.00</td>\n      <td>50.52</td>\n      <td>58.02</td>\n      <td>4983.00</td>\n      <td>3589.0</td>\n      <td>17005.00</td>\n      <td>10896.00</td>\n    </tr>\n    <tr>\n      <th>75%</th>\n      <td>433.00</td>\n      <td>6429.00</td>\n      <td>330.00</td>\n      <td>7025.00</td>\n      <td>80.00</td>\n      <td>97.00</td>\n      <td>2578.00</td>\n      <td>310.00</td>\n      <td>7398.00</td>\n      <td>2636.00</td>\n      <td>7353.00</td>\n      <td>32263.25</td>\n      <td>32192.00</td>\n      <td>60.53</td>\n      <td>68.01</td>\n      <td>6503.00</td>\n      <td>5314.0</td>\n      <td>19973.00</td>\n      <td>14023.00</td>\n    </tr>\n    <tr>\n      <th>max</th>\n      <td>592.00</td>\n      <td>20034.00</td>\n      <td>449.00</td>\n      <td>7117.00</td>\n      <td>106.00</td>\n      <td>119.00</td>\n      <td>5792.00</td>\n      <td>357.00</td>\n      <td>17436.00</td>\n      <td>5836.00</td>\n      <td>17430.00</td>\n      <td>41390.00</td>\n      <td>41015.00</td>\n      <td>101.99</td>\n      <td>116.80</td>\n      <td>9320.00</td>\n      <td>11613.0</td>\n      <td>34498.00</td>\n      <td>27691.00</td>\n    </tr>\n  </tbody>\n</table>\n</div>"
     },
     "execution_count": 69,
     "metadata": {},
     "output_type": "execute_result"
    }
   ],
   "source": [
    "df_energy.describe().round(2)"
   ]
  },
  {
   "cell_type": "code",
   "execution_count": 70,
   "metadata": {
    "collapsed": false,
    "pycharm": {
     "name": "#%%\n"
    }
   },
   "outputs": [],
   "source": [
    "df_energy['time'] = pd.to_datetime(df_energy['time'], utc=True, infer_datetime_format=True)\n",
    "df_energy = df_energy.set_index('time')"
   ]
  },
  {
   "cell_type": "code",
   "execution_count": 71,
   "metadata": {
    "collapsed": false,
    "pycharm": {
     "name": "#%%\n"
    }
   },
   "outputs": [
    {
     "name": "stdout",
     "output_type": "stream",
     "text": [
      "There are 279 missing values or NaNs in df_energy.\n",
      "There are 0 duplicate rows in df_energy based on all columns.\n"
     ]
    }
   ],
   "source": [
    "# Find NaNs and duplicates in df_energy\n",
    "\n",
    "print('There are {} missing values or NaNs in df_energy.'\n",
    "      .format(df_energy.isnull().values.sum()))\n",
    "\n",
    "temp_energy = df_energy.duplicated(keep='first').sum()\n",
    "\n",
    "print('There are {} duplicate rows in df_energy based on all columns.'\n",
    "      .format(temp_energy))"
   ]
  },
  {
   "cell_type": "code",
   "execution_count": 72,
   "metadata": {
    "collapsed": false,
    "pycharm": {
     "name": "#%%\n"
    }
   },
   "outputs": [
    {
     "data": {
      "text/plain": "generation biomass                 19\ngeneration fossil gas              18\ngeneration fossil oil              19\ngeneration nuclear                 17\ngeneration other                   18\ngeneration other renewable         18\ngeneration solar                   18\ngeneration waste                   19\ngeneration wind onshore            18\nforecast solar day ahead            0\nforecast wind onshore day ahead     0\ntotal load forecast                 0\ntotal load actual                  36\nprice day ahead                     0\nprice actual                        0\ngeneration coal all                18\ngeneration hydro all               20\ngeneration non-renewable           20\ngeneration renewable               21\ndtype: int64"
     },
     "execution_count": 72,
     "metadata": {},
     "output_type": "execute_result"
    }
   ],
   "source": [
    "# Find the number of NaNs in each column\n",
    "\n",
    "df_energy.isnull().sum(axis=0)"
   ]
  },
  {
   "cell_type": "code",
   "execution_count": 73,
   "metadata": {
    "collapsed": false,
    "pycharm": {
     "name": "#%%\n"
    }
   },
   "outputs": [
    {
     "name": "stderr",
     "output_type": "stream",
     "text": [
      "C:\\Users\\loren\\AppData\\Local\\Temp\\ipykernel_12032\\169134172.py:3: FutureWarning: The default dtype for empty Series will be 'object' instead of 'float64' in a future version. Specify a dtype explicitly to silence this warning.\n",
      "  def plot_series(df=None, column=None, series=pd.Series([]),\n"
     ]
    }
   ],
   "source": [
    "# Define a function to plot different types of time-series\n",
    "\n",
    "def plot_series(df=None, column=None, series=pd.Series([]),\n",
    "                label=None, ylabel=None, title=None, start=0, end=None):\n",
    "    sns.set()\n",
    "    fig, ax = plt.subplots(figsize=(30, 12))\n",
    "    ax.set_xlabel('Time', fontsize=16)\n",
    "    if column:\n",
    "        ax.plot(df[column][start:end], label=label)\n",
    "        ax.set_ylabel(ylabel, fontsize=16)\n",
    "    if series.any():\n",
    "        ax.plot(series, label=label)\n",
    "        ax.set_ylabel(ylabel, fontsize=16)\n",
    "    if label:\n",
    "        ax.legend(fontsize=16)\n",
    "    if title:\n",
    "        ax.set_title(title, fontsize=24)\n",
    "    ax.grid(True)\n",
    "    return ax"
   ]
  },
  {
   "cell_type": "code",
   "execution_count": 74,
   "metadata": {
    "collapsed": false,
    "pycharm": {
     "name": "#%%\n"
    }
   },
   "outputs": [
    {
     "data": {
      "text/plain": "                           generation biomass  generation fossil gas  \\\ntime                                                                   \n2016-11-23 03:00:00+00:00                 NaN                 4838.0   \n2017-11-14 11:00:00+00:00                 0.0                10064.0   \n2017-11-14 18:00:00+00:00                 0.0                12336.0   \n2018-06-11 16:00:00+00:00               331.0                 7538.0   \n2018-07-11 07:00:00+00:00                 NaN                    NaN   \n\n                           generation fossil oil  generation nuclear  \\\ntime                                                                   \n2016-11-23 03:00:00+00:00                  269.0              5040.0   \n2017-11-14 11:00:00+00:00                    0.0                 0.0   \n2017-11-14 18:00:00+00:00                    0.0                 0.0   \n2018-06-11 16:00:00+00:00                  300.0              5856.0   \n2018-07-11 07:00:00+00:00                    NaN                 NaN   \n\n                           generation other  generation other renewable  \\\ntime                                                                      \n2016-11-23 03:00:00+00:00              60.0                        85.0   \n2017-11-14 11:00:00+00:00               0.0                         0.0   \n2017-11-14 18:00:00+00:00               0.0                         0.0   \n2018-06-11 16:00:00+00:00              52.0                        96.0   \n2018-07-11 07:00:00+00:00               NaN                         NaN   \n\n                           generation solar  generation waste  \\\ntime                                                            \n2016-11-23 03:00:00+00:00              15.0             227.0   \n2017-11-14 11:00:00+00:00               0.0               0.0   \n2017-11-14 18:00:00+00:00               0.0               0.0   \n2018-06-11 16:00:00+00:00             170.0             269.0   \n2018-07-11 07:00:00+00:00               NaN               NaN   \n\n                           generation wind onshore  forecast solar day ahead  \\\ntime                                                                           \n2016-11-23 03:00:00+00:00                   4598.0                       3.0   \n2017-11-14 11:00:00+00:00                      0.0                    4325.0   \n2017-11-14 18:00:00+00:00                      0.0                     128.0   \n2018-06-11 16:00:00+00:00                   9165.0                     125.0   \n2018-07-11 07:00:00+00:00                      NaN                     849.0   \n\n                           forecast wind onshore day ahead  \\\ntime                                                         \n2016-11-23 03:00:00+00:00                           4566.0   \n2017-11-14 11:00:00+00:00                           7561.0   \n2017-11-14 18:00:00+00:00                           5679.0   \n2018-06-11 16:00:00+00:00                          10329.0   \n2018-07-11 07:00:00+00:00                           9956.0   \n\n                           total load forecast  total load actual  \\\ntime                                                                \n2016-11-23 03:00:00+00:00              23469.0            23112.0   \n2017-11-14 11:00:00+00:00              33805.0                NaN   \n2017-11-14 18:00:00+00:00              35592.0                NaN   \n2018-06-11 16:00:00+00:00              34752.0                NaN   \n2018-07-11 07:00:00+00:00              33938.0                NaN   \n\n                           price day ahead  price actual  generation coal all  \\\ntime                                                                            \n2016-11-23 03:00:00+00:00            43.19         49.11               5447.0   \n2017-11-14 11:00:00+00:00            60.53         66.17                  0.0   \n2017-11-14 18:00:00+00:00            68.05         75.45                  0.0   \n2018-06-11 16:00:00+00:00            69.87         64.93               5866.0   \n2018-07-11 07:00:00+00:00            63.01         69.79                  NaN   \n\n                           generation hydro all  generation non-renewable  \\\ntime                                                                        \n2016-11-23 03:00:00+00:00                2643.0                   15881.0   \n2017-11-14 11:00:00+00:00                   0.0                   10064.0   \n2017-11-14 18:00:00+00:00                   0.0                   12336.0   \n2018-06-11 16:00:00+00:00                5393.0                   19881.0   \n2018-07-11 07:00:00+00:00                   NaN                       NaN   \n\n                           generation renewable  \ntime                                             \n2016-11-23 03:00:00+00:00                   NaN  \n2017-11-14 11:00:00+00:00                   0.0  \n2017-11-14 18:00:00+00:00                   0.0  \n2018-06-11 16:00:00+00:00               15155.0  \n2018-07-11 07:00:00+00:00                   NaN  ",
      "text/html": "<div>\n<style scoped>\n    .dataframe tbody tr th:only-of-type {\n        vertical-align: middle;\n    }\n\n    .dataframe tbody tr th {\n        vertical-align: top;\n    }\n\n    .dataframe thead th {\n        text-align: right;\n    }\n</style>\n<table border=\"1\" class=\"dataframe\">\n  <thead>\n    <tr style=\"text-align: right;\">\n      <th></th>\n      <th>generation biomass</th>\n      <th>generation fossil gas</th>\n      <th>generation fossil oil</th>\n      <th>generation nuclear</th>\n      <th>generation other</th>\n      <th>generation other renewable</th>\n      <th>generation solar</th>\n      <th>generation waste</th>\n      <th>generation wind onshore</th>\n      <th>forecast solar day ahead</th>\n      <th>forecast wind onshore day ahead</th>\n      <th>total load forecast</th>\n      <th>total load actual</th>\n      <th>price day ahead</th>\n      <th>price actual</th>\n      <th>generation coal all</th>\n      <th>generation hydro all</th>\n      <th>generation non-renewable</th>\n      <th>generation renewable</th>\n    </tr>\n    <tr>\n      <th>time</th>\n      <th></th>\n      <th></th>\n      <th></th>\n      <th></th>\n      <th></th>\n      <th></th>\n      <th></th>\n      <th></th>\n      <th></th>\n      <th></th>\n      <th></th>\n      <th></th>\n      <th></th>\n      <th></th>\n      <th></th>\n      <th></th>\n      <th></th>\n      <th></th>\n      <th></th>\n    </tr>\n  </thead>\n  <tbody>\n    <tr>\n      <th>2016-11-23 03:00:00+00:00</th>\n      <td>NaN</td>\n      <td>4838.0</td>\n      <td>269.0</td>\n      <td>5040.0</td>\n      <td>60.0</td>\n      <td>85.0</td>\n      <td>15.0</td>\n      <td>227.0</td>\n      <td>4598.0</td>\n      <td>3.0</td>\n      <td>4566.0</td>\n      <td>23469.0</td>\n      <td>23112.0</td>\n      <td>43.19</td>\n      <td>49.11</td>\n      <td>5447.0</td>\n      <td>2643.0</td>\n      <td>15881.0</td>\n      <td>NaN</td>\n    </tr>\n    <tr>\n      <th>2017-11-14 11:00:00+00:00</th>\n      <td>0.0</td>\n      <td>10064.0</td>\n      <td>0.0</td>\n      <td>0.0</td>\n      <td>0.0</td>\n      <td>0.0</td>\n      <td>0.0</td>\n      <td>0.0</td>\n      <td>0.0</td>\n      <td>4325.0</td>\n      <td>7561.0</td>\n      <td>33805.0</td>\n      <td>NaN</td>\n      <td>60.53</td>\n      <td>66.17</td>\n      <td>0.0</td>\n      <td>0.0</td>\n      <td>10064.0</td>\n      <td>0.0</td>\n    </tr>\n    <tr>\n      <th>2017-11-14 18:00:00+00:00</th>\n      <td>0.0</td>\n      <td>12336.0</td>\n      <td>0.0</td>\n      <td>0.0</td>\n      <td>0.0</td>\n      <td>0.0</td>\n      <td>0.0</td>\n      <td>0.0</td>\n      <td>0.0</td>\n      <td>128.0</td>\n      <td>5679.0</td>\n      <td>35592.0</td>\n      <td>NaN</td>\n      <td>68.05</td>\n      <td>75.45</td>\n      <td>0.0</td>\n      <td>0.0</td>\n      <td>12336.0</td>\n      <td>0.0</td>\n    </tr>\n    <tr>\n      <th>2018-06-11 16:00:00+00:00</th>\n      <td>331.0</td>\n      <td>7538.0</td>\n      <td>300.0</td>\n      <td>5856.0</td>\n      <td>52.0</td>\n      <td>96.0</td>\n      <td>170.0</td>\n      <td>269.0</td>\n      <td>9165.0</td>\n      <td>125.0</td>\n      <td>10329.0</td>\n      <td>34752.0</td>\n      <td>NaN</td>\n      <td>69.87</td>\n      <td>64.93</td>\n      <td>5866.0</td>\n      <td>5393.0</td>\n      <td>19881.0</td>\n      <td>15155.0</td>\n    </tr>\n    <tr>\n      <th>2018-07-11 07:00:00+00:00</th>\n      <td>NaN</td>\n      <td>NaN</td>\n      <td>NaN</td>\n      <td>NaN</td>\n      <td>NaN</td>\n      <td>NaN</td>\n      <td>NaN</td>\n      <td>NaN</td>\n      <td>NaN</td>\n      <td>849.0</td>\n      <td>9956.0</td>\n      <td>33938.0</td>\n      <td>NaN</td>\n      <td>63.01</td>\n      <td>69.79</td>\n      <td>NaN</td>\n      <td>NaN</td>\n      <td>NaN</td>\n      <td>NaN</td>\n    </tr>\n  </tbody>\n</table>\n</div>"
     },
     "execution_count": 74,
     "metadata": {},
     "output_type": "execute_result"
    }
   ],
   "source": [
    "# Display the rows with null values\n",
    "\n",
    "df_energy[df_energy.isnull().any(axis=1)].tail()"
   ]
  },
  {
   "cell_type": "code",
   "execution_count": 75,
   "metadata": {
    "collapsed": false,
    "pycharm": {
     "name": "#%%\n"
    }
   },
   "outputs": [],
   "source": [
    "# Fill null values using interpolation\n",
    "\n",
    "df_energy.interpolate(method='linear', limit_direction='forward', inplace=True, axis=0)"
   ]
  },
  {
   "cell_type": "code",
   "execution_count": 76,
   "metadata": {
    "collapsed": false,
    "pycharm": {
     "name": "#%%\n"
    }
   },
   "outputs": [
    {
     "name": "stdout",
     "output_type": "stream",
     "text": [
      "Non-zero values in each column:\n",
      "\n",
      "generation biomass                 35060\n",
      "generation fossil gas              35063\n",
      "generation fossil oil              35061\n",
      "generation nuclear                 35061\n",
      "generation other                   35060\n",
      "generation other renewable         35061\n",
      "generation solar                   35061\n",
      "generation waste                   35061\n",
      "generation wind onshore            35061\n",
      "forecast solar day ahead           34525\n",
      "forecast wind onshore day ahead    35064\n",
      "total load forecast                35064\n",
      "total load actual                  35064\n",
      "price day ahead                    35064\n",
      "price actual                       35064\n",
      "generation coal all                35061\n",
      "generation hydro all               35061\n",
      "generation non-renewable           35064\n",
      "generation renewable               35061\n",
      "dtype: int64\n"
     ]
    }
   ],
   "source": [
    "# Display the number of non-zero values in each column\n",
    "\n",
    "print('Non-zero values in each column:\\n', df_energy.astype(bool).sum(axis=0), sep='\\n')"
   ]
  },
  {
   "cell_type": "code",
   "execution_count": 77,
   "metadata": {
    "collapsed": false,
    "pycharm": {
     "name": "#%%\n"
    }
   },
   "outputs": [
    {
     "data": {
      "text/plain": "                      dt_iso city_name     temp  temp_min  temp_max  pressure  \\\n0  2015-01-01 00:00:00+01:00  Valencia  270.475   270.475   270.475      1001   \n1  2015-01-01 01:00:00+01:00  Valencia  270.475   270.475   270.475      1001   \n2  2015-01-01 02:00:00+01:00  Valencia  269.686   269.686   269.686      1002   \n3  2015-01-01 03:00:00+01:00  Valencia  269.686   269.686   269.686      1002   \n4  2015-01-01 04:00:00+01:00  Valencia  269.686   269.686   269.686      1002   \n\n   humidity  wind_speed  wind_deg  rain_1h  rain_3h  snow_3h  clouds_all  \\\n0        77           1        62      0.0      0.0      0.0           0   \n1        77           1        62      0.0      0.0      0.0           0   \n2        78           0        23      0.0      0.0      0.0           0   \n3        78           0        23      0.0      0.0      0.0           0   \n4        78           0        23      0.0      0.0      0.0           0   \n\n   weather_id weather_main weather_description  \n0         800        clear        sky is clear  \n1         800        clear        sky is clear  \n2         800        clear        sky is clear  \n3         800        clear        sky is clear  \n4         800        clear        sky is clear  ",
      "text/html": "<div>\n<style scoped>\n    .dataframe tbody tr th:only-of-type {\n        vertical-align: middle;\n    }\n\n    .dataframe tbody tr th {\n        vertical-align: top;\n    }\n\n    .dataframe thead th {\n        text-align: right;\n    }\n</style>\n<table border=\"1\" class=\"dataframe\">\n  <thead>\n    <tr style=\"text-align: right;\">\n      <th></th>\n      <th>dt_iso</th>\n      <th>city_name</th>\n      <th>temp</th>\n      <th>temp_min</th>\n      <th>temp_max</th>\n      <th>pressure</th>\n      <th>humidity</th>\n      <th>wind_speed</th>\n      <th>wind_deg</th>\n      <th>rain_1h</th>\n      <th>rain_3h</th>\n      <th>snow_3h</th>\n      <th>clouds_all</th>\n      <th>weather_id</th>\n      <th>weather_main</th>\n      <th>weather_description</th>\n    </tr>\n  </thead>\n  <tbody>\n    <tr>\n      <th>0</th>\n      <td>2015-01-01 00:00:00+01:00</td>\n      <td>Valencia</td>\n      <td>270.475</td>\n      <td>270.475</td>\n      <td>270.475</td>\n      <td>1001</td>\n      <td>77</td>\n      <td>1</td>\n      <td>62</td>\n      <td>0.0</td>\n      <td>0.0</td>\n      <td>0.0</td>\n      <td>0</td>\n      <td>800</td>\n      <td>clear</td>\n      <td>sky is clear</td>\n    </tr>\n    <tr>\n      <th>1</th>\n      <td>2015-01-01 01:00:00+01:00</td>\n      <td>Valencia</td>\n      <td>270.475</td>\n      <td>270.475</td>\n      <td>270.475</td>\n      <td>1001</td>\n      <td>77</td>\n      <td>1</td>\n      <td>62</td>\n      <td>0.0</td>\n      <td>0.0</td>\n      <td>0.0</td>\n      <td>0</td>\n      <td>800</td>\n      <td>clear</td>\n      <td>sky is clear</td>\n    </tr>\n    <tr>\n      <th>2</th>\n      <td>2015-01-01 02:00:00+01:00</td>\n      <td>Valencia</td>\n      <td>269.686</td>\n      <td>269.686</td>\n      <td>269.686</td>\n      <td>1002</td>\n      <td>78</td>\n      <td>0</td>\n      <td>23</td>\n      <td>0.0</td>\n      <td>0.0</td>\n      <td>0.0</td>\n      <td>0</td>\n      <td>800</td>\n      <td>clear</td>\n      <td>sky is clear</td>\n    </tr>\n    <tr>\n      <th>3</th>\n      <td>2015-01-01 03:00:00+01:00</td>\n      <td>Valencia</td>\n      <td>269.686</td>\n      <td>269.686</td>\n      <td>269.686</td>\n      <td>1002</td>\n      <td>78</td>\n      <td>0</td>\n      <td>23</td>\n      <td>0.0</td>\n      <td>0.0</td>\n      <td>0.0</td>\n      <td>0</td>\n      <td>800</td>\n      <td>clear</td>\n      <td>sky is clear</td>\n    </tr>\n    <tr>\n      <th>4</th>\n      <td>2015-01-01 04:00:00+01:00</td>\n      <td>Valencia</td>\n      <td>269.686</td>\n      <td>269.686</td>\n      <td>269.686</td>\n      <td>1002</td>\n      <td>78</td>\n      <td>0</td>\n      <td>23</td>\n      <td>0.0</td>\n      <td>0.0</td>\n      <td>0.0</td>\n      <td>0</td>\n      <td>800</td>\n      <td>clear</td>\n      <td>sky is clear</td>\n    </tr>\n  </tbody>\n</table>\n</div>"
     },
     "execution_count": 77,
     "metadata": {},
     "output_type": "execute_result"
    }
   ],
   "source": [
    "df_weather.head()"
   ]
  },
  {
   "cell_type": "code",
   "execution_count": 78,
   "metadata": {
    "collapsed": false,
    "pycharm": {
     "name": "#%%\n"
    }
   },
   "outputs": [
    {
     "data": {
      "text/plain": "            temp   temp_min   temp_max    pressure   humidity  wind_speed  \\\ncount  178396.00  178396.00  178396.00   178396.00  178396.00   178396.00   \nmean      289.62     288.33     291.09     1069.26      68.42        2.47   \nstd         8.03       7.96       8.61     5969.63      21.90        2.10   \nmin       262.24     262.24     262.24        0.00       0.00        0.00   \n25%       283.67     282.48     284.65     1013.00      53.00        1.00   \n50%       289.15     288.15     290.15     1018.00      72.00        2.00   \n75%       295.15     293.73     297.15     1022.00      87.00        4.00   \nmax       315.60     315.15     321.15  1008371.00     100.00      133.00   \n\n        wind_deg    rain_1h    rain_3h    snow_3h  clouds_all  weather_id  \ncount  178396.00  178396.00  178396.00  178396.00   178396.00   178396.00  \nmean      166.59       0.08       0.00       0.00       25.07      759.83  \nstd       116.61       0.40       0.01       0.22       30.77      108.73  \nmin         0.00       0.00       0.00       0.00        0.00      200.00  \n25%        55.00       0.00       0.00       0.00        0.00      800.00  \n50%       177.00       0.00       0.00       0.00       20.00      800.00  \n75%       270.00       0.00       0.00       0.00       40.00      801.00  \nmax       360.00      12.00       2.32      21.50      100.00      804.00  ",
      "text/html": "<div>\n<style scoped>\n    .dataframe tbody tr th:only-of-type {\n        vertical-align: middle;\n    }\n\n    .dataframe tbody tr th {\n        vertical-align: top;\n    }\n\n    .dataframe thead th {\n        text-align: right;\n    }\n</style>\n<table border=\"1\" class=\"dataframe\">\n  <thead>\n    <tr style=\"text-align: right;\">\n      <th></th>\n      <th>temp</th>\n      <th>temp_min</th>\n      <th>temp_max</th>\n      <th>pressure</th>\n      <th>humidity</th>\n      <th>wind_speed</th>\n      <th>wind_deg</th>\n      <th>rain_1h</th>\n      <th>rain_3h</th>\n      <th>snow_3h</th>\n      <th>clouds_all</th>\n      <th>weather_id</th>\n    </tr>\n  </thead>\n  <tbody>\n    <tr>\n      <th>count</th>\n      <td>178396.00</td>\n      <td>178396.00</td>\n      <td>178396.00</td>\n      <td>178396.00</td>\n      <td>178396.00</td>\n      <td>178396.00</td>\n      <td>178396.00</td>\n      <td>178396.00</td>\n      <td>178396.00</td>\n      <td>178396.00</td>\n      <td>178396.00</td>\n      <td>178396.00</td>\n    </tr>\n    <tr>\n      <th>mean</th>\n      <td>289.62</td>\n      <td>288.33</td>\n      <td>291.09</td>\n      <td>1069.26</td>\n      <td>68.42</td>\n      <td>2.47</td>\n      <td>166.59</td>\n      <td>0.08</td>\n      <td>0.00</td>\n      <td>0.00</td>\n      <td>25.07</td>\n      <td>759.83</td>\n    </tr>\n    <tr>\n      <th>std</th>\n      <td>8.03</td>\n      <td>7.96</td>\n      <td>8.61</td>\n      <td>5969.63</td>\n      <td>21.90</td>\n      <td>2.10</td>\n      <td>116.61</td>\n      <td>0.40</td>\n      <td>0.01</td>\n      <td>0.22</td>\n      <td>30.77</td>\n      <td>108.73</td>\n    </tr>\n    <tr>\n      <th>min</th>\n      <td>262.24</td>\n      <td>262.24</td>\n      <td>262.24</td>\n      <td>0.00</td>\n      <td>0.00</td>\n      <td>0.00</td>\n      <td>0.00</td>\n      <td>0.00</td>\n      <td>0.00</td>\n      <td>0.00</td>\n      <td>0.00</td>\n      <td>200.00</td>\n    </tr>\n    <tr>\n      <th>25%</th>\n      <td>283.67</td>\n      <td>282.48</td>\n      <td>284.65</td>\n      <td>1013.00</td>\n      <td>53.00</td>\n      <td>1.00</td>\n      <td>55.00</td>\n      <td>0.00</td>\n      <td>0.00</td>\n      <td>0.00</td>\n      <td>0.00</td>\n      <td>800.00</td>\n    </tr>\n    <tr>\n      <th>50%</th>\n      <td>289.15</td>\n      <td>288.15</td>\n      <td>290.15</td>\n      <td>1018.00</td>\n      <td>72.00</td>\n      <td>2.00</td>\n      <td>177.00</td>\n      <td>0.00</td>\n      <td>0.00</td>\n      <td>0.00</td>\n      <td>20.00</td>\n      <td>800.00</td>\n    </tr>\n    <tr>\n      <th>75%</th>\n      <td>295.15</td>\n      <td>293.73</td>\n      <td>297.15</td>\n      <td>1022.00</td>\n      <td>87.00</td>\n      <td>4.00</td>\n      <td>270.00</td>\n      <td>0.00</td>\n      <td>0.00</td>\n      <td>0.00</td>\n      <td>40.00</td>\n      <td>801.00</td>\n    </tr>\n    <tr>\n      <th>max</th>\n      <td>315.60</td>\n      <td>315.15</td>\n      <td>321.15</td>\n      <td>1008371.00</td>\n      <td>100.00</td>\n      <td>133.00</td>\n      <td>360.00</td>\n      <td>12.00</td>\n      <td>2.32</td>\n      <td>21.50</td>\n      <td>100.00</td>\n      <td>804.00</td>\n    </tr>\n  </tbody>\n</table>\n</div>"
     },
     "execution_count": 78,
     "metadata": {},
     "output_type": "execute_result"
    }
   ],
   "source": [
    "df_weather.describe().round(2)"
   ]
  },
  {
   "cell_type": "code",
   "execution_count": 79,
   "metadata": {
    "collapsed": false,
    "pycharm": {
     "name": "#%%\n"
    }
   },
   "outputs": [
    {
     "name": "stdout",
     "output_type": "stream",
     "text": [
      "<class 'pandas.core.frame.DataFrame'>\n",
      "RangeIndex: 178396 entries, 0 to 178395\n",
      "Data columns (total 16 columns):\n",
      " #   Column               Non-Null Count   Dtype  \n",
      "---  ------               --------------   -----  \n",
      " 0   dt_iso               178396 non-null  object \n",
      " 1   city_name            178396 non-null  object \n",
      " 2   temp                 178396 non-null  float64\n",
      " 3   temp_min             178396 non-null  float64\n",
      " 4   temp_max             178396 non-null  float64\n",
      " 5   pressure             178396 non-null  int64  \n",
      " 6   humidity             178396 non-null  int64  \n",
      " 7   wind_speed           178396 non-null  int64  \n",
      " 8   wind_deg             178396 non-null  int64  \n",
      " 9   rain_1h              178396 non-null  float64\n",
      " 10  rain_3h              178396 non-null  float64\n",
      " 11  snow_3h              178396 non-null  float64\n",
      " 12  clouds_all           178396 non-null  int64  \n",
      " 13  weather_id           178396 non-null  int64  \n",
      " 14  weather_main         178396 non-null  object \n",
      " 15  weather_description  178396 non-null  object \n",
      "dtypes: float64(6), int64(6), object(4)\n",
      "memory usage: 21.8+ MB\n"
     ]
    }
   ],
   "source": [
    "# Print the type of each variable in df_weather\n",
    "\n",
    "df_weather.info()"
   ]
  },
  {
   "cell_type": "code",
   "execution_count": 80,
   "metadata": {
    "collapsed": false,
    "pycharm": {
     "name": "#%%\n"
    }
   },
   "outputs": [],
   "source": [
    "def df_convert_dtypes(df, convert_from, convert_to):\n",
    "    cols = df.select_dtypes(include=[convert_from]).columns\n",
    "    for col in cols:\n",
    "        df[col] = df[col].values.astype(convert_to)\n",
    "    return df"
   ]
  },
  {
   "cell_type": "code",
   "execution_count": 81,
   "metadata": {
    "collapsed": false,
    "pycharm": {
     "name": "#%%\n"
    }
   },
   "outputs": [],
   "source": [
    "df_weather = df_convert_dtypes(df_weather, np.int64, np.float64)"
   ]
  },
  {
   "cell_type": "code",
   "execution_count": 82,
   "metadata": {
    "collapsed": false,
    "pycharm": {
     "name": "#%%\n"
    }
   },
   "outputs": [],
   "source": [
    "df_weather['time'] = pd.to_datetime(df_weather['dt_iso'], utc=True, infer_datetime_format=True)\n",
    "df_weather = df_weather.drop(['dt_iso'], axis=1)\n",
    "df_weather = df_weather.set_index('time')"
   ]
  },
  {
   "cell_type": "code",
   "execution_count": 83,
   "metadata": {
    "collapsed": false,
    "pycharm": {
     "name": "#%%\n"
    }
   },
   "outputs": [
    {
     "data": {
      "text/plain": "                  temp    temp_min    temp_max     pressure   humidity  \\\ncity_name                                                                \n Barcelona  289.848248  288.594704  291.021987  1284.010486  73.994221   \nBilbao      286.378489  284.916661  288.036687  1017.567439  79.089455   \nMadrid      288.061071  286.824877  289.155600  1011.838448  59.776932   \nSeville     293.105431  291.184103  295.962431  1018.504711  64.140732   \nValencia    290.780780  290.222277  291.355025  1015.973794  65.145113   \n\n            wind_speed    wind_deg   rain_1h   rain_3h   snow_3h  clouds_all  \\\ncity_name                                                                      \n Barcelona    2.786588  187.188043  0.117079  0.000327  0.000000   23.229648   \nBilbao        1.957470  159.883536  0.123493  0.001034  0.023455   43.960697   \nMadrid        2.441696  173.293159  0.055083  0.000129  0.000029   22.397028   \nSeville       2.483787  151.757179  0.045392  0.000180  0.000000   14.748770   \nValencia      2.692815  160.753820  0.035924  0.000226  0.000154   20.820999   \n\n            weather_id  \ncity_name               \n Barcelona  760.917465  \nBilbao      723.943228  \nMadrid      762.260264  \nSeville     771.409849  \nValencia    781.228283  ",
      "text/html": "<div>\n<style scoped>\n    .dataframe tbody tr th:only-of-type {\n        vertical-align: middle;\n    }\n\n    .dataframe tbody tr th {\n        vertical-align: top;\n    }\n\n    .dataframe thead th {\n        text-align: right;\n    }\n</style>\n<table border=\"1\" class=\"dataframe\">\n  <thead>\n    <tr style=\"text-align: right;\">\n      <th></th>\n      <th>temp</th>\n      <th>temp_min</th>\n      <th>temp_max</th>\n      <th>pressure</th>\n      <th>humidity</th>\n      <th>wind_speed</th>\n      <th>wind_deg</th>\n      <th>rain_1h</th>\n      <th>rain_3h</th>\n      <th>snow_3h</th>\n      <th>clouds_all</th>\n      <th>weather_id</th>\n    </tr>\n    <tr>\n      <th>city_name</th>\n      <th></th>\n      <th></th>\n      <th></th>\n      <th></th>\n      <th></th>\n      <th></th>\n      <th></th>\n      <th></th>\n      <th></th>\n      <th></th>\n      <th></th>\n      <th></th>\n    </tr>\n  </thead>\n  <tbody>\n    <tr>\n      <th>Barcelona</th>\n      <td>289.848248</td>\n      <td>288.594704</td>\n      <td>291.021987</td>\n      <td>1284.010486</td>\n      <td>73.994221</td>\n      <td>2.786588</td>\n      <td>187.188043</td>\n      <td>0.117079</td>\n      <td>0.000327</td>\n      <td>0.000000</td>\n      <td>23.229648</td>\n      <td>760.917465</td>\n    </tr>\n    <tr>\n      <th>Bilbao</th>\n      <td>286.378489</td>\n      <td>284.916661</td>\n      <td>288.036687</td>\n      <td>1017.567439</td>\n      <td>79.089455</td>\n      <td>1.957470</td>\n      <td>159.883536</td>\n      <td>0.123493</td>\n      <td>0.001034</td>\n      <td>0.023455</td>\n      <td>43.960697</td>\n      <td>723.943228</td>\n    </tr>\n    <tr>\n      <th>Madrid</th>\n      <td>288.061071</td>\n      <td>286.824877</td>\n      <td>289.155600</td>\n      <td>1011.838448</td>\n      <td>59.776932</td>\n      <td>2.441696</td>\n      <td>173.293159</td>\n      <td>0.055083</td>\n      <td>0.000129</td>\n      <td>0.000029</td>\n      <td>22.397028</td>\n      <td>762.260264</td>\n    </tr>\n    <tr>\n      <th>Seville</th>\n      <td>293.105431</td>\n      <td>291.184103</td>\n      <td>295.962431</td>\n      <td>1018.504711</td>\n      <td>64.140732</td>\n      <td>2.483787</td>\n      <td>151.757179</td>\n      <td>0.045392</td>\n      <td>0.000180</td>\n      <td>0.000000</td>\n      <td>14.748770</td>\n      <td>771.409849</td>\n    </tr>\n    <tr>\n      <th>Valencia</th>\n      <td>290.780780</td>\n      <td>290.222277</td>\n      <td>291.355025</td>\n      <td>1015.973794</td>\n      <td>65.145113</td>\n      <td>2.692815</td>\n      <td>160.753820</td>\n      <td>0.035924</td>\n      <td>0.000226</td>\n      <td>0.000154</td>\n      <td>20.820999</td>\n      <td>781.228283</td>\n    </tr>\n  </tbody>\n</table>\n</div>"
     },
     "execution_count": 83,
     "metadata": {},
     "output_type": "execute_result"
    }
   ],
   "source": [
    "# Display average weather features grouped by each city\n",
    "\n",
    "mean_weather_by_city = df_weather.groupby('city_name').mean()\n",
    "mean_weather_by_city"
   ]
  },
  {
   "cell_type": "code",
   "execution_count": 84,
   "metadata": {
    "collapsed": false,
    "pycharm": {
     "name": "#%%\n"
    }
   },
   "outputs": [
    {
     "name": "stdout",
     "output_type": "stream",
     "text": [
      "There are 0 missing values or NaNs in df_weather.\n",
      "There are 9935 duplicate rows in df_weather based on all columns.\n"
     ]
    }
   ],
   "source": [
    "# Find NaNs and duplicates in df_weather\n",
    "\n",
    "print('There are {} missing values or NaNs in df_weather.'\n",
    "      .format(df_weather.isnull().values.sum()))\n",
    "\n",
    "temp_weather = df_weather.duplicated(keep='first').sum()\n",
    "\n",
    "print('There are {} duplicate rows in df_weather based on all columns.'\n",
    "      .format(temp_weather))"
   ]
  },
  {
   "cell_type": "code",
   "execution_count": 85,
   "metadata": {
    "collapsed": false,
    "pycharm": {
     "name": "#%%\n"
    }
   },
   "outputs": [
    {
     "name": "stdout",
     "output_type": "stream",
     "text": [
      "There are 35064 observations in df_energy.\n",
      "There are 35145 observations in df_weather about city: Valencia.\n",
      "There are 36267 observations in df_weather about city: Madrid.\n",
      "There are 35951 observations in df_weather about city: Bilbao.\n",
      "There are 35476 observations in df_weather about city:  Barcelona.\n",
      "There are 35557 observations in df_weather about city: Seville.\n"
     ]
    }
   ],
   "source": [
    "# Display the number of rows in each dataframe\n",
    "\n",
    "print('There are {} observations in df_energy.'.format(df_energy.shape[0]))\n",
    "\n",
    "cities = df_weather['city_name'].unique()\n",
    "grouped_weather = df_weather.groupby('city_name')\n",
    "\n",
    "for city in cities:\n",
    "    print('There are {} observations in df_weather'\n",
    "          .format(grouped_weather.get_group('{}'.format(city)).shape[0]),\n",
    "          'about city: {}.'.format(city))"
   ]
  },
  {
   "cell_type": "code",
   "execution_count": 86,
   "metadata": {
    "collapsed": false,
    "pycharm": {
     "name": "#%%\n"
    }
   },
   "outputs": [],
   "source": [
    "# Create df_weather_2 and drop duplicate rows in df_weather\n",
    "\n",
    "df_weather_2 = df_weather.reset_index().drop_duplicates(subset=['time', 'city_name'],\n",
    "                                                        keep='last').set_index('time')\n",
    "\n",
    "df_weather = df_weather.reset_index().drop_duplicates(subset=['time', 'city_name'],\n",
    "                                                      keep='first').set_index('time')"
   ]
  },
  {
   "cell_type": "code",
   "execution_count": 87,
   "metadata": {
    "collapsed": false,
    "pycharm": {
     "name": "#%%\n"
    }
   },
   "outputs": [
    {
     "name": "stdout",
     "output_type": "stream",
     "text": [
      "There are 35064 observations in df_energy.\n",
      "There are 35064 observations in df_weather about city: Valencia.\n",
      "There are 35064 observations in df_weather about city: Madrid.\n",
      "There are 35064 observations in df_weather about city: Bilbao.\n",
      "There are 35064 observations in df_weather about city:  Barcelona.\n",
      "There are 35064 observations in df_weather about city: Seville.\n"
     ]
    }
   ],
   "source": [
    "# Display the number of rows in each dataframe again\n",
    "\n",
    "print('There are {} observations in df_energy.'.format(df_energy.shape[0]))\n",
    "\n",
    "grouped_weather = df_weather.groupby('city_name')\n",
    "\n",
    "for city in cities:\n",
    "    print('There are {} observations in df_weather'\n",
    "          .format(grouped_weather.get_group('{}'.format(city)).shape[0]),\n",
    "          'about city: {}.'.format(city))"
   ]
  },
  {
   "cell_type": "code",
   "execution_count": 88,
   "metadata": {
    "collapsed": false,
    "pycharm": {
     "name": "#%%\n"
    }
   },
   "outputs": [
    {
     "data": {
      "text/plain": "array(['sky is clear', 'few clouds', 'scattered clouds', 'broken clouds',\n       'overcast clouds', 'light rain', 'moderate rain',\n       'heavy intensity rain', 'mist', 'heavy intensity shower rain',\n       'shower rain', 'very heavy rain', 'thunderstorm with heavy rain',\n       'thunderstorm with light rain', 'proximity thunderstorm',\n       'thunderstorm', 'light intensity shower rain',\n       'light intensity drizzle', 'thunderstorm with rain', 'fog',\n       'smoke', 'drizzle', 'heavy intensity drizzle', 'haze',\n       'proximity shower rain', 'light snow', 'rain and snow',\n       'light rain and snow', 'snow', 'sleet', 'rain and drizzle',\n       'light intensity drizzle rain', 'light shower snow',\n       'proximity moderate rain', 'ragged shower rain', 'heavy snow',\n       'sand dust whirls', 'proximity drizzle', 'dust',\n       'light thunderstorm', 'squalls'], dtype=object)"
     },
     "execution_count": 88,
     "metadata": {},
     "output_type": "execute_result"
    }
   ],
   "source": [
    "# Display all the unique values in the column 'weather_description'\n",
    "\n",
    "weather_description_unique = df_weather['weather_description'].unique()\n",
    "weather_description_unique"
   ]
  },
  {
   "cell_type": "code",
   "execution_count": 89,
   "metadata": {
    "collapsed": false,
    "pycharm": {
     "name": "#%%\n"
    }
   },
   "outputs": [
    {
     "data": {
      "text/plain": "array(['clear', 'clouds', 'rain', 'mist', 'thunderstorm', 'drizzle',\n       'fog', 'smoke', 'haze', 'snow', 'dust', 'squall'], dtype=object)"
     },
     "execution_count": 89,
     "metadata": {},
     "output_type": "execute_result"
    }
   ],
   "source": [
    "# Display all the unique values in the column 'weather_main'\n",
    "\n",
    "weather_main_unique = df_weather['weather_main'].unique()\n",
    "weather_main_unique"
   ]
  },
  {
   "cell_type": "code",
   "execution_count": 90,
   "metadata": {
    "collapsed": false,
    "pycharm": {
     "name": "#%%\n"
    }
   },
   "outputs": [
    {
     "data": {
      "text/plain": "array([800., 801., 802., 803., 804., 500., 501., 502., 701., 522., 521.,\n       503., 202., 200., 211., 520., 300., 201., 741., 711., 301., 302.,\n       721., 600., 616., 615., 601., 611., 311., 310., 620., 531., 602.,\n       731., 761., 210., 771.])"
     },
     "execution_count": 90,
     "metadata": {},
     "output_type": "execute_result"
    }
   ],
   "source": [
    "# Display all the unique values in the column 'weather_id'\n",
    "\n",
    "weather_id_unique = df_weather['weather_id'].unique()\n",
    "weather_id_unique"
   ]
  },
  {
   "cell_type": "code",
   "execution_count": 91,
   "metadata": {
    "collapsed": false,
    "pycharm": {
     "name": "#%%\n"
    }
   },
   "outputs": [],
   "source": [
    "# Define a function which will calculate R-squared score for the same column in two dataframes\n",
    "\n",
    "def encode_and_display_r2_score(df_1, df_2, column, categorical=False):\n",
    "    dfs = [df_1, df_2]\n",
    "    if categorical:\n",
    "        for df in dfs:\n",
    "            le = LabelEncoder()\n",
    "            df[column] = le.fit_transform(df[column])\n",
    "    r2 = r2_score(df_1[column], df_2[column])\n",
    "    print(\"R-Squared score of {} is {}\".format(column, r2.round(3)))"
   ]
  },
  {
   "cell_type": "code",
   "execution_count": 92,
   "metadata": {
    "collapsed": false,
    "pycharm": {
     "name": "#%%\n"
    }
   },
   "outputs": [
    {
     "name": "stdout",
     "output_type": "stream",
     "text": [
      "R-Squared score of weather_description is 0.973\n",
      "R-Squared score of weather_main is 0.963\n",
      "R-Squared score of weather_id is 0.921\n"
     ]
    }
   ],
   "source": [
    "# Display the R-squared scores for the columns with qualitative weather descriptions in df_weather and df_weather_2\n",
    "\n",
    "encode_and_display_r2_score(df_weather, df_weather_2, 'weather_description', categorical=True)\n",
    "encode_and_display_r2_score(df_weather, df_weather_2, 'weather_main', categorical=True)\n",
    "encode_and_display_r2_score(df_weather, df_weather_2, 'weather_id')"
   ]
  },
  {
   "cell_type": "code",
   "execution_count": 93,
   "metadata": {
    "collapsed": false,
    "pycharm": {
     "name": "#%%\n"
    }
   },
   "outputs": [],
   "source": [
    "# Drop columns with qualitative weather information\n",
    "df_weather = df_weather.drop(['weather_main', 'weather_id',\n",
    "                              'weather_description'],\n",
    "                             axis=1)"
   ]
  },
  {
   "cell_type": "code",
   "execution_count": 94,
   "metadata": {
    "collapsed": false,
    "pycharm": {
     "name": "#%%\n"
    }
   },
   "outputs": [
    {
     "data": {
      "text/plain": "                          city_name     temp  temp_min  temp_max  pressure  \\\ntime                                                                         \n2014-12-31 23:00:00+00:00  Valencia  270.475   270.475   270.475    1001.0   \n2015-01-01 00:00:00+00:00  Valencia  270.475   270.475   270.475    1001.0   \n2015-01-01 01:00:00+00:00  Valencia  269.686   269.686   269.686    1002.0   \n2015-01-01 02:00:00+00:00  Valencia  269.686   269.686   269.686    1002.0   \n2015-01-01 03:00:00+00:00  Valencia  269.686   269.686   269.686    1002.0   \n\n                           humidity  wind_speed  wind_deg  rain_1h  rain_3h  \\\ntime                                                                          \n2014-12-31 23:00:00+00:00      77.0         1.0      62.0      0.0      0.0   \n2015-01-01 00:00:00+00:00      77.0         1.0      62.0      0.0      0.0   \n2015-01-01 01:00:00+00:00      78.0         0.0      23.0      0.0      0.0   \n2015-01-01 02:00:00+00:00      78.0         0.0      23.0      0.0      0.0   \n2015-01-01 03:00:00+00:00      78.0         0.0      23.0      0.0      0.0   \n\n                           snow_3h  clouds_all  \ntime                                            \n2014-12-31 23:00:00+00:00      0.0         0.0  \n2015-01-01 00:00:00+00:00      0.0         0.0  \n2015-01-01 01:00:00+00:00      0.0         0.0  \n2015-01-01 02:00:00+00:00      0.0         0.0  \n2015-01-01 03:00:00+00:00      0.0         0.0  ",
      "text/html": "<div>\n<style scoped>\n    .dataframe tbody tr th:only-of-type {\n        vertical-align: middle;\n    }\n\n    .dataframe tbody tr th {\n        vertical-align: top;\n    }\n\n    .dataframe thead th {\n        text-align: right;\n    }\n</style>\n<table border=\"1\" class=\"dataframe\">\n  <thead>\n    <tr style=\"text-align: right;\">\n      <th></th>\n      <th>city_name</th>\n      <th>temp</th>\n      <th>temp_min</th>\n      <th>temp_max</th>\n      <th>pressure</th>\n      <th>humidity</th>\n      <th>wind_speed</th>\n      <th>wind_deg</th>\n      <th>rain_1h</th>\n      <th>rain_3h</th>\n      <th>snow_3h</th>\n      <th>clouds_all</th>\n    </tr>\n    <tr>\n      <th>time</th>\n      <th></th>\n      <th></th>\n      <th></th>\n      <th></th>\n      <th></th>\n      <th></th>\n      <th></th>\n      <th></th>\n      <th></th>\n      <th></th>\n      <th></th>\n      <th></th>\n    </tr>\n  </thead>\n  <tbody>\n    <tr>\n      <th>2014-12-31 23:00:00+00:00</th>\n      <td>Valencia</td>\n      <td>270.475</td>\n      <td>270.475</td>\n      <td>270.475</td>\n      <td>1001.0</td>\n      <td>77.0</td>\n      <td>1.0</td>\n      <td>62.0</td>\n      <td>0.0</td>\n      <td>0.0</td>\n      <td>0.0</td>\n      <td>0.0</td>\n    </tr>\n    <tr>\n      <th>2015-01-01 00:00:00+00:00</th>\n      <td>Valencia</td>\n      <td>270.475</td>\n      <td>270.475</td>\n      <td>270.475</td>\n      <td>1001.0</td>\n      <td>77.0</td>\n      <td>1.0</td>\n      <td>62.0</td>\n      <td>0.0</td>\n      <td>0.0</td>\n      <td>0.0</td>\n      <td>0.0</td>\n    </tr>\n    <tr>\n      <th>2015-01-01 01:00:00+00:00</th>\n      <td>Valencia</td>\n      <td>269.686</td>\n      <td>269.686</td>\n      <td>269.686</td>\n      <td>1002.0</td>\n      <td>78.0</td>\n      <td>0.0</td>\n      <td>23.0</td>\n      <td>0.0</td>\n      <td>0.0</td>\n      <td>0.0</td>\n      <td>0.0</td>\n    </tr>\n    <tr>\n      <th>2015-01-01 02:00:00+00:00</th>\n      <td>Valencia</td>\n      <td>269.686</td>\n      <td>269.686</td>\n      <td>269.686</td>\n      <td>1002.0</td>\n      <td>78.0</td>\n      <td>0.0</td>\n      <td>23.0</td>\n      <td>0.0</td>\n      <td>0.0</td>\n      <td>0.0</td>\n      <td>0.0</td>\n    </tr>\n    <tr>\n      <th>2015-01-01 03:00:00+00:00</th>\n      <td>Valencia</td>\n      <td>269.686</td>\n      <td>269.686</td>\n      <td>269.686</td>\n      <td>1002.0</td>\n      <td>78.0</td>\n      <td>0.0</td>\n      <td>23.0</td>\n      <td>0.0</td>\n      <td>0.0</td>\n      <td>0.0</td>\n      <td>0.0</td>\n    </tr>\n  </tbody>\n</table>\n</div>"
     },
     "execution_count": 94,
     "metadata": {},
     "output_type": "execute_result"
    }
   ],
   "source": [
    "df_weather.head()"
   ]
  },
  {
   "cell_type": "code",
   "execution_count": 95,
   "metadata": {
    "collapsed": false,
    "pycharm": {
     "name": "#%%\n"
    }
   },
   "outputs": [
    {
     "name": "stdout",
     "output_type": "stream",
     "text": [
      "R-Squared score of temp is 1.0\n",
      "R-Squared score of temp_min is 1.0\n",
      "R-Squared score of temp_max is 1.0\n",
      "R-Squared score of pressure is 1.0\n",
      "R-Squared score of humidity is 1.0\n",
      "R-Squared score of wind_speed is 1.0\n",
      "R-Squared score of wind_deg is 1.0\n",
      "R-Squared score of rain_1h is 1.0\n",
      "R-Squared score of rain_3h is 1.0\n",
      "R-Squared score of snow_3h is 1.0\n",
      "R-Squared score of clouds_all is 1.0\n"
     ]
    }
   ],
   "source": [
    "# Display the R-squared for all the columns in df_weather and df_weather_2\n",
    "\n",
    "df_weather_cols = df_weather.columns.drop('city_name')\n",
    "\n",
    "for col in df_weather_cols:\n",
    "    encode_and_display_r2_score(df_weather, df_weather_2, col)"
   ]
  },
  {
   "cell_type": "code",
   "execution_count": 96,
   "metadata": {
    "collapsed": false,
    "pycharm": {
     "name": "#%%\n"
    }
   },
   "outputs": [
    {
     "name": "stdout",
     "output_type": "stream",
     "text": [
      "There are 0 duplicate rows in df_weather based on all columns except \"time\" and \"city_name\".\n"
     ]
    }
   ],
   "source": [
    "# Display the number of duplicates in df_weather\n",
    "\n",
    "temp_weather = df_weather.reset_index().duplicated(subset=['time', 'city_name'],\n",
    "                                                   keep='first').sum()\n",
    "print('There are {} duplicate rows in df_weather ' \\\n",
    "      'based on all columns except \"time\" and \"city_name\".'.format(temp_weather))"
   ]
  },
  {
   "cell_type": "code",
   "execution_count": 97,
   "metadata": {
    "collapsed": false,
    "pycharm": {
     "name": "#%%\n"
    }
   },
   "outputs": [
    {
     "data": {
      "text/plain": "<Figure size 432x288 with 1 Axes>",
      "image/png": "[encoded data removed]"
     },
     "metadata": {
      "needs_background": "light"
     },
     "output_type": "display_data"
    }
   ],
   "source": [
    "# Check for outliers in 'pressure' column\n",
    "\n",
    "sns.boxplot(x=df_weather['pressure'])\n",
    "plt.show()"
   ]
  },
  {
   "cell_type": "code",
   "execution_count": 98,
   "metadata": {
    "collapsed": false,
    "pycharm": {
     "name": "#%%\n"
    }
   },
   "outputs": [],
   "source": [
    "# Replace outliers in 'pressure' with NaNs\n",
    "\n",
    "df_weather.loc[df_weather.pressure > 1051, 'pressure'] = np.nan\n",
    "df_weather.loc[df_weather.pressure < 931, 'pressure'] = np.nan"
   ]
  },
  {
   "cell_type": "code",
   "execution_count": 99,
   "metadata": {
    "collapsed": false,
    "pycharm": {
     "name": "#%%\n"
    }
   },
   "outputs": [
    {
     "data": {
      "text/plain": "<Figure size 432x288 with 1 Axes>",
      "image/png": "[encoded data removed]"
     },
     "metadata": {
      "needs_background": "light"
     },
     "output_type": "display_data"
    }
   ],
   "source": [
    "# Check for outliers in 'pressure' column again"
   ]
  },
  {
   "cell_type": "code",
   "execution_count": 100,
   "metadata": {
    "collapsed": false,
    "pycharm": {
     "name": "#%%\n"
    }
   },
   "outputs": [
    {
     "data": {
      "text/plain": "<Figure size 432x288 with 1 Axes>",
      "image/png": "[encoded data removed]"
     },
     "metadata": {
      "needs_background": "light"
     },
     "output_type": "display_data"
    }
   ],
   "source": [
    "# Check for outliers in 'wind_speed' column\n",
    "\n",
    "sns.boxplot(x=df_weather['wind_speed'])\n",
    "plt.show()"
   ]
  },
  {
   "cell_type": "code",
   "execution_count": 101,
   "metadata": {
    "collapsed": false,
    "pycharm": {
     "name": "#%%\n"
    }
   },
   "outputs": [],
   "source": [
    "# Replace outliers in 'wind_speed' with NaNs\n",
    "\n",
    "df_weather.loc[df_weather.wind_speed > 50, 'wind_speed'] = np.nan"
   ]
  },
  {
   "cell_type": "code",
   "execution_count": 102,
   "metadata": {
    "collapsed": false,
    "pycharm": {
     "name": "#%%\n"
    }
   },
   "outputs": [
    {
     "data": {
      "text/plain": "<Figure size 432x288 with 1 Axes>",
      "image/png": "[encoded data removed]"
     },
     "metadata": {
      "needs_background": "light"
     },
     "output_type": "display_data"
    }
   ],
   "source": [
    "# Check for outliers in 'wind_speed' column again\n",
    "\n",
    "sns.boxplot(x=df_weather['wind_speed'])\n",
    "plt.show()"
   ]
  },
  {
   "cell_type": "code",
   "execution_count": 103,
   "metadata": {
    "collapsed": false,
    "pycharm": {
     "name": "#%%\n"
    }
   },
   "outputs": [],
   "source": [
    "# Fill null values using interpolation\n",
    "\n",
    "df_weather.interpolate(method='linear', limit_direction='forward', inplace=True, axis=0)"
   ]
  },
  {
   "cell_type": "code",
   "execution_count": 104,
   "metadata": {
    "collapsed": false,
    "pycharm": {
     "name": "#%%\n"
    }
   },
   "outputs": [],
   "source": [
    "# Split the df_weather into 5 dataframes (one for each city)\n",
    "\n",
    "df_1, df_2, df_3, df_4, df_5 = [x for _, x in df_weather.groupby('city_name')]\n",
    "dfs = [df_1, df_2, df_3, df_4, df_5]"
   ]
  },
  {
   "cell_type": "code",
   "execution_count": 105,
   "outputs": [
    {
     "data": {
      "text/plain": "<bound method NDFrame.head of                             city_name     temp  temp_min  temp_max  pressure  \\\ntime                                                                           \n2014-12-31 23:00:00+00:00   Barcelona  281.625   281.625   281.625    1035.0   \n2015-01-01 00:00:00+00:00   Barcelona  281.625   281.625   281.625    1035.0   \n2015-01-01 01:00:00+00:00   Barcelona  281.286   281.286   281.286    1036.0   \n2015-01-01 02:00:00+00:00   Barcelona  281.286   281.286   281.286    1036.0   \n2015-01-01 03:00:00+00:00   Barcelona  281.286   281.286   281.286    1036.0   \n...                               ...      ...       ...       ...       ...   \n2018-12-31 18:00:00+00:00   Barcelona  284.130   282.150   286.150    1027.0   \n2018-12-31 19:00:00+00:00   Barcelona  282.640   281.150   284.150    1027.0   \n2018-12-31 20:00:00+00:00   Barcelona  282.140   280.150   284.150    1028.0   \n2018-12-31 21:00:00+00:00   Barcelona  281.130   278.150   284.150    1028.0   \n2018-12-31 22:00:00+00:00   Barcelona  280.130   277.150   283.150    1028.0   \n\n                           humidity  wind_speed  wind_deg  rain_1h  rain_3h  \\\ntime                                                                          \n2014-12-31 23:00:00+00:00     100.0         7.0      58.0      0.0      0.0   \n2015-01-01 00:00:00+00:00     100.0         7.0      58.0      0.0      0.0   \n2015-01-01 01:00:00+00:00     100.0         7.0      48.0      0.0      0.0   \n2015-01-01 02:00:00+00:00     100.0         7.0      48.0      0.0      0.0   \n2015-01-01 03:00:00+00:00     100.0         7.0      48.0      0.0      0.0   \n...                             ...         ...       ...      ...      ...   \n2018-12-31 18:00:00+00:00      71.0         1.0     250.0      0.0      0.0   \n2018-12-31 19:00:00+00:00      62.0         3.0     270.0      0.0      0.0   \n2018-12-31 20:00:00+00:00      53.0         4.0     300.0      0.0      0.0   \n2018-12-31 21:00:00+00:00      50.0         5.0     320.0      0.0      0.0   \n2018-12-31 22:00:00+00:00     100.0         5.0     310.0      0.0      0.0   \n\n                           snow_3h  clouds_all  \ntime                                            \n2014-12-31 23:00:00+00:00      0.0         0.0  \n2015-01-01 00:00:00+00:00      0.0         0.0  \n2015-01-01 01:00:00+00:00      0.0         0.0  \n2015-01-01 02:00:00+00:00      0.0         0.0  \n2015-01-01 03:00:00+00:00      0.0         0.0  \n...                            ...         ...  \n2018-12-31 18:00:00+00:00      0.0         0.0  \n2018-12-31 19:00:00+00:00      0.0         0.0  \n2018-12-31 20:00:00+00:00      0.0         0.0  \n2018-12-31 21:00:00+00:00      0.0         0.0  \n2018-12-31 22:00:00+00:00      0.0         0.0  \n\n[35064 rows x 12 columns]>"
     },
     "execution_count": 105,
     "metadata": {},
     "output_type": "execute_result"
    }
   ],
   "source": [
    "df_1.head"
   ],
   "metadata": {
    "collapsed": false,
    "pycharm": {
     "name": "#%%\n"
    }
   }
  },
  {
   "cell_type": "code",
   "execution_count": 106,
   "metadata": {
    "collapsed": false,
    "pycharm": {
     "name": "#%%\n"
    }
   },
   "outputs": [
    {
     "data": {
      "text/plain": "Index(['generation biomass', 'generation fossil gas', 'generation fossil oil',\n       'generation nuclear', 'generation other', 'generation other renewable',\n       'generation solar', 'generation waste', 'generation wind onshore',\n       'forecast solar day ahead', 'forecast wind onshore day ahead',\n       'total load forecast', 'total load actual', 'price day ahead',\n       'price actual', 'generation coal all', 'generation hydro all',\n       'generation non-renewable', 'generation renewable', 'temp_Barcelona',\n       'temp_min_Barcelona', 'temp_max_Barcelona', 'pressure_Barcelona',\n       'humidity_Barcelona', 'wind_speed_Barcelona', 'wind_deg_Barcelona',\n       'rain_1h_Barcelona', 'rain_3h_Barcelona', 'snow_3h_Barcelona',\n       'clouds_all_Barcelona', 'temp_Bilbao', 'temp_min_Bilbao',\n       'temp_max_Bilbao', 'pressure_Bilbao', 'humidity_Bilbao',\n       'wind_speed_Bilbao', 'wind_deg_Bilbao', 'rain_1h_Bilbao',\n       'rain_3h_Bilbao', 'snow_3h_Bilbao', 'clouds_all_Bilbao', 'temp_Madrid',\n       'temp_min_Madrid', 'temp_max_Madrid', 'pressure_Madrid',\n       'humidity_Madrid', 'wind_speed_Madrid', 'wind_deg_Madrid',\n       'rain_1h_Madrid', 'rain_3h_Madrid', 'snow_3h_Madrid',\n       'clouds_all_Madrid', 'temp_Seville', 'temp_min_Seville',\n       'temp_max_Seville', 'pressure_Seville', 'humidity_Seville',\n       'wind_speed_Seville', 'wind_deg_Seville', 'rain_1h_Seville',\n       'rain_3h_Seville', 'snow_3h_Seville', 'clouds_all_Seville',\n       'temp_Valencia', 'temp_min_Valencia', 'temp_max_Valencia',\n       'pressure_Valencia', 'humidity_Valencia', 'wind_speed_Valencia',\n       'wind_deg_Valencia', 'rain_1h_Valencia', 'rain_3h_Valencia',\n       'snow_3h_Valencia', 'clouds_all_Valencia'],\n      dtype='object')"
     },
     "execution_count": 106,
     "metadata": {},
     "output_type": "execute_result"
    }
   ],
   "source": [
    "# Merge all dataframes into the final dataframe\n",
    "\n",
    "df_final = df_energy\n",
    "\n",
    "for df in dfs:\n",
    "    city = df['city_name'].unique()\n",
    "    city_str = str(city).replace(\"'\", \"\").replace('[', '').replace(']', '').replace(' ', '')\n",
    "    df = df.add_suffix('_{}'.format(city_str))\n",
    "    df_final = df_final.merge(df, on=['time'], how='outer')\n",
    "    df_final = df_final.drop('city_name_{}'.format(city_str), axis=1)\n",
    "\n",
    "df_final.columns"
   ]
  },
  {
   "cell_type": "code",
   "execution_count": 107,
   "metadata": {
    "collapsed": false,
    "pycharm": {
     "name": "#%%\n"
    }
   },
   "outputs": [
    {
     "data": {
      "text/plain": "                           generation biomass  generation fossil gas  \\\ntime                                                                   \n2014-12-31 23:00:00+00:00               447.0                 4844.0   \n2015-01-01 00:00:00+00:00               449.0                 5196.0   \n2015-01-01 01:00:00+00:00               448.0                 4857.0   \n2015-01-01 02:00:00+00:00               438.0                 4314.0   \n2015-01-01 03:00:00+00:00               428.0                 4130.0   \n\n                           generation fossil oil  generation nuclear  \\\ntime                                                                   \n2014-12-31 23:00:00+00:00                  162.0              7096.0   \n2015-01-01 00:00:00+00:00                  158.0              7096.0   \n2015-01-01 01:00:00+00:00                  157.0              7099.0   \n2015-01-01 02:00:00+00:00                  160.0              7098.0   \n2015-01-01 03:00:00+00:00                  156.0              7097.0   \n\n                           generation other  generation other renewable  \\\ntime                                                                      \n2014-12-31 23:00:00+00:00              43.0                        73.0   \n2015-01-01 00:00:00+00:00              43.0                        71.0   \n2015-01-01 01:00:00+00:00              43.0                        73.0   \n2015-01-01 02:00:00+00:00              43.0                        75.0   \n2015-01-01 03:00:00+00:00              43.0                        74.0   \n\n                           generation solar  generation waste  \\\ntime                                                            \n2014-12-31 23:00:00+00:00              49.0             196.0   \n2015-01-01 00:00:00+00:00              50.0             195.0   \n2015-01-01 01:00:00+00:00              50.0             196.0   \n2015-01-01 02:00:00+00:00              50.0             191.0   \n2015-01-01 03:00:00+00:00              42.0             189.0   \n\n                           generation wind onshore  forecast solar day ahead  \\\ntime                                                                           \n2014-12-31 23:00:00+00:00                   6378.0                      17.0   \n2015-01-01 00:00:00+00:00                   5890.0                      16.0   \n2015-01-01 01:00:00+00:00                   5461.0                       8.0   \n2015-01-01 02:00:00+00:00                   5238.0                       2.0   \n2015-01-01 03:00:00+00:00                   4935.0                       9.0   \n\n                           ...  temp_min_Valencia  temp_max_Valencia  \\\ntime                       ...                                         \n2014-12-31 23:00:00+00:00  ...            270.475            270.475   \n2015-01-01 00:00:00+00:00  ...            270.475            270.475   \n2015-01-01 01:00:00+00:00  ...            269.686            269.686   \n2015-01-01 02:00:00+00:00  ...            269.686            269.686   \n2015-01-01 03:00:00+00:00  ...            269.686            269.686   \n\n                           pressure_Valencia  humidity_Valencia  \\\ntime                                                              \n2014-12-31 23:00:00+00:00             1001.0               77.0   \n2015-01-01 00:00:00+00:00             1001.0               77.0   \n2015-01-01 01:00:00+00:00             1002.0               78.0   \n2015-01-01 02:00:00+00:00             1002.0               78.0   \n2015-01-01 03:00:00+00:00             1002.0               78.0   \n\n                           wind_speed_Valencia  wind_deg_Valencia  \\\ntime                                                                \n2014-12-31 23:00:00+00:00                  1.0               62.0   \n2015-01-01 00:00:00+00:00                  1.0               62.0   \n2015-01-01 01:00:00+00:00                  0.0               23.0   \n2015-01-01 02:00:00+00:00                  0.0               23.0   \n2015-01-01 03:00:00+00:00                  0.0               23.0   \n\n                           rain_1h_Valencia  rain_3h_Valencia  \\\ntime                                                            \n2014-12-31 23:00:00+00:00               0.0               0.0   \n2015-01-01 00:00:00+00:00               0.0               0.0   \n2015-01-01 01:00:00+00:00               0.0               0.0   \n2015-01-01 02:00:00+00:00               0.0               0.0   \n2015-01-01 03:00:00+00:00               0.0               0.0   \n\n                           snow_3h_Valencia  clouds_all_Valencia  \ntime                                                              \n2014-12-31 23:00:00+00:00               0.0                  0.0  \n2015-01-01 00:00:00+00:00               0.0                  0.0  \n2015-01-01 01:00:00+00:00               0.0                  0.0  \n2015-01-01 02:00:00+00:00               0.0                  0.0  \n2015-01-01 03:00:00+00:00               0.0                  0.0  \n\n[5 rows x 74 columns]",
      "text/html": "<div>\n<style scoped>\n    .dataframe tbody tr th:only-of-type {\n        vertical-align: middle;\n    }\n\n    .dataframe tbody tr th {\n        vertical-align: top;\n    }\n\n    .dataframe thead th {\n        text-align: right;\n    }\n</style>\n<table border=\"1\" class=\"dataframe\">\n  <thead>\n    <tr style=\"text-align: right;\">\n      <th></th>\n      <th>generation biomass</th>\n      <th>generation fossil gas</th>\n      <th>generation fossil oil</th>\n      <th>generation nuclear</th>\n      <th>generation other</th>\n      <th>generation other renewable</th>\n      <th>generation solar</th>\n      <th>generation waste</th>\n      <th>generation wind onshore</th>\n      <th>forecast solar day ahead</th>\n      <th>...</th>\n      <th>temp_min_Valencia</th>\n      <th>temp_max_Valencia</th>\n      <th>pressure_Valencia</th>\n      <th>humidity_Valencia</th>\n      <th>wind_speed_Valencia</th>\n      <th>wind_deg_Valencia</th>\n      <th>rain_1h_Valencia</th>\n      <th>rain_3h_Valencia</th>\n      <th>snow_3h_Valencia</th>\n      <th>clouds_all_Valencia</th>\n    </tr>\n    <tr>\n      <th>time</th>\n      <th></th>\n      <th></th>\n      <th></th>\n      <th></th>\n      <th></th>\n      <th></th>\n      <th></th>\n      <th></th>\n      <th></th>\n      <th></th>\n      <th></th>\n      <th></th>\n      <th></th>\n      <th></th>\n      <th></th>\n      <th></th>\n      <th></th>\n      <th></th>\n      <th></th>\n      <th></th>\n      <th></th>\n    </tr>\n  </thead>\n  <tbody>\n    <tr>\n      <th>2014-12-31 23:00:00+00:00</th>\n      <td>447.0</td>\n      <td>4844.0</td>\n      <td>162.0</td>\n      <td>7096.0</td>\n      <td>43.0</td>\n      <td>73.0</td>\n      <td>49.0</td>\n      <td>196.0</td>\n      <td>6378.0</td>\n      <td>17.0</td>\n      <td>...</td>\n      <td>270.475</td>\n      <td>270.475</td>\n      <td>1001.0</td>\n      <td>77.0</td>\n      <td>1.0</td>\n      <td>62.0</td>\n      <td>0.0</td>\n      <td>0.0</td>\n      <td>0.0</td>\n      <td>0.0</td>\n    </tr>\n    <tr>\n      <th>2015-01-01 00:00:00+00:00</th>\n      <td>449.0</td>\n      <td>5196.0</td>\n      <td>158.0</td>\n      <td>7096.0</td>\n      <td>43.0</td>\n      <td>71.0</td>\n      <td>50.0</td>\n      <td>195.0</td>\n      <td>5890.0</td>\n      <td>16.0</td>\n      <td>...</td>\n      <td>270.475</td>\n      <td>270.475</td>\n      <td>1001.0</td>\n      <td>77.0</td>\n      <td>1.0</td>\n      <td>62.0</td>\n      <td>0.0</td>\n      <td>0.0</td>\n      <td>0.0</td>\n      <td>0.0</td>\n    </tr>\n    <tr>\n      <th>2015-01-01 01:00:00+00:00</th>\n      <td>448.0</td>\n      <td>4857.0</td>\n      <td>157.0</td>\n      <td>7099.0</td>\n      <td>43.0</td>\n      <td>73.0</td>\n      <td>50.0</td>\n      <td>196.0</td>\n      <td>5461.0</td>\n      <td>8.0</td>\n      <td>...</td>\n      <td>269.686</td>\n      <td>269.686</td>\n      <td>1002.0</td>\n      <td>78.0</td>\n      <td>0.0</td>\n      <td>23.0</td>\n      <td>0.0</td>\n      <td>0.0</td>\n      <td>0.0</td>\n      <td>0.0</td>\n    </tr>\n    <tr>\n      <th>2015-01-01 02:00:00+00:00</th>\n      <td>438.0</td>\n      <td>4314.0</td>\n      <td>160.0</td>\n      <td>7098.0</td>\n      <td>43.0</td>\n      <td>75.0</td>\n      <td>50.0</td>\n      <td>191.0</td>\n      <td>5238.0</td>\n      <td>2.0</td>\n      <td>...</td>\n      <td>269.686</td>\n      <td>269.686</td>\n      <td>1002.0</td>\n      <td>78.0</td>\n      <td>0.0</td>\n      <td>23.0</td>\n      <td>0.0</td>\n      <td>0.0</td>\n      <td>0.0</td>\n      <td>0.0</td>\n    </tr>\n    <tr>\n      <th>2015-01-01 03:00:00+00:00</th>\n      <td>428.0</td>\n      <td>4130.0</td>\n      <td>156.0</td>\n      <td>7097.0</td>\n      <td>43.0</td>\n      <td>74.0</td>\n      <td>42.0</td>\n      <td>189.0</td>\n      <td>4935.0</td>\n      <td>9.0</td>\n      <td>...</td>\n      <td>269.686</td>\n      <td>269.686</td>\n      <td>1002.0</td>\n      <td>78.0</td>\n      <td>0.0</td>\n      <td>23.0</td>\n      <td>0.0</td>\n      <td>0.0</td>\n      <td>0.0</td>\n      <td>0.0</td>\n    </tr>\n  </tbody>\n</table>\n<p>5 rows × 74 columns</p>\n</div>"
     },
     "execution_count": 107,
     "metadata": {},
     "output_type": "execute_result"
    }
   ],
   "source": [
    "df_final.head()"
   ]
  },
  {
   "cell_type": "code",
   "execution_count": 108,
   "metadata": {
    "collapsed": false,
    "pycharm": {
     "name": "#%%\n"
    }
   },
   "outputs": [
    {
     "name": "stdout",
     "output_type": "stream",
     "text": [
      "There are 0 missing values or NaNs in df_final.\n",
      "\n",
      "There are 0 duplicate rows in df_energy based on all columns.\n"
     ]
    }
   ],
   "source": [
    "# Display the number of NaNs and duplicates in the final dataframe\n",
    "\n",
    "print('There are {} missing values or NaNs in df_final.'\n",
    "      .format(df_final.isnull().values.sum()))\n",
    "\n",
    "temp_final = df_final.duplicated(keep='first').sum()\n",
    "\n",
    "print('\\nThere are {} duplicate rows in df_energy based on all columns.'\n",
    "      .format(temp_final))"
   ]
  },
  {
   "cell_type": "code",
   "execution_count": 109,
   "outputs": [],
   "source": [
    "cities = ['Barcelona', 'Bilbao', 'Madrid', 'Seville', 'Valencia']\n",
    "\n",
    "for city in cities:\n",
    "    df_final = df_final.drop(['rain_3h_{}'.format(city)], axis=1)"
   ],
   "metadata": {
    "collapsed": false,
    "pycharm": {
     "name": "#%%\n"
    }
   }
  },
  {
   "cell_type": "code",
   "execution_count": 110,
   "outputs": [],
   "source": [
    "# Generate 'hour', 'weekday' and 'month' features\n",
    "\n",
    "for i in range(len(df_final)):\n",
    "    position = df_final.index[i]\n",
    "    hour = position.hour\n",
    "    weekday = position.weekday()\n",
    "    month = position.month\n",
    "    df_final.loc[position, 'hour'] = hour\n",
    "    df_final.loc[position, 'weekday'] = weekday\n",
    "    df_final.loc[position, 'month'] = month"
   ],
   "metadata": {
    "collapsed": false,
    "pycharm": {
     "name": "#%%\n"
    }
   }
  },
  {
   "cell_type": "code",
   "execution_count": 111,
   "outputs": [],
   "source": [
    "# Generate 'business hour' feature\n",
    "\n",
    "for i in range(len(df_final)):\n",
    "    position = df_final.index[i]\n",
    "    hour = position.hour\n",
    "    if 8 <= hour <= 18:\n",
    "        df_final.loc[position, 'business hour'] = 1\n",
    "    else:\n",
    "        df_final.loc[position, 'business hour'] = 0"
   ],
   "metadata": {
    "collapsed": false,
    "pycharm": {
     "name": "#%%\n"
    }
   }
  },
  {
   "cell_type": "code",
   "execution_count": 112,
   "outputs": [],
   "source": [
    "# Generate 'weekend' feature\n",
    "\n",
    "for i in range(len(df_final)):\n",
    "    position = df_final.index[i]\n",
    "    weekday = position.weekday()\n",
    "    if (weekday == 7):\n",
    "        df_final.loc[position, 'weekday'] = 2\n",
    "    elif (weekday == 6):\n",
    "        df_final.loc[position, 'weekday'] = 1\n",
    "    else:\n",
    "        df_final.loc[position, 'weekday'] = 0"
   ],
   "metadata": {
    "collapsed": false,
    "pycharm": {
     "name": "#%%\n"
    }
   }
  },
  {
   "cell_type": "code",
   "execution_count": 60,
   "metadata": {
    "collapsed": false,
    "pycharm": {
     "name": "#%%\n"
    }
   },
   "outputs": [],
   "source": [
    "# Generate cities list\n",
    "\n",
    "cities = ['Barcelona', 'Bilbao', 'Madrid', 'Seville', 'Valencia']"
   ]
  },
  {
   "cell_type": "code",
   "execution_count": 61,
   "metadata": {
    "collapsed": false,
    "pycharm": {
     "name": "#%%\n"
    }
   },
   "outputs": [],
   "source": [
    "# Calculate the weight of every city\n",
    "\n",
    "total_pop = 6155116 + 5179243 + 1645342 + 1305342 + 987000\n",
    "\n",
    "weight_Madrid = 6155116 / total_pop\n",
    "weight_Barcelona = 5179243 / total_pop\n",
    "weight_Valencia = 1645342 / total_pop\n",
    "weight_Seville = 1305342 / total_pop\n",
    "weight_Bilbao = 987000 / total_pop"
   ]
  },
  {
   "cell_type": "code",
   "execution_count": 62,
   "metadata": {
    "collapsed": false,
    "pycharm": {
     "name": "#%%\n"
    }
   },
   "outputs": [],
   "source": [
    "cities_weights = {'Madrid': weight_Madrid,\n",
    "                  'Barcelona': weight_Barcelona,\n",
    "                  'Valencia': weight_Valencia,\n",
    "                  'Seville': weight_Seville,\n",
    "                  'Bilbao': weight_Bilbao}"
   ]
  },
  {
   "cell_type": "code",
   "execution_count": 63,
   "metadata": {
    "collapsed": false,
    "pycharm": {
     "name": "#%%\n"
    }
   },
   "outputs": [
    {
     "data": {
      "text/plain": "['generation biomass',\n 'generation fossil gas',\n 'generation fossil oil',\n 'generation nuclear',\n 'generation other',\n 'generation other renewable',\n 'generation solar',\n 'generation waste',\n 'generation wind onshore',\n 'generation coal all',\n 'generation hydro all',\n 'generation non-renewable',\n 'generation renewable']"
     },
     "execution_count": 63,
     "metadata": {},
     "output_type": "execute_result"
    }
   ],
   "source": [
    "features_list = [c for c in df_final.columns if c.startswith('generation')]\n",
    "features_list"
   ]
  },
  {
   "cell_type": "code",
   "execution_count": 64,
   "metadata": {
    "collapsed": false,
    "pycharm": {
     "name": "#%%\n"
    }
   },
   "outputs": [],
   "source": [
    "for city, weight in cities_weights.items():\n",
    "    for feature in features_list:\n",
    "        df_final[feature + '_' + city] = df_final[feature]*weight"
   ]
  },
  {
   "cell_type": "code",
   "execution_count": 65,
   "metadata": {
    "collapsed": false,
    "pycharm": {
     "name": "#%%\n"
    }
   },
   "outputs": [],
   "source": [
    "df_final['temp_min'] = (df_final['temp_min_Madrid'] + df_final['temp_min_Bilbao'] + df_final['temp_min_Barcelona'] + df_final['temp_min_Seville'] + df_final['temp_min_Valencia'])/5\n",
    "df_final['temp'] = (df_final['temp_Madrid'] + df_final['temp_Bilbao'] + df_final['temp_Barcelona'] + df_final['temp_Seville'] + df_final['temp_Valencia'])/5\n",
    "df_final['temp_max'] = (df_final['temp_max_Madrid'] + df_final['temp_max_Bilbao'] + df_final['temp_max_Barcelona'] + df_final['temp_max_Seville'] + df_final['temp_max_Valencia'])/5\n",
    "df_final['pressure'] = (df_final['pressure_Madrid'] + df_final['pressure_Bilbao'] + df_final['pressure_Barcelona'] + df_final['pressure_Seville'] + df_final['pressure_Valencia'])/5\n",
    "df_final['humidity'] = (df_final['humidity_Madrid'] + df_final['humidity_Bilbao'] + df_final['humidity_Barcelona'] + df_final['humidity_Seville'] + df_final['humidity_Valencia'])/5\n",
    "df_final['wind_speed'] = (df_final['wind_speed_Madrid'] + df_final['wind_speed_Bilbao'] + df_final['wind_speed_Barcelona'] + df_final['wind_speed_Seville'] + df_final['wind_speed_Valencia'])/5\n",
    "df_final['rain_1h'] = (df_final['rain_1h_Madrid'] + df_final['rain_1h_Bilbao'] + df_final['rain_1h_Barcelona'] + df_final['rain_1h_Seville'] + df_final['rain_1h_Valencia'])/5\n",
    "df_final['snow_3h'] = (df_final['snow_3h_Madrid'] + df_final['snow_3h_Bilbao'] + df_final['snow_3h_Barcelona'] + df_final['snow_3h_Seville'] + df_final['snow_3h_Valencia'])/5\n",
    "df_final['clouds_all'] = (df_final['clouds_all_Madrid'] + df_final['clouds_all_Bilbao'] + df_final['clouds_all_Barcelona'] + df_final['clouds_all_Seville'] + df_final['clouds_all_Valencia'])/5"
   ]
  },
  {
   "cell_type": "code",
   "execution_count": 66,
   "metadata": {
    "collapsed": false,
    "pycharm": {
     "name": "#%%\n"
    }
   },
   "outputs": [
    {
     "data": {
      "text/plain": "                           generation biomass  generation fossil gas  \\\ntime                                                                   \n2014-12-31 23:00:00+00:00               447.0                 4844.0   \n2015-01-01 00:00:00+00:00               449.0                 5196.0   \n2015-01-01 01:00:00+00:00               448.0                 4857.0   \n2015-01-01 02:00:00+00:00               438.0                 4314.0   \n2015-01-01 03:00:00+00:00               428.0                 4130.0   \n\n                           generation fossil oil  generation nuclear  \\\ntime                                                                   \n2014-12-31 23:00:00+00:00                  162.0              7096.0   \n2015-01-01 00:00:00+00:00                  158.0              7096.0   \n2015-01-01 01:00:00+00:00                  157.0              7099.0   \n2015-01-01 02:00:00+00:00                  160.0              7098.0   \n2015-01-01 03:00:00+00:00                  156.0              7097.0   \n\n                           generation other  generation other renewable  \\\ntime                                                                      \n2014-12-31 23:00:00+00:00              43.0                        73.0   \n2015-01-01 00:00:00+00:00              43.0                        71.0   \n2015-01-01 01:00:00+00:00              43.0                        73.0   \n2015-01-01 02:00:00+00:00              43.0                        75.0   \n2015-01-01 03:00:00+00:00              43.0                        74.0   \n\n                           generation solar  generation waste  \\\ntime                                                            \n2014-12-31 23:00:00+00:00              49.0             196.0   \n2015-01-01 00:00:00+00:00              50.0             195.0   \n2015-01-01 01:00:00+00:00              50.0             196.0   \n2015-01-01 02:00:00+00:00              50.0             191.0   \n2015-01-01 03:00:00+00:00              42.0             189.0   \n\n                           generation wind onshore  forecast solar day ahead  \\\ntime                                                                           \n2014-12-31 23:00:00+00:00                   6378.0                      17.0   \n2015-01-01 00:00:00+00:00                   5890.0                      16.0   \n2015-01-01 01:00:00+00:00                   5461.0                       8.0   \n2015-01-01 02:00:00+00:00                   5238.0                       2.0   \n2015-01-01 03:00:00+00:00                   4935.0                       9.0   \n\n                           ...  generation renewable_Bilbao  temp_min    temp  \\\ntime                       ...                                                  \n2014-12-31 23:00:00+00:00  ...                       695.40    272.49  272.49   \n2015-01-01 00:00:00+00:00  ...                       649.32    272.51  272.51   \n2015-01-01 01:00:00+00:00  ...                       616.55    272.10  272.10   \n2015-01-01 02:00:00+00:00  ...                       583.72    272.09  272.09   \n2015-01-01 03:00:00+00:00  ...                       580.23    272.15  272.15   \n\n                           temp_max  pressure  humidity  wind_speed  rain_1h  \\\ntime                                                                           \n2014-12-31 23:00:00+00:00    272.49    1016.4      82.4         2.0      0.0   \n2015-01-01 00:00:00+00:00    272.51    1016.2      82.4         2.0      0.0   \n2015-01-01 01:00:00+00:00    272.10    1016.8      82.0         2.4      0.0   \n2015-01-01 02:00:00+00:00    272.09    1016.6      82.0         2.4      0.0   \n2015-01-01 03:00:00+00:00    272.15    1016.6      82.0         2.4      0.0   \n\n                           snow_3h  clouds_all  \ntime                                            \n2014-12-31 23:00:00+00:00      0.0         0.0  \n2015-01-01 00:00:00+00:00      0.0         0.0  \n2015-01-01 01:00:00+00:00      0.0         0.0  \n2015-01-01 02:00:00+00:00      0.0         0.0  \n2015-01-01 03:00:00+00:00      0.0         0.0  \n\n[5 rows x 147 columns]",
      "text/html": "<div>\n<style scoped>\n    .dataframe tbody tr th:only-of-type {\n        vertical-align: middle;\n    }\n\n    .dataframe tbody tr th {\n        vertical-align: top;\n    }\n\n    .dataframe thead th {\n        text-align: right;\n    }\n</style>\n<table border=\"1\" class=\"dataframe\">\n  <thead>\n    <tr style=\"text-align: right;\">\n      <th></th>\n      <th>generation biomass</th>\n      <th>generation fossil gas</th>\n      <th>generation fossil oil</th>\n      <th>generation nuclear</th>\n      <th>generation other</th>\n      <th>generation other renewable</th>\n      <th>generation solar</th>\n      <th>generation waste</th>\n      <th>generation wind onshore</th>\n      <th>forecast solar day ahead</th>\n      <th>...</th>\n      <th>generation renewable_Bilbao</th>\n      <th>temp_min</th>\n      <th>temp</th>\n      <th>temp_max</th>\n      <th>pressure</th>\n      <th>humidity</th>\n      <th>wind_speed</th>\n      <th>rain_1h</th>\n      <th>snow_3h</th>\n      <th>clouds_all</th>\n    </tr>\n    <tr>\n      <th>time</th>\n      <th></th>\n      <th></th>\n      <th></th>\n      <th></th>\n      <th></th>\n      <th></th>\n      <th></th>\n      <th></th>\n      <th></th>\n      <th></th>\n      <th></th>\n      <th></th>\n      <th></th>\n      <th></th>\n      <th></th>\n      <th></th>\n      <th></th>\n      <th></th>\n      <th></th>\n      <th></th>\n      <th></th>\n    </tr>\n  </thead>\n  <tbody>\n    <tr>\n      <th>2014-12-31 23:00:00+00:00</th>\n      <td>447.0</td>\n      <td>4844.0</td>\n      <td>162.0</td>\n      <td>7096.0</td>\n      <td>43.0</td>\n      <td>73.0</td>\n      <td>49.0</td>\n      <td>196.0</td>\n      <td>6378.0</td>\n      <td>17.0</td>\n      <td>...</td>\n      <td>695.40</td>\n      <td>272.49</td>\n      <td>272.49</td>\n      <td>272.49</td>\n      <td>1016.4</td>\n      <td>82.4</td>\n      <td>2.0</td>\n      <td>0.0</td>\n      <td>0.0</td>\n      <td>0.0</td>\n    </tr>\n    <tr>\n      <th>2015-01-01 00:00:00+00:00</th>\n      <td>449.0</td>\n      <td>5196.0</td>\n      <td>158.0</td>\n      <td>7096.0</td>\n      <td>43.0</td>\n      <td>71.0</td>\n      <td>50.0</td>\n      <td>195.0</td>\n      <td>5890.0</td>\n      <td>16.0</td>\n      <td>...</td>\n      <td>649.32</td>\n      <td>272.51</td>\n      <td>272.51</td>\n      <td>272.51</td>\n      <td>1016.2</td>\n      <td>82.4</td>\n      <td>2.0</td>\n      <td>0.0</td>\n      <td>0.0</td>\n      <td>0.0</td>\n    </tr>\n    <tr>\n      <th>2015-01-01 01:00:00+00:00</th>\n      <td>448.0</td>\n      <td>4857.0</td>\n      <td>157.0</td>\n      <td>7099.0</td>\n      <td>43.0</td>\n      <td>73.0</td>\n      <td>50.0</td>\n      <td>196.0</td>\n      <td>5461.0</td>\n      <td>8.0</td>\n      <td>...</td>\n      <td>616.55</td>\n      <td>272.10</td>\n      <td>272.10</td>\n      <td>272.10</td>\n      <td>1016.8</td>\n      <td>82.0</td>\n      <td>2.4</td>\n      <td>0.0</td>\n      <td>0.0</td>\n      <td>0.0</td>\n    </tr>\n    <tr>\n      <th>2015-01-01 02:00:00+00:00</th>\n      <td>438.0</td>\n      <td>4314.0</td>\n      <td>160.0</td>\n      <td>7098.0</td>\n      <td>43.0</td>\n      <td>75.0</td>\n      <td>50.0</td>\n      <td>191.0</td>\n      <td>5238.0</td>\n      <td>2.0</td>\n      <td>...</td>\n      <td>583.72</td>\n      <td>272.09</td>\n      <td>272.09</td>\n      <td>272.09</td>\n      <td>1016.6</td>\n      <td>82.0</td>\n      <td>2.4</td>\n      <td>0.0</td>\n      <td>0.0</td>\n      <td>0.0</td>\n    </tr>\n    <tr>\n      <th>2015-01-01 03:00:00+00:00</th>\n      <td>428.0</td>\n      <td>4130.0</td>\n      <td>156.0</td>\n      <td>7097.0</td>\n      <td>43.0</td>\n      <td>74.0</td>\n      <td>42.0</td>\n      <td>189.0</td>\n      <td>4935.0</td>\n      <td>9.0</td>\n      <td>...</td>\n      <td>580.23</td>\n      <td>272.15</td>\n      <td>272.15</td>\n      <td>272.15</td>\n      <td>1016.6</td>\n      <td>82.0</td>\n      <td>2.4</td>\n      <td>0.0</td>\n      <td>0.0</td>\n      <td>0.0</td>\n    </tr>\n  </tbody>\n</table>\n<p>5 rows × 147 columns</p>\n</div>"
     },
     "execution_count": 66,
     "metadata": {},
     "output_type": "execute_result"
    }
   ],
   "source": [
    "df_final.head().round(2)"
   ]
  },
  {
   "cell_type": "code",
   "execution_count": 67,
   "outputs": [],
   "source": [
    "scaler = MinMaxScaler()"
   ],
   "metadata": {
    "collapsed": false,
    "pycharm": {
     "name": "#%%\n"
    }
   }
  },
  {
   "cell_type": "code",
   "execution_count": 68,
   "outputs": [],
   "source": [
    "columns = ['temp_min', 'temp', 'temp_max', 'pressure', 'humidity', 'wind_speed', 'rain_1h', 'snow_3h',\n",
    "         'clouds_all', 'generation solar', 'generation hydro all', 'generation wind onshore',\n",
    "         'generation other renewable', 'generation biomass', 'generation fossil gas', 'generation fossil oil', 'generation nuclear', 'generation other']"
   ],
   "metadata": {
    "collapsed": false,
    "pycharm": {
     "name": "#%%\n"
    }
   }
  },
  {
   "cell_type": "code",
   "execution_count": 69,
   "outputs": [],
   "source": [
    "nn = df_final[['temp_min', 'temp', 'temp_max', 'pressure', 'humidity', 'wind_speed', 'rain_1h', 'snow_3h',\n",
    "         'clouds_all', 'generation solar', 'generation hydro all', 'generation wind onshore',\n",
    "         'generation other renewable', 'generation biomass', 'generation fossil gas', 'generation fossil oil', 'generation nuclear', 'generation other']]\n",
    "\n",
    "nn = scaler.fit_transform(nn)"
   ],
   "metadata": {
    "collapsed": false,
    "pycharm": {
     "name": "#%%\n"
    }
   }
  },
  {
   "cell_type": "code",
   "execution_count": 70,
   "outputs": [],
   "source": [
    "dataset = pd.DataFrame(nn, columns=columns)"
   ],
   "metadata": {
    "collapsed": false,
    "pycharm": {
     "name": "#%%\n"
    }
   }
  },
  {
   "cell_type": "code",
   "execution_count": 71,
   "outputs": [],
   "source": [
    "inputs = ['temp_min', 'temp', 'temp_max', 'pressure', 'humidity', 'wind_speed', 'rain_1h', 'snow_3h']\n",
    "outputs = ['generation solar', 'generation hydro all', 'generation wind onshore', 'generation other renewable']\n",
    "\n",
    "x = dataset[inputs]\n",
    "y = dataset[outputs]"
   ],
   "metadata": {
    "collapsed": false,
    "pycharm": {
     "name": "#%%\n"
    }
   }
  },
  {
   "cell_type": "code",
   "execution_count": 72,
   "outputs": [],
   "source": [
    "tfk = tf.keras\n",
    "tf.keras.backend.set_floatx(\"float64\")\n",
    "tfd = tfp.distributions"
   ],
   "metadata": {
    "collapsed": false,
    "pycharm": {
     "name": "#%%\n"
    }
   }
  },
  {
   "cell_type": "code",
   "execution_count": 73,
   "outputs": [
    {
     "data": {
      "text/plain": "[]"
     },
     "execution_count": 73,
     "metadata": {},
     "output_type": "execute_result"
    }
   ],
   "source": [
    "tf.config.list_physical_devices(\"GPU\")"
   ],
   "metadata": {
    "collapsed": false,
    "pycharm": {
     "name": "#%%\n"
    }
   }
  },
  {
   "cell_type": "code",
   "execution_count": 74,
   "outputs": [],
   "source": [
    "# Define helper functions.\n",
    "detector = IsolationForest(n_estimators=1000, random_state=42)\n",
    "neg_log_likelihood = lambda x, rv_x: -rv_x.log_prob(x)"
   ],
   "metadata": {
    "collapsed": false,
    "pycharm": {
     "name": "#%%\n"
    }
   }
  },
  {
   "cell_type": "code",
   "execution_count": 75,
   "outputs": [],
   "source": [
    "# Define some hyperparameters.\n",
    "n_epochs, n_batches, n_samples = 50, 16, dataset.shape[0]\n",
    "buffer_size, batch_size = n_samples, np.floor(n_samples/n_batches)"
   ],
   "metadata": {
    "collapsed": false,
    "pycharm": {
     "name": "#%%\n"
    }
   }
  },
  {
   "cell_type": "code",
   "execution_count": 76,
   "outputs": [
    {
     "data": {
      "text/plain": "24544"
     },
     "execution_count": 76,
     "metadata": {},
     "output_type": "execute_result"
    }
   ],
   "source": [
    "# Define training and test data sizes.\n",
    "n_train = int(0.70*dataset.shape[0])\n",
    "n_train"
   ],
   "metadata": {
    "collapsed": false,
    "pycharm": {
     "name": "#%%\n"
    }
   }
  },
  {
   "cell_type": "code",
   "execution_count": 77,
   "outputs": [],
   "source": [
    "# Define dataset instance.\n",
    "data = tf.data.Dataset.from_tensor_slices((dataset[inputs].values, dataset[outputs].values))\n",
    "data = data.shuffle(n_samples, reshuffle_each_iteration=True)"
   ],
   "metadata": {
    "collapsed": false,
    "pycharm": {
     "name": "#%%\n"
    }
   }
  },
  {
   "cell_type": "code",
   "execution_count": 78,
   "outputs": [],
   "source": [
    "# Define train and test data instances.\n",
    "data_train = data.take(n_train).batch(batch_size).repeat(n_epochs)\n",
    "data_test = data.skip(n_train).batch(1)"
   ],
   "metadata": {
    "collapsed": false,
    "pycharm": {
     "name": "#%%\n"
    }
   }
  },
  {
   "cell_type": "code",
   "execution_count": 79,
   "outputs": [],
   "source": [
    "# Define prior for regularization.\n",
    "prior = tfd.Independent(\n",
    "    tfd.Normal(loc=tf.zeros(len(outputs), dtype=tf.float64), scale=1.0),\n",
    "    reinterpreted_batch_ndims=1)"
   ],
   "metadata": {
    "collapsed": false,
    "pycharm": {
     "name": "#%%\n"
    }
   }
  },
  {
   "cell_type": "code",
   "execution_count": 80,
   "outputs": [],
   "source": [
    "# Define model instance.\n",
    "model = tfk.Sequential([\n",
    "    tfk.layers.InputLayer(\n",
    "        input_shape=(len(inputs),),\n",
    "    name=\"input\"),\n",
    "    # dense for inputs\n",
    "    tfk.layers.Dense(\n",
    "        n_batches,\n",
    "    activation=\"relu\", name=\"dense_1\"),\n",
    "    # dense for weights\n",
    "    tfk.layers.Dense(\n",
    "        tfp.layers.MultivariateNormalTriL.params_size(len(outputs)), # uncertainty in the parameters weights\n",
    "    activation=None, name=\"distribution_weights\"),\n",
    "    # (declaration of the) posterior probability distribution structure\n",
    "    tfp.layers.MultivariateNormalTriL(\n",
    "        len(outputs), activity_regularizer=tfp.layers.KLDivergenceRegularizer(prior, weight=1/n_batches), # activity_regularizer acts as prior for the output layer\n",
    "    name=\"output\")\n",
    "], name=\"model\")"
   ],
   "metadata": {
    "collapsed": false,
    "pycharm": {
     "name": "#%%\n"
    }
   }
  },
  {
   "cell_type": "code",
   "execution_count": 81,
   "outputs": [],
   "source": [
    "# Compile model.\n",
    "model.compile(optimizer=\"adam\", loss=neg_log_likelihood)"
   ],
   "metadata": {
    "collapsed": false,
    "pycharm": {
     "name": "#%%\n"
    }
   }
  },
  {
   "cell_type": "code",
   "execution_count": 82,
   "outputs": [],
   "source": [
    "log_dir = \"logs/fit/\" + datetime.datetime.now().strftime(\"%Y%m%d-%H%M%S\")\n",
    "tensorboard_callback = tf.keras.callbacks.TensorBoard(log_dir=log_dir, histogram_freq=1)"
   ],
   "metadata": {
    "collapsed": false,
    "pycharm": {
     "name": "#%%\n"
    }
   }
  },
  {
   "cell_type": "code",
   "execution_count": 83,
   "outputs": [
    {
     "name": "stdout",
     "output_type": "stream",
     "text": [
      "Epoch 1/50\n",
      "600/600 [==============================] - 22s 33ms/step - loss: 0.2039 - val_loss: -0.7334\n",
      "Epoch 2/50\n",
      "600/600 [==============================] - 19s 31ms/step - loss: -0.8577 - val_loss: -0.9304\n",
      "Epoch 3/50\n",
      "600/600 [==============================] - 22s 37ms/step - loss: -0.9456 - val_loss: -0.9578\n",
      "Epoch 4/50\n",
      "600/600 [==============================] - 23s 38ms/step - loss: -0.9700 - val_loss: -0.9791\n",
      "Epoch 5/50\n",
      "600/600 [==============================] - 22s 37ms/step - loss: -0.9844 - val_loss: -0.9893\n",
      "Epoch 6/50\n",
      "600/600 [==============================] - 24s 41ms/step - loss: -0.9966 - val_loss: -0.9984\n",
      "Epoch 7/50\n",
      "600/600 [==============================] - 25s 41ms/step - loss: -1.0039 - val_loss: -0.9939\n",
      "Epoch 8/50\n",
      "600/600 [==============================] - 24s 41ms/step - loss: -1.0122 - val_loss: -1.0244\n",
      "Epoch 9/50\n",
      "600/600 [==============================] - 23s 39ms/step - loss: -1.0181 - val_loss: -1.0197\n",
      "Epoch 10/50\n",
      "600/600 [==============================] - 20s 33ms/step - loss: -1.0230 - val_loss: -1.0165\n",
      "Epoch 11/50\n",
      "600/600 [==============================] - 22s 37ms/step - loss: -1.0270 - val_loss: -1.0144\n",
      "Epoch 12/50\n",
      "600/600 [==============================] - 19s 31ms/step - loss: -1.0303 - val_loss: -1.0512\n",
      "Epoch 13/50\n",
      "600/600 [==============================] - 19s 32ms/step - loss: -1.0308 - val_loss: -1.0190\n",
      "Epoch 14/50\n",
      "600/600 [==============================] - 18s 31ms/step - loss: -1.0337 - val_loss: -1.0341\n",
      "Epoch 15/50\n",
      "600/600 [==============================] - 20s 33ms/step - loss: -1.0357 - val_loss: -1.0615\n",
      "Epoch 16/50\n",
      "600/600 [==============================] - 20s 33ms/step - loss: -1.0403 - val_loss: -1.0522\n",
      "Epoch 17/50\n",
      "600/600 [==============================] - 20s 33ms/step - loss: -1.0411 - val_loss: -1.0532\n",
      "Epoch 18/50\n",
      "600/600 [==============================] - 20s 33ms/step - loss: -1.0437 - val_loss: -1.0324\n",
      "Epoch 19/50\n",
      "600/600 [==============================] - 20s 33ms/step - loss: -1.0487 - val_loss: -1.0409\n",
      "Epoch 20/50\n",
      "600/600 [==============================] - 25s 42ms/step - loss: -1.0526 - val_loss: -1.0446\n",
      "Epoch 21/50\n",
      "600/600 [==============================] - 27s 45ms/step - loss: -1.0586 - val_loss: -1.0686\n",
      "Epoch 22/50\n",
      "600/600 [==============================] - 27s 45ms/step - loss: -1.0745 - val_loss: -1.0599\n",
      "Epoch 23/50\n",
      "600/600 [==============================] - 29s 48ms/step - loss: -1.0887 - val_loss: -1.1170\n",
      "Epoch 24/50\n",
      "600/600 [==============================] - 29s 48ms/step - loss: -1.0974 - val_loss: -1.0850\n",
      "Epoch 25/50\n",
      "600/600 [==============================] - 28s 46ms/step - loss: -1.1051 - val_loss: -1.1254\n",
      "Epoch 26/50\n",
      "600/600 [==============================] - 28s 47ms/step - loss: -1.1108 - val_loss: -1.1416\n",
      "Epoch 27/50\n",
      "600/600 [==============================] - 28s 46ms/step - loss: -1.1170 - val_loss: -1.1266\n",
      "Epoch 28/50\n",
      "600/600 [==============================] - 23s 39ms/step - loss: -1.1227 - val_loss: -1.1215\n",
      "Epoch 29/50\n",
      "600/600 [==============================] - 25s 41ms/step - loss: -1.1267 - val_loss: -1.1316\n",
      "Epoch 30/50\n",
      "600/600 [==============================] - 25s 41ms/step - loss: -1.1295 - val_loss: -1.1171\n",
      "Epoch 31/50\n",
      "600/600 [==============================] - 26s 43ms/step - loss: -1.1341 - val_loss: -1.1264\n",
      "Epoch 32/50\n",
      "600/600 [==============================] - 25s 41ms/step - loss: -1.1379 - val_loss: -1.1482\n",
      "Epoch 33/50\n",
      "600/600 [==============================] - 26s 44ms/step - loss: -1.1406 - val_loss: -1.1087\n",
      "Epoch 34/50\n",
      "600/600 [==============================] - 27s 45ms/step - loss: -1.1450 - val_loss: -1.1374\n",
      "Epoch 35/50\n",
      "600/600 [==============================] - 25s 42ms/step - loss: -1.1480 - val_loss: -1.1663\n",
      "Epoch 36/50\n",
      "600/600 [==============================] - 29s 49ms/step - loss: -1.1482 - val_loss: -1.1503\n",
      "Epoch 37/50\n",
      "600/600 [==============================] - 30s 49ms/step - loss: -1.1518 - val_loss: -1.1329\n",
      "Epoch 38/50\n",
      "600/600 [==============================] - 29s 48ms/step - loss: -1.1552 - val_loss: -1.1571\n",
      "Epoch 39/50\n",
      "600/600 [==============================] - 30s 50ms/step - loss: -1.1576 - val_loss: -1.1560\n",
      "Epoch 40/50\n",
      "600/600 [==============================] - 28s 46ms/step - loss: -1.1593 - val_loss: -1.1562\n",
      "Epoch 41/50\n",
      "600/600 [==============================] - 28s 46ms/step - loss: -1.1597 - val_loss: -1.1810\n",
      "Epoch 42/50\n",
      "600/600 [==============================] - 28s 46ms/step - loss: -1.1611 - val_loss: -1.1252\n",
      "Epoch 43/50\n",
      "600/600 [==============================] - 30s 49ms/step - loss: -1.1651 - val_loss: -1.1691\n",
      "Epoch 44/50\n",
      "600/600 [==============================] - 30s 49ms/step - loss: -1.1685 - val_loss: -1.1463\n",
      "Epoch 45/50\n",
      "600/600 [==============================] - 30s 49ms/step - loss: -1.1715 - val_loss: -1.1574\n",
      "Epoch 46/50\n",
      "600/600 [==============================] - 30s 50ms/step - loss: -1.1745 - val_loss: -1.1571\n",
      "Epoch 47/50\n",
      "600/600 [==============================] - 30s 49ms/step - loss: -1.1755 - val_loss: -1.1775\n",
      "Epoch 48/50\n",
      "600/600 [==============================] - 30s 51ms/step - loss: -1.1758 - val_loss: -1.1698\n",
      "Epoch 49/50\n",
      "600/600 [==============================] - 30s 50ms/step - loss: -1.1777 - val_loss: -1.1974\n",
      "Epoch 50/50\n",
      "600/600 [==============================] - 31s 51ms/step - loss: -1.1811 - val_loss: -1.1663\n"
     ]
    },
    {
     "data": {
      "text/plain": "<keras.callbacks.History at 0x22f4be5d700>"
     },
     "execution_count": 83,
     "metadata": {},
     "output_type": "execute_result"
    }
   ],
   "source": [
    "# Run training session.\n",
    "model.fit(data_train, epochs=n_epochs, validation_data=data_test, verbose=True, callbacks=[tensorboard_callback])"
   ],
   "metadata": {
    "collapsed": false,
    "pycharm": {
     "name": "#%%\n"
    }
   }
  },
  {
   "cell_type": "code",
   "execution_count": 84,
   "outputs": [
    {
     "name": "stdout",
     "output_type": "stream",
     "text": [
      "Model: \"model\"\n",
      "_________________________________________________________________\n",
      " Layer (type)                Output Shape              Param #   \n",
      "=================================================================\n",
      " dense_1 (Dense)             (None, 16)                144       \n",
      "                                                                 \n",
      " distribution_weights (Dense  (None, 14)               238       \n",
      " )                                                               \n",
      "                                                                 \n",
      " output (MultivariateNormalT  ((None, 4),              0         \n",
      " riL)                         (None, 4))                         \n",
      "                                                                 \n",
      "=================================================================\n",
      "Total params: 382\n",
      "Trainable params: 382\n",
      "Non-trainable params: 0\n",
      "_________________________________________________________________\n"
     ]
    }
   ],
   "source": [
    "# Describe model.\n",
    "model.summary()"
   ],
   "metadata": {
    "collapsed": false,
    "pycharm": {
     "name": "#%%\n"
    }
   }
  },
  {
   "cell_type": "code",
   "execution_count": 85,
   "outputs": [
    {
     "data": {
      "text/plain": "Launching TensorBoard..."
     },
     "metadata": {},
     "output_type": "display_data"
    }
   ],
   "source": [
    "%tensorboard --logdir logs/fit"
   ],
   "metadata": {
    "collapsed": false,
    "pycharm": {
     "name": "#%%\n"
    }
   }
  },
  {
   "cell_type": "code",
   "execution_count": 86,
   "outputs": [
    {
     "data": {
      "text/plain": "<tensorflow_probability.python.layers.dense_variational.DenseFlipout at 0x22f5e7e5910>"
     },
     "execution_count": 86,
     "metadata": {},
     "output_type": "execute_result"
    }
   ],
   "source": [
    "tfp.layers.DenseFlipout(32, activation=\"relu\", name=\"dense_1\")"
   ],
   "metadata": {
    "collapsed": false,
    "pycharm": {
     "name": "#%%\n"
    }
   }
  },
  {
   "cell_type": "code",
   "execution_count": 87,
   "outputs": [],
   "source": [
    "# Predict.\n",
    "samples = 1000\n",
    "iterations = 20\n",
    "test_iterator = tf.compat.v1.data.make_one_shot_iterator(data_test)\n",
    "X_true, Y_true, Y_pred = np.empty(shape=(samples, len(inputs))), np.empty(shape=(samples, len(outputs))), np.empty(\n",
    "    shape=(samples, len(outputs), iterations))"
   ],
   "metadata": {
    "collapsed": false,
    "pycharm": {
     "name": "#%%\n"
    }
   }
  },
  {
   "cell_type": "code",
   "execution_count": 88,
   "outputs": [],
   "source": [
    "for i in range(samples):\n",
    "    features, labels = test_iterator.get_next()\n",
    "    X_true[i,:] = features\n",
    "    Y_true[i,:] = labels.numpy()\n",
    "    for k in range(iterations):\n",
    "        Y_pred[i,:,k] = model.predict(features)"
   ],
   "metadata": {
    "collapsed": false,
    "pycharm": {
     "name": "#%%\n"
    }
   }
  },
  {
   "cell_type": "code",
   "execution_count": 89,
   "outputs": [
    {
     "data": {
      "text/plain": "(array([[0.45431506, 0.36554643, 0.39342233, 0.85590298],\n        [0.37989861, 0.38275207, 0.32356668, 0.69491002],\n        [0.28813353, 0.20085777, 0.18628375, 0.77666116],\n        ...,\n        [0.14506436, 0.28479915, 0.28537979, 0.75133511],\n        [0.03240161, 0.37344283, 0.31805404, 0.87028232],\n        [0.11824499, 0.32067618, 0.18941357, 0.78352498]]),\n array([[0.44133145, 0.26011696, 0.23977176, 0.0989403 ],\n        [0.34975955, 0.24454897, 0.17589792, 0.13915301],\n        [0.33151994, 0.13296938, 0.18548064, 0.08431964],\n        ...,\n        [0.12305284, 0.12623343, 0.13024563, 0.07531154],\n        [0.09679673, 0.20311076, 0.18539981, 0.08543544],\n        [0.17846064, 0.14325559, 0.17702946, 0.05209569]]))"
     },
     "execution_count": 89,
     "metadata": {},
     "output_type": "execute_result"
    }
   ],
   "source": [
    "# Calculate mean and standard deviation.\n",
    "Y_pred_m = np.mean(Y_pred, axis=-1)\n",
    "Y_pred_s = np.std(Y_pred, axis=-1)\n",
    "Y_pred_m, Y_pred_s"
   ],
   "metadata": {
    "collapsed": false,
    "pycharm": {
     "name": "#%%\n"
    }
   }
  },
  {
   "cell_type": "code",
   "execution_count": 90,
   "outputs": [
    {
     "data": {
      "text/plain": "<Figure size 432x288 with 1 Axes>",
      "image/png": "[encoded data removed]"
     },
     "metadata": {},
     "output_type": "display_data"
    }
   ],
   "source": [
    "plt.plot(Y_true[:,0])\n",
    "plt.plot(Y_pred_m[:,0])\n",
    "\n",
    "plt.show()"
   ],
   "metadata": {
    "collapsed": false,
    "pycharm": {
     "name": "#%%\n"
    }
   }
  },
  {
   "cell_type": "code",
   "execution_count": 91,
   "outputs": [
    {
     "data": {
      "text/plain": "[<matplotlib.lines.Line2D at 0x22f69f00d00>]"
     },
     "execution_count": 91,
     "metadata": {},
     "output_type": "execute_result"
    },
    {
     "data": {
      "text/plain": "<Figure size 432x288 with 1 Axes>",
      "image/png": "[encoded data removed]"
     },
     "metadata": {},
     "output_type": "display_data"
    }
   ],
   "source": [
    "plt.plot((Y_true[:,0] - Y_pred_m[:,0])**2)"
   ],
   "metadata": {
    "collapsed": false,
    "pycharm": {
     "name": "#%%\n"
    }
   }
  },
  {
   "cell_type": "code",
   "execution_count": 92,
   "outputs": [],
   "source": [
    "inputs = ['temp_min', 'temp', 'temp_max', 'pressure', 'humidity', 'wind_speed', 'rain_1h', 'snow_3h', 'generation biomass', 'generation fossil gas', 'generation fossil oil', 'generation nuclear', 'generation other']\n",
    "outputs = ['generation solar', 'generation hydro all', 'generation wind onshore', 'generation other renewable']\n",
    "\n",
    "x = dataset[inputs]\n",
    "y = dataset[outputs]"
   ],
   "metadata": {
    "collapsed": false,
    "pycharm": {
     "name": "#%%\n"
    }
   }
  },
  {
   "cell_type": "code",
   "execution_count": 93,
   "outputs": [
    {
     "data": {
      "text/plain": "[]"
     },
     "execution_count": 93,
     "metadata": {},
     "output_type": "execute_result"
    }
   ],
   "source": [
    "tfk = tf.keras\n",
    "tf.keras.backend.set_floatx(\"float64\")\n",
    "tfd = tfp.distributions\n",
    "tf.config.list_physical_devices(\"GPU\")"
   ],
   "metadata": {
    "collapsed": false,
    "pycharm": {
     "name": "#%%\n"
    }
   }
  },
  {
   "cell_type": "code",
   "execution_count": 94,
   "outputs": [],
   "source": [
    "# Define helper functions.\n",
    "detector = IsolationForest(n_estimators=1000, random_state=42)\n",
    "neg_log_likelihood = lambda x, rv_x: -rv_x.log_prob(x)"
   ],
   "metadata": {
    "collapsed": false,
    "pycharm": {
     "name": "#%%\n"
    }
   }
  },
  {
   "cell_type": "code",
   "execution_count": 95,
   "outputs": [],
   "source": [
    "# Define some hyperparameters.\n",
    "n_epochs, n_batches, n_samples = 50, 16, dataset.shape[0]\n",
    "buffer_size, batch_size = n_samples, np.floor(n_samples / n_batches)"
   ],
   "metadata": {
    "collapsed": false,
    "pycharm": {
     "name": "#%%\n"
    }
   }
  },
  {
   "cell_type": "code",
   "execution_count": 96,
   "outputs": [
    {
     "data": {
      "text/plain": "24544"
     },
     "execution_count": 96,
     "metadata": {},
     "output_type": "execute_result"
    }
   ],
   "source": [
    "# Define training and test data sizes.\n",
    "n_train = int(0.70 * dataset.shape[0])\n",
    "n_train"
   ],
   "metadata": {
    "collapsed": false,
    "pycharm": {
     "name": "#%%\n"
    }
   }
  },
  {
   "cell_type": "code",
   "execution_count": 97,
   "outputs": [],
   "source": [
    "# Define dataset instance.\n",
    "data = tf.data.Dataset.from_tensor_slices((dataset[inputs].values, dataset[outputs].values))\n",
    "data = data.shuffle(n_samples, reshuffle_each_iteration=True)"
   ],
   "metadata": {
    "collapsed": false,
    "pycharm": {
     "name": "#%%\n"
    }
   }
  },
  {
   "cell_type": "code",
   "execution_count": 98,
   "outputs": [],
   "source": [
    "# Define train and test data instances.\n",
    "data_train = data.take(n_train).batch(batch_size).repeat(n_epochs)\n",
    "data_test = data.skip(n_train).batch(1)"
   ],
   "metadata": {
    "collapsed": false,
    "pycharm": {
     "name": "#%%\n"
    }
   }
  },
  {
   "cell_type": "code",
   "execution_count": 99,
   "outputs": [],
   "source": [
    "# Define prior for regularization.\n",
    "prior = tfd.Independent(\n",
    "    tfd.Normal(loc=tf.zeros(len(outputs), dtype=tf.float64), scale=1.0),\n",
    "    reinterpreted_batch_ndims=1)"
   ],
   "metadata": {
    "collapsed": false,
    "pycharm": {
     "name": "#%%\n"
    }
   }
  },
  {
   "cell_type": "code",
   "execution_count": 100,
   "outputs": [],
   "source": [
    "# Define model instance.\n",
    "model = tfk.Sequential([\n",
    "    tfk.layers.InputLayer(\n",
    "        input_shape=(len(inputs),),\n",
    "        name=\"input\"),\n",
    "    # dense for inputs\n",
    "    tfk.layers.Dense(\n",
    "        n_batches,\n",
    "        activation=\"relu\", name=\"dense_1\"),\n",
    "    # dense for weights\n",
    "    tfk.layers.Dense(\n",
    "        tfp.layers.MultivariateNormalTriL.params_size(len(outputs)),  # uncertainty in the parameters weights\n",
    "        activation=None, name=\"distribution_weights\"),\n",
    "    # (declaration of the) posterior probability distribution structure\n",
    "    tfp.layers.MultivariateNormalTriL(\n",
    "        len(outputs), activity_regularizer=tfp.layers.KLDivergenceRegularizer(prior, weight=1 / n_batches),\n",
    "        # activity_regularizer acts as prior for the output layer\n",
    "        name=\"output\")\n",
    "], name=\"model\")"
   ],
   "metadata": {
    "collapsed": false,
    "pycharm": {
     "name": "#%%\n"
    }
   }
  },
  {
   "cell_type": "code",
   "execution_count": 101,
   "outputs": [],
   "source": [
    "# Compile model.\n",
    "model.compile(optimizer=\"adam\", loss=neg_log_likelihood)\n",
    "log_dir = \"logs/fit/\" + datetime.datetime.now().strftime(\"%Y%m%d-%H%M%S\")"
   ],
   "metadata": {
    "collapsed": false,
    "pycharm": {
     "name": "#%%\n"
    }
   }
  },
  {
   "cell_type": "code",
   "execution_count": 102,
   "outputs": [],
   "source": [
    "tensorboard_callback = tf.keras.callbacks.TensorBoard(log_dir=log_dir, histogram_freq=1)"
   ],
   "metadata": {
    "collapsed": false,
    "pycharm": {
     "name": "#%%\n"
    }
   }
  },
  {
   "cell_type": "code",
   "execution_count": 103,
   "outputs": [
    {
     "name": "stdout",
     "output_type": "stream",
     "text": [
      "Epoch 1/50\n",
      "600/600 [==============================] - 31s 46ms/step - loss: 0.1057 - val_loss: -1.0341\n",
      "Epoch 2/50\n",
      "600/600 [==============================] - 27s 45ms/step - loss: -1.2028 - val_loss: -1.3295\n",
      "Epoch 3/50\n",
      "600/600 [==============================] - 27s 45ms/step - loss: -1.3848 - val_loss: -1.4487\n",
      "Epoch 4/50\n",
      "600/600 [==============================] - 27s 45ms/step - loss: -1.4579 - val_loss: -1.4784\n",
      "Epoch 5/50\n",
      "600/600 [==============================] - 26s 44ms/step - loss: -1.4952 - val_loss: -1.5146\n",
      "Epoch 6/50\n",
      "600/600 [==============================] - 28s 47ms/step - loss: -1.5396 - val_loss: -1.5736\n",
      "Epoch 7/50\n",
      "600/600 [==============================] - 28s 46ms/step - loss: -1.5741 - val_loss: -1.5621\n",
      "Epoch 8/50\n",
      "600/600 [==============================] - 28s 47ms/step - loss: -1.5930 - val_loss: -1.6111\n",
      "Epoch 9/50\n",
      "600/600 [==============================] - 27s 44ms/step - loss: -1.6060 - val_loss: -1.6154\n",
      "Epoch 10/50\n",
      "600/600 [==============================] - 27s 45ms/step - loss: -1.6143 - val_loss: -1.6116\n",
      "Epoch 11/50\n",
      "600/600 [==============================] - 26s 44ms/step - loss: -1.6230 - val_loss: -1.6177\n",
      "Epoch 12/50\n",
      "600/600 [==============================] - 27s 45ms/step - loss: -1.6315 - val_loss: -1.6100\n",
      "Epoch 13/50\n",
      "600/600 [==============================] - 27s 45ms/step - loss: -1.6370 - val_loss: -1.6334\n",
      "Epoch 14/50\n",
      "600/600 [==============================] - 28s 46ms/step - loss: -1.6433 - val_loss: -1.6317\n",
      "Epoch 15/50\n",
      "600/600 [==============================] - 28s 46ms/step - loss: -1.6468 - val_loss: -1.6459\n",
      "Epoch 16/50\n",
      "600/600 [==============================] - 27s 45ms/step - loss: -1.6516 - val_loss: -1.6315\n",
      "Epoch 17/50\n",
      "600/600 [==============================] - 29s 48ms/step - loss: -1.6541 - val_loss: -1.6509\n",
      "Epoch 18/50\n",
      "600/600 [==============================] - 28s 47ms/step - loss: -1.6591 - val_loss: -1.6705\n",
      "Epoch 19/50\n",
      "600/600 [==============================] - 27s 45ms/step - loss: -1.6619 - val_loss: -1.6832\n",
      "Epoch 20/50\n",
      "600/600 [==============================] - 27s 45ms/step - loss: -1.6658 - val_loss: -1.6493\n",
      "Epoch 21/50\n",
      "600/600 [==============================] - 27s 45ms/step - loss: -1.6693 - val_loss: -1.6767\n",
      "Epoch 22/50\n",
      "600/600 [==============================] - 27s 45ms/step - loss: -1.6718 - val_loss: -1.6712\n",
      "Epoch 23/50\n",
      "600/600 [==============================] - 27s 45ms/step - loss: -1.6765 - val_loss: -1.6755\n",
      "Epoch 24/50\n",
      "600/600 [==============================] - 27s 45ms/step - loss: -1.6792 - val_loss: -1.6812\n",
      "Epoch 25/50\n",
      "600/600 [==============================] - 27s 45ms/step - loss: -1.6815 - val_loss: -1.6816\n",
      "Epoch 26/50\n",
      "600/600 [==============================] - 28s 46ms/step - loss: -1.6850 - val_loss: -1.6937\n",
      "Epoch 27/50\n",
      "600/600 [==============================] - 28s 47ms/step - loss: -1.6864 - val_loss: -1.7017\n",
      "Epoch 28/50\n",
      "600/600 [==============================] - 25s 41ms/step - loss: -1.6888 - val_loss: -1.6796\n",
      "Epoch 29/50\n",
      "600/600 [==============================] - 29s 48ms/step - loss: -1.6905 - val_loss: -1.6847\n",
      "Epoch 30/50\n",
      "600/600 [==============================] - 28s 47ms/step - loss: -1.6951 - val_loss: -1.7096\n",
      "Epoch 31/50\n",
      "600/600 [==============================] - 28s 47ms/step - loss: -1.6967 - val_loss: -1.7182\n",
      "Epoch 32/50\n",
      "600/600 [==============================] - 28s 47ms/step - loss: -1.6988 - val_loss: -1.7032\n",
      "Epoch 33/50\n",
      "600/600 [==============================] - 27s 46ms/step - loss: -1.7026 - val_loss: -1.6999\n",
      "Epoch 34/50\n",
      "600/600 [==============================] - 28s 46ms/step - loss: -1.7043 - val_loss: -1.7305\n",
      "Epoch 35/50\n",
      "600/600 [==============================] - 28s 46ms/step - loss: -1.7052 - val_loss: -1.6898\n",
      "Epoch 36/50\n",
      "600/600 [==============================] - 28s 47ms/step - loss: -1.7079 - val_loss: -1.7157\n",
      "Epoch 37/50\n",
      "600/600 [==============================] - 30s 51ms/step - loss: -1.7111 - val_loss: -1.7329\n",
      "Epoch 38/50\n",
      "600/600 [==============================] - 32s 53ms/step - loss: -1.7133 - val_loss: -1.7248\n",
      "Epoch 39/50\n",
      "600/600 [==============================] - 29s 48ms/step - loss: -1.7148 - val_loss: -1.7166\n",
      "Epoch 40/50\n",
      "600/600 [==============================] - 29s 47ms/step - loss: -1.7155 - val_loss: -1.7299\n",
      "Epoch 41/50\n",
      "600/600 [==============================] - 28s 47ms/step - loss: -1.7147 - val_loss: -1.7264\n",
      "Epoch 42/50\n",
      "600/600 [==============================] - 28s 46ms/step - loss: -1.7165 - val_loss: -1.7437\n",
      "Epoch 43/50\n",
      "600/600 [==============================] - 28s 46ms/step - loss: -1.7197 - val_loss: -1.7017\n",
      "Epoch 44/50\n",
      "600/600 [==============================] - 28s 47ms/step - loss: -1.7197 - val_loss: -1.7104\n",
      "Epoch 45/50\n",
      "600/600 [==============================] - 23s 38ms/step - loss: -1.7228 - val_loss: -1.7158\n",
      "Epoch 46/50\n",
      "600/600 [==============================] - 23s 38ms/step - loss: -1.7241 - val_loss: -1.7484\n",
      "Epoch 47/50\n",
      "600/600 [==============================] - 24s 40ms/step - loss: -1.7244 - val_loss: -1.7499\n",
      "Epoch 48/50\n",
      "600/600 [==============================] - 21s 34ms/step - loss: -1.7253 - val_loss: -1.7220\n",
      "Epoch 49/50\n",
      "600/600 [==============================] - 22s 36ms/step - loss: -1.7259 - val_loss: -1.7150\n",
      "Epoch 50/50\n",
      "600/600 [==============================] - 21s 35ms/step - loss: -1.7278 - val_loss: -1.7380\n"
     ]
    },
    {
     "data": {
      "text/plain": "<keras.callbacks.History at 0x22f5e9dbf70>"
     },
     "execution_count": 103,
     "metadata": {},
     "output_type": "execute_result"
    }
   ],
   "source": [
    "# Run training session.\n",
    "model.fit(data_train, epochs=n_epochs, validation_data=data_test, verbose=True, callbacks=[tensorboard_callback])"
   ],
   "metadata": {
    "collapsed": false,
    "pycharm": {
     "name": "#%%\n"
    }
   }
  },
  {
   "cell_type": "code",
   "execution_count": 104,
   "outputs": [
    {
     "name": "stdout",
     "output_type": "stream",
     "text": [
      "Model: \"model\"\n",
      "_________________________________________________________________\n",
      " Layer (type)                Output Shape              Param #   \n",
      "=================================================================\n",
      " dense_1 (Dense)             (None, 16)                224       \n",
      "                                                                 \n",
      " distribution_weights (Dense  (None, 14)               238       \n",
      " )                                                               \n",
      "                                                                 \n",
      " output (MultivariateNormalT  ((None, 4),              0         \n",
      " riL)                         (None, 4))                         \n",
      "                                                                 \n",
      "=================================================================\n",
      "Total params: 462\n",
      "Trainable params: 462\n",
      "Non-trainable params: 0\n",
      "_________________________________________________________________\n"
     ]
    }
   ],
   "source": [
    "# Describe model.\n",
    "model.summary()"
   ],
   "metadata": {
    "collapsed": false,
    "pycharm": {
     "name": "#%%\n"
    }
   }
  },
  {
   "cell_type": "code",
   "execution_count": 114,
   "outputs": [
    {
     "data": {
      "text/plain": "<tensorflow_probability.python.layers.dense_variational.DenseFlipout at 0x22f4ea3c6a0>"
     },
     "execution_count": 114,
     "metadata": {},
     "output_type": "execute_result"
    }
   ],
   "source": [
    "tfp.layers.DenseFlipout(32, activation=\"relu\", name=\"dense_1\")"
   ],
   "metadata": {
    "collapsed": false,
    "pycharm": {
     "name": "#%%\n"
    }
   }
  },
  {
   "cell_type": "code",
   "execution_count": 108,
   "outputs": [],
   "source": [
    "# Predict.\n",
    "samples = 1000\n",
    "iterations = 20\n",
    "test_iterator = tf.compat.v1.data.make_one_shot_iterator(data_test)\n",
    "X_true, Y_true, Y_pred = np.empty(shape=(samples, len(inputs))), np.empty(shape=(samples, len(outputs))), np.empty(\n",
    "    shape=(samples, len(outputs), iterations))"
   ],
   "metadata": {
    "collapsed": false,
    "pycharm": {
     "name": "#%%\n"
    }
   }
  },
  {
   "cell_type": "code",
   "execution_count": 109,
   "outputs": [],
   "source": [
    "for i in range(samples):\n",
    "    features, labels = test_iterator.get_next()\n",
    "    X_true[i, :] = features\n",
    "    Y_true[i, :] = labels.numpy()\n",
    "    for k in range(iterations):\n",
    "        Y_pred[i, :, k] = model.predict(features)"
   ],
   "metadata": {
    "collapsed": false,
    "pycharm": {
     "name": "#%%\n"
    }
   }
  },
  {
   "cell_type": "code",
   "execution_count": 110,
   "outputs": [
    {
     "data": {
      "text/plain": "(array([[0.46819681, 0.29168934, 0.30924259, 0.58746358],\n        [0.49454211, 0.33377926, 0.35534858, 0.69870843],\n        [0.01887271, 0.28460172, 0.31823885, 0.61867345],\n        ...,\n        [0.11373184, 0.3701756 , 0.5093776 , 0.76711125],\n        [0.1293636 , 0.35655021, 0.30351498, 0.60467279],\n        [0.21823638, 0.42925978, 0.40979471, 0.77606889]]),\n array([[0.29126467, 0.17144681, 0.17108115, 0.04525712],\n        [0.4029476 , 0.12953445, 0.21356255, 0.1237568 ],\n        [0.16186249, 0.15804719, 0.10849539, 0.06563424],\n        ...,\n        [0.19674192, 0.14249264, 0.19582081, 0.0819986 ],\n        [0.14717914, 0.14242256, 0.1734142 , 0.04201012],\n        [0.27104155, 0.20737901, 0.1383597 , 0.06416188]]))"
     },
     "execution_count": 110,
     "metadata": {},
     "output_type": "execute_result"
    }
   ],
   "source": [
    "# Calculate mean and standard deviation.\n",
    "Y_pred_m = np.mean(Y_pred, axis=-1)\n",
    "Y_pred_s = np.std(Y_pred, axis=-1)\n",
    "Y_pred_m, Y_pred_s"
   ],
   "metadata": {
    "collapsed": false,
    "pycharm": {
     "name": "#%%\n"
    }
   }
  },
  {
   "cell_type": "code",
   "execution_count": 111,
   "outputs": [
    {
     "data": {
      "text/plain": "<Figure size 432x288 with 1 Axes>",
      "image/png": "[encoded data removed]"
     },
     "metadata": {},
     "output_type": "display_data"
    }
   ],
   "source": [
    "plt.plot(Y_true[:, 0])\n",
    "plt.plot(Y_pred_m[:, 0])\n",
    "\n",
    "plt.show()"
   ],
   "metadata": {
    "collapsed": false,
    "pycharm": {
     "name": "#%%\n"
    }
   }
  },
  {
   "cell_type": "code",
   "execution_count": 112,
   "outputs": [
    {
     "data": {
      "text/plain": "[<matplotlib.lines.Line2D at 0x22f4d5c63a0>]"
     },
     "execution_count": 112,
     "metadata": {},
     "output_type": "execute_result"
    },
    {
     "data": {
      "text/plain": "<Figure size 432x288 with 1 Axes>",
      "image/png": "[encoded data removed]"
     },
     "metadata": {},
     "output_type": "display_data"
    }
   ],
   "source": [
    "plt.plot((Y_true[:, 0] - Y_pred_m[:, 0]) ** 2)\n",
    "#mse generally lower"
   ],
   "metadata": {
    "collapsed": false,
    "pycharm": {
     "name": "#%%\n"
    }
   }
  },
  {
   "cell_type": "code",
   "execution_count": 115,
   "outputs": [
    {
     "data": {
      "text/plain": "Launching TensorBoard..."
     },
     "metadata": {},
     "output_type": "display_data"
    },
    {
     "data": {
      "text/plain": "<IPython.core.display.HTML object>",
      "text/html": "\n      <iframe id=\"tensorboard-frame-d85bc08fc7f75296\" width=\"100%\" height=\"800\" frameborder=\"0\">\n      </iframe>\n      <script>\n        (function() {\n          const frame = document.getElementById(\"tensorboard-frame-d85bc08fc7f75296\");\n          const url = new URL(\"/\", window.location);\n          const port = 6006;\n          if (port) {\n            url.port = port;\n          }\n          frame.src = url;\n        })();\n      </script>\n    "
     },
     "metadata": {},
     "output_type": "display_data"
    }
   ],
   "source": [
    "%tensorboard --logdir logs/fit"
   ],
   "metadata": {
    "collapsed": false,
    "pycharm": {
     "name": "#%%\n"
    }
   }
  },
  {
   "cell_type": "code",
   "execution_count": null,
   "outputs": [],
   "source": [
    "#nn per energia da combustibili fossili"
   ],
   "metadata": {
    "collapsed": false,
    "pycharm": {
     "name": "#%%\n"
    }
   }
  },
  {
   "cell_type": "code",
   "execution_count": null,
   "outputs": [],
   "source": [],
   "metadata": {
    "collapsed": false,
    "pycharm": {
     "name": "#%%\n"
    }
   }
  },
  {
   "cell_type": "code",
   "execution_count": null,
   "outputs": [],
   "source": [
    "#dividere il df per ogni città"
   ],
   "metadata": {
    "collapsed": false,
    "pycharm": {
     "name": "#%%\n"
    }
   }
  },
  {
   "cell_type": "code",
   "execution_count": null,
   "outputs": [],
   "source": [],
   "metadata": {
    "collapsed": false,
    "pycharm": {
     "name": "#%%\n"
    }
   }
  },
  {
   "cell_type": "code",
   "execution_count": null,
   "outputs": [],
   "source": [
    "#fare nn per ogni città"
   ],
   "metadata": {
    "collapsed": false,
    "pycharm": {
     "name": "#%%\n"
    }
   }
  },
  {
   "cell_type": "code",
   "execution_count": null,
   "outputs": [],
   "source": [],
   "metadata": {
    "collapsed": false,
    "pycharm": {
     "name": "#%%\n"
    }
   }
  },
  {
   "cell_type": "code",
   "execution_count": null,
   "outputs": [],
   "source": [
    "#check dei weight per le variabili più rilevanti"
   ],
   "metadata": {
    "collapsed": false,
    "pycharm": {
     "name": "#%%\n"
    }
   }
  },
  {
   "cell_type": "code",
   "execution_count": null,
   "outputs": [],
   "source": [],
   "metadata": {
    "collapsed": false,
    "pycharm": {
     "name": "#%%\n"
    }
   }
  }
 ],
 "metadata": {
  "kernelspec": {
   "display_name": "Python 3",
   "language": "python",
   "name": "python3"
  },
  "language_info": {
   "codemirror_mode": {
    "name": "ipython",
    "version": 2
   },
   "file_extension": ".py",
   "mimetype": "text/x-python",
   "name": "python",
   "nbconvert_exporter": "python",
   "pygments_lexer": "ipython2",
   "version": "2.7.6"
  }
 },
 "nbformat": 4,
 "nbformat_minor": 0
}