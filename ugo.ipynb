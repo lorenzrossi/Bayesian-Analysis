{
 "cells": [
  {
   "cell_type": "code",
   "execution_count": null,
   "metadata": {
    "pycharm": {
     "is_executing": true
    }
   },
   "outputs": [],
   "source": [
    "print('hola!')"
   ]
  },
  {
   "cell_type": "code",
   "execution_count": 2,
   "metadata": {
    "collapsed": true
   },
   "outputs": [
    {
     "name": "stderr",
     "output_type": "stream",
     "text": [
      "C:\\Users\\loren\\AppData\\Local\\Programs\\Python\\Python39\\lib\\site-packages\\xgboost\\compat.py:36: FutureWarning: pandas.Int64Index is deprecated and will be removed from pandas in a future version. Use pandas.Index with the appropriate dtype instead.\n",
      "  from pandas import MultiIndex, Int64Index\n"
     ]
    }
   ],
   "source": [
    "import pandas as pd\n",
    "import numpy as np\n",
    "import matplotlib.pyplot as plt\n",
    "%matplotlib inline\n",
    "import os\n",
    "import seaborn as sns\n",
    "import statsmodels.api as sm\n",
    "import xgboost as xgb\n",
    "import warnings\n",
    "from tensorflow.keras.layers import Dense, LSTM, Conv1D, MaxPooling1D, TimeDistributed, Flatten, Dropout, RepeatVector\n",
    "from statsmodels.graphics.tsaplots import plot_acf, plot_pacf\n",
    "from statsmodels.tsa.stattools import adfuller, kpss, ccf\n",
    "from sklearn.metrics import mean_squared_error, r2_score\n",
    "from sklearn.preprocessing import LabelEncoder, StandardScaler, MinMaxScaler\n",
    "from sklearn.decomposition import PCA\n",
    "from sklearn.linear_model import LinearRegression\n",
    "from sklearn.model_selection import train_test_split\n",
    "from math import sqrt\n",
    "import tensorflow as tf\n",
    "import tensorflow_probability as tfp\n",
    "import keras\n",
    "from keras.utils.np_utils import to_categorical\n",
    "from keras.datasets import mnist\n",
    "from sklearn.preprocessing import StandardScaler\n",
    "from sklearn.ensemble import IsolationForest\n",
    "from sklearn.model_selection import train_test_split\n",
    "from keras import models\n",
    "from keras import layers\n",
    "from keras import callbacks\n",
    "from keras.models import Sequential\n",
    "from keras.layers import Dense\n",
    "from tensorflow.keras import layers\n",
    "from tensorflow.keras import regularizers\n",
    "import tensorflow_docs as tfdocs\n",
    "import tensorflow_docs.modeling\n",
    "import tensorflow_docs.plots\n",
    "import datetime\n",
    "import pickle\n",
    "tfk = tf.keras\n",
    "tf.keras.backend.set_floatx(\"float64\")\n",
    "tfd = tfp.distributions\n",
    "# Load the TensorBoard notebook extension\n",
    "%load_ext tensorboard"
   ]
  },
  {
   "cell_type": "code",
   "execution_count": 3,
   "metadata": {
    "collapsed": false,
    "pycharm": {
     "name": "#%%\n"
    }
   },
   "outputs": [],
   "source": [
    "os.chdir('C:\\\\Users\\\\loren\\\\OneDrive\\\\Desktop\\\\Lezioni uni\\\\Bayesian Analysis\\\\Progetto')"
   ]
  },
  {
   "cell_type": "code",
   "execution_count": 4,
   "metadata": {
    "collapsed": false,
    "pycharm": {
     "name": "#%%\n"
    }
   },
   "outputs": [],
   "source": [
    "df_weather = pd.read_csv(\"weather_features.csv\", parse_dates=['dt_iso'])\n",
    "df_energy = pd.read_csv(\"energy_dataset.csv\", parse_dates=['time'])"
   ]
  },
  {
   "cell_type": "code",
   "execution_count": 5,
   "metadata": {
    "collapsed": false,
    "pycharm": {
     "name": "#%%\n"
    }
   },
   "outputs": [],
   "source": [
    "df_energy['generation coal'] = df_energy['generation fossil hard coal'] + df_energy[\n",
    "    'generation fossil brown coal/lignite']\n",
    "df_energy['generation hydro'] = df_energy['generation hydro water reservoir'] + df_energy[\n",
    "    'generation hydro pumped storage consumption'] + df_energy['generation hydro run-of-river and poundage']\n",
    "df_energy['generation wind'] = df_energy['generation wind onshore'] + df_energy['generation wind offshore']"
   ]
  },
  {
   "cell_type": "code",
   "execution_count": 6,
   "metadata": {
    "collapsed": false,
    "pycharm": {
     "name": "#%%\n"
    }
   },
   "outputs": [],
   "source": [
    "# Drop unusable columns\n",
    "\n",
    "df_energy = df_energy.drop(['generation fossil coal-derived gas','generation fossil oil shale',\n",
    "                            'generation fossil peat', 'generation geothermal',\n",
    "                            'generation hydro pumped storage aggregated', 'generation marine',\n",
    "                            'generation wind offshore','generation wind onshore', 'forecast wind offshore eday ahead',\n",
    "                            'generation hydro water reservoir','generation hydro pumped storage consumption',\n",
    "                            'generation hydro run-of-river and poundage', 'generation fossil hard coal',\n",
    "                            'generation fossil brown coal/lignite', 'forecast solar day ahead', 'forecast wind onshore day ahead',\n",
    "                            'total load forecast', 'price day ahead'],\n",
    "                            axis=1)"
   ]
  },
  {
   "cell_type": "code",
   "execution_count": 7,
   "metadata": {
    "collapsed": false,
    "pycharm": {
     "name": "#%%\n"
    }
   },
   "outputs": [],
   "source": [
    "df_energy['generation non-renewable'] = df_energy['generation fossil gas'] + df_energy['generation fossil oil'] + df_energy['generation nuclear'] + df_energy['generation other'] + \\\n",
    "                                        df_energy['generation coal'] + df_energy['generation waste']\n",
    "df_energy['generation renewable'] = df_energy['generation solar'] + df_energy['generation biomass'] + df_energy['generation hydro'] + df_energy['generation other renewable'] + \\\n",
    "                                    df_energy['generation wind']"
   ]
  },
  {
   "cell_type": "code",
   "execution_count": 8,
   "metadata": {
    "collapsed": false,
    "pycharm": {
     "name": "#%%\n"
    }
   },
   "outputs": [
    {
     "data": {
      "text/plain": "       generation biomass  generation fossil gas  generation fossil oil  \\\ncount            35045.00               35046.00               35045.00   \nmean               383.51                5622.74                 298.32   \nstd                 85.35                2201.83                  52.52   \nmin                  0.00                   0.00                   0.00   \n25%                333.00                4126.00                 263.00   \n50%                367.00                4969.00                 300.00   \n75%                433.00                6429.00                 330.00   \nmax                592.00               20034.00                 449.00   \n\n       generation nuclear  generation other  generation other renewable  \\\ncount            35047.00          35046.00                    35046.00   \nmean              6263.91             60.23                       85.64   \nstd                839.67             20.24                       14.08   \nmin                  0.00              0.00                        0.00   \n25%               5760.00             53.00                       73.00   \n50%               6566.00             57.00                       88.00   \n75%               7025.00             80.00                       97.00   \nmax               7117.00            106.00                      119.00   \n\n       generation solar  generation waste  total load actual  price actual  \\\ncount          35046.00          35045.00           35028.00      35064.00   \nmean            1432.67            269.45           28696.94         57.88   \nstd             1680.12             50.20            4574.99         14.20   \nmin                0.00              0.00           18041.00          9.33   \n25%               71.00            240.00           24807.75         49.35   \n50%              616.00            279.00           28901.00         58.02   \n75%             2578.00            310.00           32192.00         68.01   \nmax             5792.00            357.00           41015.00        116.80   \n\n       generation coal  generation hydro  generation wind  \\\ncount         35046.00           35044.0         35046.00   \nmean           4704.12            4052.9          5464.48   \nstd            2245.64            2114.0          3213.69   \nmin               0.00               0.0             0.00   \n25%            2678.00            2393.0          2933.00   \n50%            4983.00            3589.0          4849.00   \n75%            6503.00            5314.0          7398.00   \nmax            9320.00           11613.0         17436.00   \n\n       generation non-renewable  generation renewable  \ncount                  35044.00              35043.00  \nmean                   17218.86              11419.55  \nstd                     3982.96               4254.98  \nmin                     6363.00                  0.00  \n25%                    14031.75               8266.00  \n50%                    17005.00              10896.00  \n75%                    19973.00              14023.00  \nmax                    34498.00              27691.00  ",
      "text/html": "<div>\n<style scoped>\n    .dataframe tbody tr th:only-of-type {\n        vertical-align: middle;\n    }\n\n    .dataframe tbody tr th {\n        vertical-align: top;\n    }\n\n    .dataframe thead th {\n        text-align: right;\n    }\n</style>\n<table border=\"1\" class=\"dataframe\">\n  <thead>\n    <tr style=\"text-align: right;\">\n      <th></th>\n      <th>generation biomass</th>\n      <th>generation fossil gas</th>\n      <th>generation fossil oil</th>\n      <th>generation nuclear</th>\n      <th>generation other</th>\n      <th>generation other renewable</th>\n      <th>generation solar</th>\n      <th>generation waste</th>\n      <th>total load actual</th>\n      <th>price actual</th>\n      <th>generation coal</th>\n      <th>generation hydro</th>\n      <th>generation wind</th>\n      <th>generation non-renewable</th>\n      <th>generation renewable</th>\n    </tr>\n  </thead>\n  <tbody>\n    <tr>\n      <th>count</th>\n      <td>35045.00</td>\n      <td>35046.00</td>\n      <td>35045.00</td>\n      <td>35047.00</td>\n      <td>35046.00</td>\n      <td>35046.00</td>\n      <td>35046.00</td>\n      <td>35045.00</td>\n      <td>35028.00</td>\n      <td>35064.00</td>\n      <td>35046.00</td>\n      <td>35044.0</td>\n      <td>35046.00</td>\n      <td>35044.00</td>\n      <td>35043.00</td>\n    </tr>\n    <tr>\n      <th>mean</th>\n      <td>383.51</td>\n      <td>5622.74</td>\n      <td>298.32</td>\n      <td>6263.91</td>\n      <td>60.23</td>\n      <td>85.64</td>\n      <td>1432.67</td>\n      <td>269.45</td>\n      <td>28696.94</td>\n      <td>57.88</td>\n      <td>4704.12</td>\n      <td>4052.9</td>\n      <td>5464.48</td>\n      <td>17218.86</td>\n      <td>11419.55</td>\n    </tr>\n    <tr>\n      <th>std</th>\n      <td>85.35</td>\n      <td>2201.83</td>\n      <td>52.52</td>\n      <td>839.67</td>\n      <td>20.24</td>\n      <td>14.08</td>\n      <td>1680.12</td>\n      <td>50.20</td>\n      <td>4574.99</td>\n      <td>14.20</td>\n      <td>2245.64</td>\n      <td>2114.0</td>\n      <td>3213.69</td>\n      <td>3982.96</td>\n      <td>4254.98</td>\n    </tr>\n    <tr>\n      <th>min</th>\n      <td>0.00</td>\n      <td>0.00</td>\n      <td>0.00</td>\n      <td>0.00</td>\n      <td>0.00</td>\n      <td>0.00</td>\n      <td>0.00</td>\n      <td>0.00</td>\n      <td>18041.00</td>\n      <td>9.33</td>\n      <td>0.00</td>\n      <td>0.0</td>\n      <td>0.00</td>\n      <td>6363.00</td>\n      <td>0.00</td>\n    </tr>\n    <tr>\n      <th>25%</th>\n      <td>333.00</td>\n      <td>4126.00</td>\n      <td>263.00</td>\n      <td>5760.00</td>\n      <td>53.00</td>\n      <td>73.00</td>\n      <td>71.00</td>\n      <td>240.00</td>\n      <td>24807.75</td>\n      <td>49.35</td>\n      <td>2678.00</td>\n      <td>2393.0</td>\n      <td>2933.00</td>\n      <td>14031.75</td>\n      <td>8266.00</td>\n    </tr>\n    <tr>\n      <th>50%</th>\n      <td>367.00</td>\n      <td>4969.00</td>\n      <td>300.00</td>\n      <td>6566.00</td>\n      <td>57.00</td>\n      <td>88.00</td>\n      <td>616.00</td>\n      <td>279.00</td>\n      <td>28901.00</td>\n      <td>58.02</td>\n      <td>4983.00</td>\n      <td>3589.0</td>\n      <td>4849.00</td>\n      <td>17005.00</td>\n      <td>10896.00</td>\n    </tr>\n    <tr>\n      <th>75%</th>\n      <td>433.00</td>\n      <td>6429.00</td>\n      <td>330.00</td>\n      <td>7025.00</td>\n      <td>80.00</td>\n      <td>97.00</td>\n      <td>2578.00</td>\n      <td>310.00</td>\n      <td>32192.00</td>\n      <td>68.01</td>\n      <td>6503.00</td>\n      <td>5314.0</td>\n      <td>7398.00</td>\n      <td>19973.00</td>\n      <td>14023.00</td>\n    </tr>\n    <tr>\n      <th>max</th>\n      <td>592.00</td>\n      <td>20034.00</td>\n      <td>449.00</td>\n      <td>7117.00</td>\n      <td>106.00</td>\n      <td>119.00</td>\n      <td>5792.00</td>\n      <td>357.00</td>\n      <td>41015.00</td>\n      <td>116.80</td>\n      <td>9320.00</td>\n      <td>11613.0</td>\n      <td>17436.00</td>\n      <td>34498.00</td>\n      <td>27691.00</td>\n    </tr>\n  </tbody>\n</table>\n</div>"
     },
     "execution_count": 8,
     "metadata": {},
     "output_type": "execute_result"
    }
   ],
   "source": [
    "df_energy.describe().round(2)"
   ]
  },
  {
   "cell_type": "code",
   "execution_count": 9,
   "metadata": {
    "collapsed": false,
    "pycharm": {
     "name": "#%%\n"
    }
   },
   "outputs": [],
   "source": [
    "df_energy['time'] = pd.to_datetime(df_energy['time'], utc=True, infer_datetime_format=True)\n",
    "df_energy = df_energy.set_index('time')"
   ]
  },
  {
   "cell_type": "code",
   "execution_count": 10,
   "metadata": {
    "collapsed": false,
    "pycharm": {
     "name": "#%%\n"
    }
   },
   "outputs": [
    {
     "name": "stdout",
     "output_type": "stream",
     "text": [
      "There are 279 missing values or NaNs in df_energy.\n",
      "There are 0 duplicate rows in df_energy based on all columns.\n"
     ]
    }
   ],
   "source": [
    "# Find NaNs and duplicates in df_energy\n",
    "\n",
    "print('There are {} missing values or NaNs in df_energy.'\n",
    "      .format(df_energy.isnull().values.sum()))\n",
    "\n",
    "temp_energy = df_energy.duplicated(keep='first').sum()\n",
    "\n",
    "print('There are {} duplicate rows in df_energy based on all columns.'\n",
    "      .format(temp_energy))"
   ]
  },
  {
   "cell_type": "code",
   "execution_count": 11,
   "metadata": {
    "collapsed": false,
    "pycharm": {
     "name": "#%%\n"
    }
   },
   "outputs": [
    {
     "data": {
      "text/plain": "generation biomass            19\ngeneration fossil gas         18\ngeneration fossil oil         19\ngeneration nuclear            17\ngeneration other              18\ngeneration other renewable    18\ngeneration solar              18\ngeneration waste              19\ntotal load actual             36\nprice actual                   0\ngeneration coal               18\ngeneration hydro              20\ngeneration wind               18\ngeneration non-renewable      20\ngeneration renewable          21\ndtype: int64"
     },
     "execution_count": 11,
     "metadata": {},
     "output_type": "execute_result"
    }
   ],
   "source": [
    "# Find the number of NaNs in each column\n",
    "\n",
    "df_energy.isnull().sum(axis=0)"
   ]
  },
  {
   "cell_type": "code",
   "execution_count": 12,
   "metadata": {
    "collapsed": false,
    "pycharm": {
     "name": "#%%\n"
    }
   },
   "outputs": [
    {
     "data": {
      "text/plain": "                           generation biomass  generation fossil gas  \\\ntime                                                                   \n2016-11-23 03:00:00+00:00                 NaN                 4838.0   \n2017-11-14 11:00:00+00:00                 0.0                10064.0   \n2017-11-14 18:00:00+00:00                 0.0                12336.0   \n2018-06-11 16:00:00+00:00               331.0                 7538.0   \n2018-07-11 07:00:00+00:00                 NaN                    NaN   \n\n                           generation fossil oil  generation nuclear  \\\ntime                                                                   \n2016-11-23 03:00:00+00:00                  269.0              5040.0   \n2017-11-14 11:00:00+00:00                    0.0                 0.0   \n2017-11-14 18:00:00+00:00                    0.0                 0.0   \n2018-06-11 16:00:00+00:00                  300.0              5856.0   \n2018-07-11 07:00:00+00:00                    NaN                 NaN   \n\n                           generation other  generation other renewable  \\\ntime                                                                      \n2016-11-23 03:00:00+00:00              60.0                        85.0   \n2017-11-14 11:00:00+00:00               0.0                         0.0   \n2017-11-14 18:00:00+00:00               0.0                         0.0   \n2018-06-11 16:00:00+00:00              52.0                        96.0   \n2018-07-11 07:00:00+00:00               NaN                         NaN   \n\n                           generation solar  generation waste  \\\ntime                                                            \n2016-11-23 03:00:00+00:00              15.0             227.0   \n2017-11-14 11:00:00+00:00               0.0               0.0   \n2017-11-14 18:00:00+00:00               0.0               0.0   \n2018-06-11 16:00:00+00:00             170.0             269.0   \n2018-07-11 07:00:00+00:00               NaN               NaN   \n\n                           total load actual  price actual  generation coal  \\\ntime                                                                          \n2016-11-23 03:00:00+00:00            23112.0         49.11           5447.0   \n2017-11-14 11:00:00+00:00                NaN         66.17              0.0   \n2017-11-14 18:00:00+00:00                NaN         75.45              0.0   \n2018-06-11 16:00:00+00:00                NaN         64.93           5866.0   \n2018-07-11 07:00:00+00:00                NaN         69.79              NaN   \n\n                           generation hydro  generation wind  \\\ntime                                                           \n2016-11-23 03:00:00+00:00            2643.0           4598.0   \n2017-11-14 11:00:00+00:00               0.0              0.0   \n2017-11-14 18:00:00+00:00               0.0              0.0   \n2018-06-11 16:00:00+00:00            5393.0           9165.0   \n2018-07-11 07:00:00+00:00               NaN              NaN   \n\n                           generation non-renewable  generation renewable  \ntime                                                                       \n2016-11-23 03:00:00+00:00                   15881.0                   NaN  \n2017-11-14 11:00:00+00:00                   10064.0                   0.0  \n2017-11-14 18:00:00+00:00                   12336.0                   0.0  \n2018-06-11 16:00:00+00:00                   19881.0               15155.0  \n2018-07-11 07:00:00+00:00                       NaN                   NaN  ",
      "text/html": "<div>\n<style scoped>\n    .dataframe tbody tr th:only-of-type {\n        vertical-align: middle;\n    }\n\n    .dataframe tbody tr th {\n        vertical-align: top;\n    }\n\n    .dataframe thead th {\n        text-align: right;\n    }\n</style>\n<table border=\"1\" class=\"dataframe\">\n  <thead>\n    <tr style=\"text-align: right;\">\n      <th></th>\n      <th>generation biomass</th>\n      <th>generation fossil gas</th>\n      <th>generation fossil oil</th>\n      <th>generation nuclear</th>\n      <th>generation other</th>\n      <th>generation other renewable</th>\n      <th>generation solar</th>\n      <th>generation waste</th>\n      <th>total load actual</th>\n      <th>price actual</th>\n      <th>generation coal</th>\n      <th>generation hydro</th>\n      <th>generation wind</th>\n      <th>generation non-renewable</th>\n      <th>generation renewable</th>\n    </tr>\n    <tr>\n      <th>time</th>\n      <th></th>\n      <th></th>\n      <th></th>\n      <th></th>\n      <th></th>\n      <th></th>\n      <th></th>\n      <th></th>\n      <th></th>\n      <th></th>\n      <th></th>\n      <th></th>\n      <th></th>\n      <th></th>\n      <th></th>\n    </tr>\n  </thead>\n  <tbody>\n    <tr>\n      <th>2016-11-23 03:00:00+00:00</th>\n      <td>NaN</td>\n      <td>4838.0</td>\n      <td>269.0</td>\n      <td>5040.0</td>\n      <td>60.0</td>\n      <td>85.0</td>\n      <td>15.0</td>\n      <td>227.0</td>\n      <td>23112.0</td>\n      <td>49.11</td>\n      <td>5447.0</td>\n      <td>2643.0</td>\n      <td>4598.0</td>\n      <td>15881.0</td>\n      <td>NaN</td>\n    </tr>\n    <tr>\n      <th>2017-11-14 11:00:00+00:00</th>\n      <td>0.0</td>\n      <td>10064.0</td>\n      <td>0.0</td>\n      <td>0.0</td>\n      <td>0.0</td>\n      <td>0.0</td>\n      <td>0.0</td>\n      <td>0.0</td>\n      <td>NaN</td>\n      <td>66.17</td>\n      <td>0.0</td>\n      <td>0.0</td>\n      <td>0.0</td>\n      <td>10064.0</td>\n      <td>0.0</td>\n    </tr>\n    <tr>\n      <th>2017-11-14 18:00:00+00:00</th>\n      <td>0.0</td>\n      <td>12336.0</td>\n      <td>0.0</td>\n      <td>0.0</td>\n      <td>0.0</td>\n      <td>0.0</td>\n      <td>0.0</td>\n      <td>0.0</td>\n      <td>NaN</td>\n      <td>75.45</td>\n      <td>0.0</td>\n      <td>0.0</td>\n      <td>0.0</td>\n      <td>12336.0</td>\n      <td>0.0</td>\n    </tr>\n    <tr>\n      <th>2018-06-11 16:00:00+00:00</th>\n      <td>331.0</td>\n      <td>7538.0</td>\n      <td>300.0</td>\n      <td>5856.0</td>\n      <td>52.0</td>\n      <td>96.0</td>\n      <td>170.0</td>\n      <td>269.0</td>\n      <td>NaN</td>\n      <td>64.93</td>\n      <td>5866.0</td>\n      <td>5393.0</td>\n      <td>9165.0</td>\n      <td>19881.0</td>\n      <td>15155.0</td>\n    </tr>\n    <tr>\n      <th>2018-07-11 07:00:00+00:00</th>\n      <td>NaN</td>\n      <td>NaN</td>\n      <td>NaN</td>\n      <td>NaN</td>\n      <td>NaN</td>\n      <td>NaN</td>\n      <td>NaN</td>\n      <td>NaN</td>\n      <td>NaN</td>\n      <td>69.79</td>\n      <td>NaN</td>\n      <td>NaN</td>\n      <td>NaN</td>\n      <td>NaN</td>\n      <td>NaN</td>\n    </tr>\n  </tbody>\n</table>\n</div>"
     },
     "execution_count": 12,
     "metadata": {},
     "output_type": "execute_result"
    }
   ],
   "source": [
    "# Display the rows with null values\n",
    "\n",
    "df_energy[df_energy.isnull().any(axis=1)].tail()"
   ]
  },
  {
   "cell_type": "code",
   "execution_count": 13,
   "metadata": {
    "collapsed": false,
    "pycharm": {
     "name": "#%%\n"
    }
   },
   "outputs": [],
   "source": [
    "# Fill null values using interpolation\n",
    "\n",
    "df_energy.interpolate(method='linear', limit_direction='forward', inplace=True, axis=0)"
   ]
  },
  {
   "cell_type": "code",
   "execution_count": 14,
   "metadata": {
    "collapsed": false,
    "pycharm": {
     "name": "#%%\n"
    }
   },
   "outputs": [
    {
     "name": "stdout",
     "output_type": "stream",
     "text": [
      "Non-zero values in each column:\n",
      "\n",
      "generation biomass            35060\n",
      "generation fossil gas         35063\n",
      "generation fossil oil         35061\n",
      "generation nuclear            35061\n",
      "generation other              35060\n",
      "generation other renewable    35061\n",
      "generation solar              35061\n",
      "generation waste              35061\n",
      "total load actual             35064\n",
      "price actual                  35064\n",
      "generation coal               35061\n",
      "generation hydro              35061\n",
      "generation wind               35061\n",
      "generation non-renewable      35064\n",
      "generation renewable          35061\n",
      "dtype: int64\n"
     ]
    }
   ],
   "source": [
    "# Display the number of non-zero values in each column\n",
    "\n",
    "print('Non-zero values in each column:\\n', df_energy.astype(bool).sum(axis=0), sep='\\n')"
   ]
  },
  {
   "cell_type": "code",
   "execution_count": 15,
   "metadata": {
    "collapsed": false,
    "pycharm": {
     "name": "#%%\n"
    }
   },
   "outputs": [
    {
     "data": {
      "text/plain": "                      dt_iso city_name     temp  temp_min  temp_max  pressure  \\\n0  2015-01-01 00:00:00+01:00  Valencia  270.475   270.475   270.475      1001   \n1  2015-01-01 01:00:00+01:00  Valencia  270.475   270.475   270.475      1001   \n2  2015-01-01 02:00:00+01:00  Valencia  269.686   269.686   269.686      1002   \n3  2015-01-01 03:00:00+01:00  Valencia  269.686   269.686   269.686      1002   \n4  2015-01-01 04:00:00+01:00  Valencia  269.686   269.686   269.686      1002   \n\n   humidity  wind_speed  wind_deg  rain_1h  rain_3h  snow_3h  clouds_all  \\\n0        77           1        62      0.0      0.0      0.0           0   \n1        77           1        62      0.0      0.0      0.0           0   \n2        78           0        23      0.0      0.0      0.0           0   \n3        78           0        23      0.0      0.0      0.0           0   \n4        78           0        23      0.0      0.0      0.0           0   \n\n   weather_id weather_main weather_description  \n0         800        clear        sky is clear  \n1         800        clear        sky is clear  \n2         800        clear        sky is clear  \n3         800        clear        sky is clear  \n4         800        clear        sky is clear  ",
      "text/html": "<div>\n<style scoped>\n    .dataframe tbody tr th:only-of-type {\n        vertical-align: middle;\n    }\n\n    .dataframe tbody tr th {\n        vertical-align: top;\n    }\n\n    .dataframe thead th {\n        text-align: right;\n    }\n</style>\n<table border=\"1\" class=\"dataframe\">\n  <thead>\n    <tr style=\"text-align: right;\">\n      <th></th>\n      <th>dt_iso</th>\n      <th>city_name</th>\n      <th>temp</th>\n      <th>temp_min</th>\n      <th>temp_max</th>\n      <th>pressure</th>\n      <th>humidity</th>\n      <th>wind_speed</th>\n      <th>wind_deg</th>\n      <th>rain_1h</th>\n      <th>rain_3h</th>\n      <th>snow_3h</th>\n      <th>clouds_all</th>\n      <th>weather_id</th>\n      <th>weather_main</th>\n      <th>weather_description</th>\n    </tr>\n  </thead>\n  <tbody>\n    <tr>\n      <th>0</th>\n      <td>2015-01-01 00:00:00+01:00</td>\n      <td>Valencia</td>\n      <td>270.475</td>\n      <td>270.475</td>\n      <td>270.475</td>\n      <td>1001</td>\n      <td>77</td>\n      <td>1</td>\n      <td>62</td>\n      <td>0.0</td>\n      <td>0.0</td>\n      <td>0.0</td>\n      <td>0</td>\n      <td>800</td>\n      <td>clear</td>\n      <td>sky is clear</td>\n    </tr>\n    <tr>\n      <th>1</th>\n      <td>2015-01-01 01:00:00+01:00</td>\n      <td>Valencia</td>\n      <td>270.475</td>\n      <td>270.475</td>\n      <td>270.475</td>\n      <td>1001</td>\n      <td>77</td>\n      <td>1</td>\n      <td>62</td>\n      <td>0.0</td>\n      <td>0.0</td>\n      <td>0.0</td>\n      <td>0</td>\n      <td>800</td>\n      <td>clear</td>\n      <td>sky is clear</td>\n    </tr>\n    <tr>\n      <th>2</th>\n      <td>2015-01-01 02:00:00+01:00</td>\n      <td>Valencia</td>\n      <td>269.686</td>\n      <td>269.686</td>\n      <td>269.686</td>\n      <td>1002</td>\n      <td>78</td>\n      <td>0</td>\n      <td>23</td>\n      <td>0.0</td>\n      <td>0.0</td>\n      <td>0.0</td>\n      <td>0</td>\n      <td>800</td>\n      <td>clear</td>\n      <td>sky is clear</td>\n    </tr>\n    <tr>\n      <th>3</th>\n      <td>2015-01-01 03:00:00+01:00</td>\n      <td>Valencia</td>\n      <td>269.686</td>\n      <td>269.686</td>\n      <td>269.686</td>\n      <td>1002</td>\n      <td>78</td>\n      <td>0</td>\n      <td>23</td>\n      <td>0.0</td>\n      <td>0.0</td>\n      <td>0.0</td>\n      <td>0</td>\n      <td>800</td>\n      <td>clear</td>\n      <td>sky is clear</td>\n    </tr>\n    <tr>\n      <th>4</th>\n      <td>2015-01-01 04:00:00+01:00</td>\n      <td>Valencia</td>\n      <td>269.686</td>\n      <td>269.686</td>\n      <td>269.686</td>\n      <td>1002</td>\n      <td>78</td>\n      <td>0</td>\n      <td>23</td>\n      <td>0.0</td>\n      <td>0.0</td>\n      <td>0.0</td>\n      <td>0</td>\n      <td>800</td>\n      <td>clear</td>\n      <td>sky is clear</td>\n    </tr>\n  </tbody>\n</table>\n</div>"
     },
     "execution_count": 15,
     "metadata": {},
     "output_type": "execute_result"
    }
   ],
   "source": [
    "df_weather.head()"
   ]
  },
  {
   "cell_type": "code",
   "execution_count": 16,
   "metadata": {
    "collapsed": false,
    "pycharm": {
     "name": "#%%\n"
    }
   },
   "outputs": [
    {
     "data": {
      "text/plain": "            temp   temp_min   temp_max    pressure   humidity  wind_speed  \\\ncount  178396.00  178396.00  178396.00   178396.00  178396.00   178396.00   \nmean      289.62     288.33     291.09     1069.26      68.42        2.47   \nstd         8.03       7.96       8.61     5969.63      21.90        2.10   \nmin       262.24     262.24     262.24        0.00       0.00        0.00   \n25%       283.67     282.48     284.65     1013.00      53.00        1.00   \n50%       289.15     288.15     290.15     1018.00      72.00        2.00   \n75%       295.15     293.73     297.15     1022.00      87.00        4.00   \nmax       315.60     315.15     321.15  1008371.00     100.00      133.00   \n\n        wind_deg    rain_1h    rain_3h    snow_3h  clouds_all  weather_id  \ncount  178396.00  178396.00  178396.00  178396.00   178396.00   178396.00  \nmean      166.59       0.08       0.00       0.00       25.07      759.83  \nstd       116.61       0.40       0.01       0.22       30.77      108.73  \nmin         0.00       0.00       0.00       0.00        0.00      200.00  \n25%        55.00       0.00       0.00       0.00        0.00      800.00  \n50%       177.00       0.00       0.00       0.00       20.00      800.00  \n75%       270.00       0.00       0.00       0.00       40.00      801.00  \nmax       360.00      12.00       2.32      21.50      100.00      804.00  ",
      "text/html": "<div>\n<style scoped>\n    .dataframe tbody tr th:only-of-type {\n        vertical-align: middle;\n    }\n\n    .dataframe tbody tr th {\n        vertical-align: top;\n    }\n\n    .dataframe thead th {\n        text-align: right;\n    }\n</style>\n<table border=\"1\" class=\"dataframe\">\n  <thead>\n    <tr style=\"text-align: right;\">\n      <th></th>\n      <th>temp</th>\n      <th>temp_min</th>\n      <th>temp_max</th>\n      <th>pressure</th>\n      <th>humidity</th>\n      <th>wind_speed</th>\n      <th>wind_deg</th>\n      <th>rain_1h</th>\n      <th>rain_3h</th>\n      <th>snow_3h</th>\n      <th>clouds_all</th>\n      <th>weather_id</th>\n    </tr>\n  </thead>\n  <tbody>\n    <tr>\n      <th>count</th>\n      <td>178396.00</td>\n      <td>178396.00</td>\n      <td>178396.00</td>\n      <td>178396.00</td>\n      <td>178396.00</td>\n      <td>178396.00</td>\n      <td>178396.00</td>\n      <td>178396.00</td>\n      <td>178396.00</td>\n      <td>178396.00</td>\n      <td>178396.00</td>\n      <td>178396.00</td>\n    </tr>\n    <tr>\n      <th>mean</th>\n      <td>289.62</td>\n      <td>288.33</td>\n      <td>291.09</td>\n      <td>1069.26</td>\n      <td>68.42</td>\n      <td>2.47</td>\n      <td>166.59</td>\n      <td>0.08</td>\n      <td>0.00</td>\n      <td>0.00</td>\n      <td>25.07</td>\n      <td>759.83</td>\n    </tr>\n    <tr>\n      <th>std</th>\n      <td>8.03</td>\n      <td>7.96</td>\n      <td>8.61</td>\n      <td>5969.63</td>\n      <td>21.90</td>\n      <td>2.10</td>\n      <td>116.61</td>\n      <td>0.40</td>\n      <td>0.01</td>\n      <td>0.22</td>\n      <td>30.77</td>\n      <td>108.73</td>\n    </tr>\n    <tr>\n      <th>min</th>\n      <td>262.24</td>\n      <td>262.24</td>\n      <td>262.24</td>\n      <td>0.00</td>\n      <td>0.00</td>\n      <td>0.00</td>\n      <td>0.00</td>\n      <td>0.00</td>\n      <td>0.00</td>\n      <td>0.00</td>\n      <td>0.00</td>\n      <td>200.00</td>\n    </tr>\n    <tr>\n      <th>25%</th>\n      <td>283.67</td>\n      <td>282.48</td>\n      <td>284.65</td>\n      <td>1013.00</td>\n      <td>53.00</td>\n      <td>1.00</td>\n      <td>55.00</td>\n      <td>0.00</td>\n      <td>0.00</td>\n      <td>0.00</td>\n      <td>0.00</td>\n      <td>800.00</td>\n    </tr>\n    <tr>\n      <th>50%</th>\n      <td>289.15</td>\n      <td>288.15</td>\n      <td>290.15</td>\n      <td>1018.00</td>\n      <td>72.00</td>\n      <td>2.00</td>\n      <td>177.00</td>\n      <td>0.00</td>\n      <td>0.00</td>\n      <td>0.00</td>\n      <td>20.00</td>\n      <td>800.00</td>\n    </tr>\n    <tr>\n      <th>75%</th>\n      <td>295.15</td>\n      <td>293.73</td>\n      <td>297.15</td>\n      <td>1022.00</td>\n      <td>87.00</td>\n      <td>4.00</td>\n      <td>270.00</td>\n      <td>0.00</td>\n      <td>0.00</td>\n      <td>0.00</td>\n      <td>40.00</td>\n      <td>801.00</td>\n    </tr>\n    <tr>\n      <th>max</th>\n      <td>315.60</td>\n      <td>315.15</td>\n      <td>321.15</td>\n      <td>1008371.00</td>\n      <td>100.00</td>\n      <td>133.00</td>\n      <td>360.00</td>\n      <td>12.00</td>\n      <td>2.32</td>\n      <td>21.50</td>\n      <td>100.00</td>\n      <td>804.00</td>\n    </tr>\n  </tbody>\n</table>\n</div>"
     },
     "execution_count": 16,
     "metadata": {},
     "output_type": "execute_result"
    }
   ],
   "source": [
    "df_weather.describe().round(2)"
   ]
  },
  {
   "cell_type": "code",
   "execution_count": 17,
   "metadata": {
    "collapsed": false,
    "pycharm": {
     "name": "#%%\n"
    }
   },
   "outputs": [
    {
     "name": "stdout",
     "output_type": "stream",
     "text": [
      "<class 'pandas.core.frame.DataFrame'>\n",
      "RangeIndex: 178396 entries, 0 to 178395\n",
      "Data columns (total 16 columns):\n",
      " #   Column               Non-Null Count   Dtype  \n",
      "---  ------               --------------   -----  \n",
      " 0   dt_iso               178396 non-null  object \n",
      " 1   city_name            178396 non-null  object \n",
      " 2   temp                 178396 non-null  float64\n",
      " 3   temp_min             178396 non-null  float64\n",
      " 4   temp_max             178396 non-null  float64\n",
      " 5   pressure             178396 non-null  int64  \n",
      " 6   humidity             178396 non-null  int64  \n",
      " 7   wind_speed           178396 non-null  int64  \n",
      " 8   wind_deg             178396 non-null  int64  \n",
      " 9   rain_1h              178396 non-null  float64\n",
      " 10  rain_3h              178396 non-null  float64\n",
      " 11  snow_3h              178396 non-null  float64\n",
      " 12  clouds_all           178396 non-null  int64  \n",
      " 13  weather_id           178396 non-null  int64  \n",
      " 14  weather_main         178396 non-null  object \n",
      " 15  weather_description  178396 non-null  object \n",
      "dtypes: float64(6), int64(6), object(4)\n",
      "memory usage: 21.8+ MB\n"
     ]
    }
   ],
   "source": [
    "# Print the type of each variable in df_weather\n",
    "\n",
    "df_weather.info()"
   ]
  },
  {
   "cell_type": "code",
   "execution_count": 18,
   "metadata": {
    "collapsed": false,
    "pycharm": {
     "name": "#%%\n"
    }
   },
   "outputs": [],
   "source": [
    "def df_convert_dtypes(df, convert_from, convert_to):\n",
    "    cols = df.select_dtypes(include=[convert_from]).columns\n",
    "    for col in cols:\n",
    "        df[col] = df[col].values.astype(convert_to)\n",
    "    return df"
   ]
  },
  {
   "cell_type": "code",
   "execution_count": 19,
   "metadata": {
    "collapsed": false,
    "pycharm": {
     "name": "#%%\n"
    }
   },
   "outputs": [],
   "source": [
    "df_weather = df_convert_dtypes(df_weather, np.int64, np.float64)"
   ]
  },
  {
   "cell_type": "code",
   "execution_count": 20,
   "metadata": {
    "collapsed": false,
    "pycharm": {
     "name": "#%%\n"
    }
   },
   "outputs": [],
   "source": [
    "df_weather['time'] = pd.to_datetime(df_weather['dt_iso'], utc=True, infer_datetime_format=True)\n",
    "df_weather = df_weather.drop(['dt_iso'], axis=1)\n",
    "df_weather = df_weather.set_index('time')"
   ]
  },
  {
   "cell_type": "code",
   "execution_count": 21,
   "metadata": {
    "collapsed": false,
    "pycharm": {
     "name": "#%%\n"
    }
   },
   "outputs": [
    {
     "data": {
      "text/plain": "                  temp    temp_min    temp_max     pressure   humidity  \\\ncity_name                                                                \n Barcelona  289.848248  288.594704  291.021987  1284.010486  73.994221   \nBilbao      286.378489  284.916661  288.036687  1017.567439  79.089455   \nMadrid      288.061071  286.824877  289.155600  1011.838448  59.776932   \nSeville     293.105431  291.184103  295.962431  1018.504711  64.140732   \nValencia    290.780780  290.222277  291.355025  1015.973794  65.145113   \n\n            wind_speed    wind_deg   rain_1h   rain_3h   snow_3h  clouds_all  \\\ncity_name                                                                      \n Barcelona    2.786588  187.188043  0.117079  0.000327  0.000000   23.229648   \nBilbao        1.957470  159.883536  0.123493  0.001034  0.023455   43.960697   \nMadrid        2.441696  173.293159  0.055083  0.000129  0.000029   22.397028   \nSeville       2.483787  151.757179  0.045392  0.000180  0.000000   14.748770   \nValencia      2.692815  160.753820  0.035924  0.000226  0.000154   20.820999   \n\n            weather_id  \ncity_name               \n Barcelona  760.917465  \nBilbao      723.943228  \nMadrid      762.260264  \nSeville     771.409849  \nValencia    781.228283  ",
      "text/html": "<div>\n<style scoped>\n    .dataframe tbody tr th:only-of-type {\n        vertical-align: middle;\n    }\n\n    .dataframe tbody tr th {\n        vertical-align: top;\n    }\n\n    .dataframe thead th {\n        text-align: right;\n    }\n</style>\n<table border=\"1\" class=\"dataframe\">\n  <thead>\n    <tr style=\"text-align: right;\">\n      <th></th>\n      <th>temp</th>\n      <th>temp_min</th>\n      <th>temp_max</th>\n      <th>pressure</th>\n      <th>humidity</th>\n      <th>wind_speed</th>\n      <th>wind_deg</th>\n      <th>rain_1h</th>\n      <th>rain_3h</th>\n      <th>snow_3h</th>\n      <th>clouds_all</th>\n      <th>weather_id</th>\n    </tr>\n    <tr>\n      <th>city_name</th>\n      <th></th>\n      <th></th>\n      <th></th>\n      <th></th>\n      <th></th>\n      <th></th>\n      <th></th>\n      <th></th>\n      <th></th>\n      <th></th>\n      <th></th>\n      <th></th>\n    </tr>\n  </thead>\n  <tbody>\n    <tr>\n      <th>Barcelona</th>\n      <td>289.848248</td>\n      <td>288.594704</td>\n      <td>291.021987</td>\n      <td>1284.010486</td>\n      <td>73.994221</td>\n      <td>2.786588</td>\n      <td>187.188043</td>\n      <td>0.117079</td>\n      <td>0.000327</td>\n      <td>0.000000</td>\n      <td>23.229648</td>\n      <td>760.917465</td>\n    </tr>\n    <tr>\n      <th>Bilbao</th>\n      <td>286.378489</td>\n      <td>284.916661</td>\n      <td>288.036687</td>\n      <td>1017.567439</td>\n      <td>79.089455</td>\n      <td>1.957470</td>\n      <td>159.883536</td>\n      <td>0.123493</td>\n      <td>0.001034</td>\n      <td>0.023455</td>\n      <td>43.960697</td>\n      <td>723.943228</td>\n    </tr>\n    <tr>\n      <th>Madrid</th>\n      <td>288.061071</td>\n      <td>286.824877</td>\n      <td>289.155600</td>\n      <td>1011.838448</td>\n      <td>59.776932</td>\n      <td>2.441696</td>\n      <td>173.293159</td>\n      <td>0.055083</td>\n      <td>0.000129</td>\n      <td>0.000029</td>\n      <td>22.397028</td>\n      <td>762.260264</td>\n    </tr>\n    <tr>\n      <th>Seville</th>\n      <td>293.105431</td>\n      <td>291.184103</td>\n      <td>295.962431</td>\n      <td>1018.504711</td>\n      <td>64.140732</td>\n      <td>2.483787</td>\n      <td>151.757179</td>\n      <td>0.045392</td>\n      <td>0.000180</td>\n      <td>0.000000</td>\n      <td>14.748770</td>\n      <td>771.409849</td>\n    </tr>\n    <tr>\n      <th>Valencia</th>\n      <td>290.780780</td>\n      <td>290.222277</td>\n      <td>291.355025</td>\n      <td>1015.973794</td>\n      <td>65.145113</td>\n      <td>2.692815</td>\n      <td>160.753820</td>\n      <td>0.035924</td>\n      <td>0.000226</td>\n      <td>0.000154</td>\n      <td>20.820999</td>\n      <td>781.228283</td>\n    </tr>\n  </tbody>\n</table>\n</div>"
     },
     "execution_count": 21,
     "metadata": {},
     "output_type": "execute_result"
    }
   ],
   "source": [
    "# Display average weather features grouped by each city\n",
    "\n",
    "mean_weather_by_city = df_weather.groupby('city_name').mean()\n",
    "mean_weather_by_city"
   ]
  },
  {
   "cell_type": "code",
   "execution_count": 22,
   "metadata": {
    "collapsed": false,
    "pycharm": {
     "name": "#%%\n"
    }
   },
   "outputs": [
    {
     "name": "stdout",
     "output_type": "stream",
     "text": [
      "There are 0 missing values or NaNs in df_weather.\n",
      "There are 9935 duplicate rows in df_weather based on all columns.\n"
     ]
    }
   ],
   "source": [
    "# Find NaNs and duplicates in df_weather\n",
    "\n",
    "print('There are {} missing values or NaNs in df_weather.'\n",
    "      .format(df_weather.isnull().values.sum()))\n",
    "\n",
    "temp_weather = df_weather.duplicated(keep='first').sum()\n",
    "\n",
    "print('There are {} duplicate rows in df_weather based on all columns.'\n",
    "      .format(temp_weather))"
   ]
  },
  {
   "cell_type": "code",
   "execution_count": 23,
   "metadata": {
    "collapsed": false,
    "pycharm": {
     "name": "#%%\n"
    }
   },
   "outputs": [
    {
     "name": "stdout",
     "output_type": "stream",
     "text": [
      "There are 35064 observations in df_energy.\n",
      "There are 35145 observations in df_weather about city: Valencia.\n",
      "There are 36267 observations in df_weather about city: Madrid.\n",
      "There are 35951 observations in df_weather about city: Bilbao.\n",
      "There are 35476 observations in df_weather about city:  Barcelona.\n",
      "There are 35557 observations in df_weather about city: Seville.\n"
     ]
    }
   ],
   "source": [
    "# Display the number of rows in each dataframe\n",
    "\n",
    "print('There are {} observations in df_energy.'.format(df_energy.shape[0]))\n",
    "\n",
    "cities = df_weather['city_name'].unique()\n",
    "grouped_weather = df_weather.groupby('city_name')\n",
    "\n",
    "for city in cities:\n",
    "    print('There are {} observations in df_weather'\n",
    "          .format(grouped_weather.get_group('{}'.format(city)).shape[0]),\n",
    "          'about city: {}.'.format(city))"
   ]
  },
  {
   "cell_type": "code",
   "execution_count": 24,
   "metadata": {
    "collapsed": false,
    "pycharm": {
     "name": "#%%\n"
    }
   },
   "outputs": [],
   "source": [
    "df_weather = df_weather.reset_index().drop_duplicates(subset=['time', 'city_name'],\n",
    "                                                      keep='first').set_index('time')"
   ]
  },
  {
   "cell_type": "code",
   "execution_count": 25,
   "metadata": {
    "collapsed": false,
    "pycharm": {
     "name": "#%%\n"
    }
   },
   "outputs": [
    {
     "name": "stdout",
     "output_type": "stream",
     "text": [
      "There are 35064 observations in df_energy.\n",
      "There are 35064 observations in df_weather about city: Valencia.\n",
      "There are 35064 observations in df_weather about city: Madrid.\n",
      "There are 35064 observations in df_weather about city: Bilbao.\n",
      "There are 35064 observations in df_weather about city:  Barcelona.\n",
      "There are 35064 observations in df_weather about city: Seville.\n"
     ]
    }
   ],
   "source": [
    "# Display the number of rows in each dataframe again\n",
    "\n",
    "print('There are {} observations in df_energy.'.format(df_energy.shape[0]))\n",
    "\n",
    "grouped_weather = df_weather.groupby('city_name')\n",
    "\n",
    "for city in cities:\n",
    "    print('There are {} observations in df_weather'\n",
    "          .format(grouped_weather.get_group('{}'.format(city)).shape[0]),\n",
    "          'about city: {}.'.format(city))"
   ]
  },
  {
   "cell_type": "code",
   "execution_count": 26,
   "metadata": {
    "collapsed": false,
    "pycharm": {
     "name": "#%%\n"
    }
   },
   "outputs": [],
   "source": [
    "# Drop columns with qualitative weather information\n",
    "df_weather = df_weather.drop(['weather_main', 'weather_id',\n",
    "                              'weather_description'],\n",
    "                             axis=1)"
   ]
  },
  {
   "cell_type": "code",
   "execution_count": 27,
   "metadata": {
    "collapsed": false,
    "pycharm": {
     "name": "#%%\n"
    }
   },
   "outputs": [
    {
     "data": {
      "text/plain": "                          city_name     temp  temp_min  temp_max  pressure  \\\ntime                                                                         \n2014-12-31 23:00:00+00:00  Valencia  270.475   270.475   270.475    1001.0   \n2015-01-01 00:00:00+00:00  Valencia  270.475   270.475   270.475    1001.0   \n2015-01-01 01:00:00+00:00  Valencia  269.686   269.686   269.686    1002.0   \n2015-01-01 02:00:00+00:00  Valencia  269.686   269.686   269.686    1002.0   \n2015-01-01 03:00:00+00:00  Valencia  269.686   269.686   269.686    1002.0   \n\n                           humidity  wind_speed  wind_deg  rain_1h  rain_3h  \\\ntime                                                                          \n2014-12-31 23:00:00+00:00      77.0         1.0      62.0      0.0      0.0   \n2015-01-01 00:00:00+00:00      77.0         1.0      62.0      0.0      0.0   \n2015-01-01 01:00:00+00:00      78.0         0.0      23.0      0.0      0.0   \n2015-01-01 02:00:00+00:00      78.0         0.0      23.0      0.0      0.0   \n2015-01-01 03:00:00+00:00      78.0         0.0      23.0      0.0      0.0   \n\n                           snow_3h  clouds_all  \ntime                                            \n2014-12-31 23:00:00+00:00      0.0         0.0  \n2015-01-01 00:00:00+00:00      0.0         0.0  \n2015-01-01 01:00:00+00:00      0.0         0.0  \n2015-01-01 02:00:00+00:00      0.0         0.0  \n2015-01-01 03:00:00+00:00      0.0         0.0  ",
      "text/html": "<div>\n<style scoped>\n    .dataframe tbody tr th:only-of-type {\n        vertical-align: middle;\n    }\n\n    .dataframe tbody tr th {\n        vertical-align: top;\n    }\n\n    .dataframe thead th {\n        text-align: right;\n    }\n</style>\n<table border=\"1\" class=\"dataframe\">\n  <thead>\n    <tr style=\"text-align: right;\">\n      <th></th>\n      <th>city_name</th>\n      <th>temp</th>\n      <th>temp_min</th>\n      <th>temp_max</th>\n      <th>pressure</th>\n      <th>humidity</th>\n      <th>wind_speed</th>\n      <th>wind_deg</th>\n      <th>rain_1h</th>\n      <th>rain_3h</th>\n      <th>snow_3h</th>\n      <th>clouds_all</th>\n    </tr>\n    <tr>\n      <th>time</th>\n      <th></th>\n      <th></th>\n      <th></th>\n      <th></th>\n      <th></th>\n      <th></th>\n      <th></th>\n      <th></th>\n      <th></th>\n      <th></th>\n      <th></th>\n      <th></th>\n    </tr>\n  </thead>\n  <tbody>\n    <tr>\n      <th>2014-12-31 23:00:00+00:00</th>\n      <td>Valencia</td>\n      <td>270.475</td>\n      <td>270.475</td>\n      <td>270.475</td>\n      <td>1001.0</td>\n      <td>77.0</td>\n      <td>1.0</td>\n      <td>62.0</td>\n      <td>0.0</td>\n      <td>0.0</td>\n      <td>0.0</td>\n      <td>0.0</td>\n    </tr>\n    <tr>\n      <th>2015-01-01 00:00:00+00:00</th>\n      <td>Valencia</td>\n      <td>270.475</td>\n      <td>270.475</td>\n      <td>270.475</td>\n      <td>1001.0</td>\n      <td>77.0</td>\n      <td>1.0</td>\n      <td>62.0</td>\n      <td>0.0</td>\n      <td>0.0</td>\n      <td>0.0</td>\n      <td>0.0</td>\n    </tr>\n    <tr>\n      <th>2015-01-01 01:00:00+00:00</th>\n      <td>Valencia</td>\n      <td>269.686</td>\n      <td>269.686</td>\n      <td>269.686</td>\n      <td>1002.0</td>\n      <td>78.0</td>\n      <td>0.0</td>\n      <td>23.0</td>\n      <td>0.0</td>\n      <td>0.0</td>\n      <td>0.0</td>\n      <td>0.0</td>\n    </tr>\n    <tr>\n      <th>2015-01-01 02:00:00+00:00</th>\n      <td>Valencia</td>\n      <td>269.686</td>\n      <td>269.686</td>\n      <td>269.686</td>\n      <td>1002.0</td>\n      <td>78.0</td>\n      <td>0.0</td>\n      <td>23.0</td>\n      <td>0.0</td>\n      <td>0.0</td>\n      <td>0.0</td>\n      <td>0.0</td>\n    </tr>\n    <tr>\n      <th>2015-01-01 03:00:00+00:00</th>\n      <td>Valencia</td>\n      <td>269.686</td>\n      <td>269.686</td>\n      <td>269.686</td>\n      <td>1002.0</td>\n      <td>78.0</td>\n      <td>0.0</td>\n      <td>23.0</td>\n      <td>0.0</td>\n      <td>0.0</td>\n      <td>0.0</td>\n      <td>0.0</td>\n    </tr>\n  </tbody>\n</table>\n</div>"
     },
     "execution_count": 27,
     "metadata": {},
     "output_type": "execute_result"
    }
   ],
   "source": [
    "df_weather.head()"
   ]
  },
  {
   "cell_type": "code",
   "execution_count": 28,
   "metadata": {
    "collapsed": false,
    "pycharm": {
     "name": "#%%\n"
    }
   },
   "outputs": [
    {
     "name": "stdout",
     "output_type": "stream",
     "text": [
      "There are 0 duplicate rows in df_weather based on all columns except \"time\" and \"city_name\".\n"
     ]
    }
   ],
   "source": [
    "# Display the number of duplicates in df_weather\n",
    "\n",
    "temp_weather = df_weather.reset_index().duplicated(subset=['time', 'city_name'],\n",
    "                                                   keep='first').sum()\n",
    "print('There are {} duplicate rows in df_weather ' \\\n",
    "      'based on all columns except \"time\" and \"city_name\".'.format(temp_weather))"
   ]
  },
  {
   "cell_type": "code",
   "execution_count": 29,
   "metadata": {
    "collapsed": false,
    "pycharm": {
     "name": "#%%\n"
    }
   },
   "outputs": [
    {
     "data": {
      "text/plain": "<Figure size 432x288 with 1 Axes>",
      "image/png": "[encoded data removed]"
     },
     "metadata": {
      "needs_background": "light"
     },
     "output_type": "display_data"
    }
   ],
   "source": [
    "# Check for outliers in 'pressure' column\n",
    "\n",
    "sns.boxplot(x=df_weather['pressure'])\n",
    "plt.show()"
   ]
  },
  {
   "cell_type": "code",
   "execution_count": 30,
   "metadata": {
    "collapsed": false,
    "pycharm": {
     "name": "#%%\n"
    }
   },
   "outputs": [],
   "source": [
    "# Replace outliers in 'pressure' with NaNs\n",
    "\n",
    "df_weather.loc[df_weather.pressure > 1051, 'pressure'] = np.nan\n",
    "df_weather.loc[df_weather.pressure < 931, 'pressure'] = np.nan"
   ]
  },
  {
   "cell_type": "code",
   "execution_count": 31,
   "metadata": {
    "collapsed": false,
    "pycharm": {
     "name": "#%%\n"
    }
   },
   "outputs": [
    {
     "data": {
      "text/plain": "<Figure size 432x288 with 1 Axes>",
      "image/png": "[encoded data removed]"
     },
     "metadata": {
      "needs_background": "light"
     },
     "output_type": "display_data"
    }
   ],
   "source": [
    "# Check for outliers in 'pressure' column again\n",
    "\n",
    "sns.boxplot(x=df_weather['pressure'])\n",
    "plt.show()"
   ]
  },
  {
   "cell_type": "code",
   "execution_count": 32,
   "metadata": {
    "collapsed": false,
    "pycharm": {
     "name": "#%%\n"
    }
   },
   "outputs": [
    {
     "data": {
      "text/plain": "<Figure size 432x288 with 1 Axes>",
      "image/png": "[encoded data removed]"
     },
     "metadata": {
      "needs_background": "light"
     },
     "output_type": "display_data"
    }
   ],
   "source": [
    "# Check for outliers in 'wind_speed' column\n",
    "\n",
    "sns.boxplot(x=df_weather['wind_speed'])\n",
    "plt.show()"
   ]
  },
  {
   "cell_type": "code",
   "execution_count": 33,
   "metadata": {
    "collapsed": false,
    "pycharm": {
     "name": "#%%\n"
    }
   },
   "outputs": [],
   "source": [
    "# Replace outliers in 'wind_speed' with NaNs\n",
    "\n",
    "df_weather.loc[df_weather.wind_speed > 50, 'wind_speed'] = np.nan"
   ]
  },
  {
   "cell_type": "code",
   "execution_count": 34,
   "metadata": {
    "collapsed": false,
    "pycharm": {
     "name": "#%%\n"
    }
   },
   "outputs": [
    {
     "data": {
      "text/plain": "<Figure size 432x288 with 1 Axes>",
      "image/png": "[encoded data removed]"
     },
     "metadata": {
      "needs_background": "light"
     },
     "output_type": "display_data"
    }
   ],
   "source": [
    "# Check for outliers in 'wind_speed' column again\n",
    "\n",
    "sns.boxplot(x=df_weather['wind_speed'])\n",
    "plt.show()"
   ]
  },
  {
   "cell_type": "code",
   "execution_count": 35,
   "metadata": {
    "collapsed": false,
    "pycharm": {
     "name": "#%%\n"
    }
   },
   "outputs": [],
   "source": [
    "# Fill null values using interpolation\n",
    "\n",
    "df_weather.interpolate(method='linear', limit_direction='forward', inplace=True, axis=0)"
   ]
  },
  {
   "cell_type": "code",
   "execution_count": null,
   "outputs": [],
   "source": [
    "# Split the df_weather into 5 dataframes (one for each city)\n",
    "\n",
    "df_1, df_2, df_3, df_4, df_5 = [x for _, x in df_weather.groupby('city_name')]\n",
    "dfs = [df_1, df_2, df_3, df_4, df_5]"
   ],
   "metadata": {
    "collapsed": false,
    "pycharm": {
     "name": "#%%\n"
    }
   }
  },
  {
   "cell_type": "code",
   "execution_count": null,
   "outputs": [],
   "source": [
    "cities = ['Barcelona', 'Bilbao', 'Madrid', 'Seville', 'Valencia']"
   ],
   "metadata": {
    "collapsed": false,
    "pycharm": {
     "name": "#%%\n"
    }
   }
  },
  {
   "cell_type": "code",
   "execution_count": null,
   "outputs": [],
   "source": [
    "# Merge all dataframes into the final dataframe\n",
    "\n",
    "df_final = df_energy\n",
    "\n",
    "for df in dfs:\n",
    "    city = df['city_name'].unique()\n",
    "    city_str = str(city).replace(\"'\", \"\").replace('[', '').replace(']', '').replace(' ', '')\n",
    "    df = df.add_suffix('_{}'.format(city_str))\n",
    "    df_final = df_final.merge(df, on=['time'], how='outer')\n",
    "    df_final = df_final.drop('city_name_{}'.format(city_str), axis=1)\n",
    "\n",
    "df_final.columns"
   ],
   "metadata": {
    "collapsed": false,
    "pycharm": {
     "name": "#%%\n"
    }
   }
  },
  {
   "cell_type": "code",
   "execution_count": null,
   "outputs": [],
   "source": [
    "df_final.head()"
   ],
   "metadata": {
    "collapsed": false,
    "pycharm": {
     "name": "#%%\n"
    }
   }
  },
  {
   "cell_type": "code",
   "execution_count": null,
   "outputs": [],
   "source": [
    "# Display the number of NaNs and duplicates in the final dataframe\n",
    "\n",
    "print('There are {} missing values or NaNs in df_final.'\n",
    "      .format(df_final.isnull().values.sum()))\n",
    "\n",
    "temp_final = df_final.duplicated(keep='first').sum()\n",
    "\n",
    "print('\\nThere are {} duplicate rows in df_energy based on all columns.'\n",
    "      .format(temp_final))"
   ],
   "metadata": {
    "collapsed": false,
    "pycharm": {
     "name": "#%%\n"
    }
   }
  },
  {
   "cell_type": "code",
   "execution_count": null,
   "outputs": [],
   "source": [
    "# Generate 'hour', 'weekday' and 'month' features\n",
    "\n",
    "for i in range(len(df_final)):\n",
    "    position = df_final.index[i]\n",
    "    hour = position.hour\n",
    "    weekday = position.weekday()\n",
    "    month = position.month\n",
    "    df_final.loc[position, 'hour'] = hour\n",
    "    df_final.loc[position, 'weekday'] = weekday\n",
    "    df_final.loc[position, 'month'] = month"
   ],
   "metadata": {
    "collapsed": false,
    "pycharm": {
     "name": "#%%\n"
    }
   }
  },
  {
   "cell_type": "code",
   "execution_count": null,
   "outputs": [],
   "source": [
    "# Generate 'business hour' feature\n",
    "\n",
    "for i in range(len(df_final)):\n",
    "    position = df_final.index[i]\n",
    "    hour = position.hour\n",
    "    if 8 <= hour <= 18:\n",
    "        df_final.loc[position, 'business hour'] = 1\n",
    "    else:\n",
    "        df_final.loc[position, 'business hour'] = 0"
   ],
   "metadata": {
    "collapsed": false,
    "pycharm": {
     "name": "#%%\n"
    }
   }
  },
  {
   "cell_type": "code",
   "execution_count": null,
   "outputs": [],
   "source": [
    "# Generate 'weekend' feature\n",
    "\n",
    "for i in range(len(df_final)):\n",
    "    position = df_final.index[i]\n",
    "    weekday = position.weekday()\n",
    "    if (weekday == 7):\n",
    "        df_final.loc[position, 'weekday'] = 2\n",
    "    elif (weekday == 6):\n",
    "        df_final.loc[position, 'weekday'] = 1\n",
    "    else:\n",
    "        df_final.loc[position, 'weekday'] = 0"
   ],
   "metadata": {
    "collapsed": false,
    "pycharm": {
     "name": "#%%\n"
    }
   }
  },
  {
   "cell_type": "code",
   "execution_count": null,
   "metadata": {
    "collapsed": false,
    "pycharm": {
     "name": "#%%\n"
    }
   },
   "outputs": [],
   "source": [
    "# Calculate the weight of every city\n",
    "\n",
    "total_pop = 6155116 + 5179243 + 1645342 + 1305342 + 987000\n",
    "\n",
    "weight_Madrid = 6155116 / total_pop\n",
    "weight_Barcelona = 5179243 / total_pop\n",
    "weight_Valencia = 1645342 / total_pop\n",
    "weight_Seville = 1305342 / total_pop\n",
    "weight_Bilbao = 987000 / total_pop"
   ]
  },
  {
   "cell_type": "code",
   "execution_count": null,
   "metadata": {
    "collapsed": false,
    "pycharm": {
     "name": "#%%\n"
    }
   },
   "outputs": [],
   "source": [
    "cities_weights = {'Madrid': weight_Madrid,\n",
    "                  'Barcelona': weight_Barcelona,\n",
    "                  'Valencia': weight_Valencia,\n",
    "                  'Seville': weight_Seville,\n",
    "                  'Bilbao': weight_Bilbao}"
   ]
  },
  {
   "cell_type": "code",
   "execution_count": null,
   "metadata": {
    "collapsed": false,
    "pycharm": {
     "name": "#%%\n"
    }
   },
   "outputs": [],
   "source": [
    "features_list = [c for c in df_final.columns if c.startswith('generation')]\n",
    "features_list"
   ]
  },
  {
   "cell_type": "code",
   "execution_count": null,
   "metadata": {
    "collapsed": false,
    "pycharm": {
     "name": "#%%\n"
    }
   },
   "outputs": [],
   "source": [
    "for city, weight in cities_weights.items():\n",
    "    for feature in features_list:\n",
    "        df_final[feature + '_' + city] = df_final[feature]*weight"
   ]
  },
  {
   "cell_type": "code",
   "execution_count": null,
   "metadata": {
    "collapsed": false,
    "pycharm": {
     "name": "#%%\n"
    }
   },
   "outputs": [],
   "source": [
    "df_final['temp_min'] = (df_final['temp_min_Madrid'] + df_final['temp_min_Bilbao'] + df_final['temp_min_Barcelona'] + df_final['temp_min_Seville'] + df_final['temp_min_Valencia'])/5\n",
    "df_final['temp'] = (df_final['temp_Madrid'] + df_final['temp_Bilbao'] + df_final['temp_Barcelona'] + df_final['temp_Seville'] + df_final['temp_Valencia'])/5\n",
    "df_final['temp_max'] = (df_final['temp_max_Madrid'] + df_final['temp_max_Bilbao'] + df_final['temp_max_Barcelona'] + df_final['temp_max_Seville'] + df_final['temp_max_Valencia'])/5\n",
    "df_final['pressure'] = (df_final['pressure_Madrid'] + df_final['pressure_Bilbao'] + df_final['pressure_Barcelona'] + df_final['pressure_Seville'] + df_final['pressure_Valencia'])/5\n",
    "df_final['humidity'] = (df_final['humidity_Madrid'] + df_final['humidity_Bilbao'] + df_final['humidity_Barcelona'] + df_final['humidity_Seville'] + df_final['humidity_Valencia'])/5\n",
    "df_final['wind_speed'] = (df_final['wind_speed_Madrid'] + df_final['wind_speed_Bilbao'] + df_final['wind_speed_Barcelona'] + df_final['wind_speed_Seville'] + df_final['wind_speed_Valencia'])/5\n",
    "df_final['rain_1h'] = (df_final['rain_1h_Madrid'] + df_final['rain_1h_Bilbao'] + df_final['rain_1h_Barcelona'] + df_final['rain_1h_Seville'] + df_final['rain_1h_Valencia'])/5\n",
    "df_final['snow_3h'] = (df_final['snow_3h_Madrid'] + df_final['snow_3h_Bilbao'] + df_final['snow_3h_Barcelona'] + df_final['snow_3h_Seville'] + df_final['snow_3h_Valencia'])/5\n",
    "df_final['clouds_all'] = (df_final['clouds_all_Madrid'] + df_final['clouds_all_Bilbao'] + df_final['clouds_all_Barcelona'] + df_final['clouds_all_Seville'] + df_final['clouds_all_Valencia'])/5"
   ]
  },
  {
   "cell_type": "code",
   "execution_count": null,
   "outputs": [],
   "source": [
    "df_final.columns"
   ],
   "metadata": {
    "collapsed": false,
    "pycharm": {
     "name": "#%%\n"
    }
   }
  },
  {
   "cell_type": "code",
   "execution_count": null,
   "metadata": {
    "collapsed": false,
    "pycharm": {
     "name": "#%%\n"
    }
   },
   "outputs": [],
   "source": [
    "df_final.head().round(2)"
   ]
  },
  {
   "cell_type": "code",
   "execution_count": null,
   "outputs": [],
   "source": [
    "# Define a function to plot different types of time-series\n",
    "\n",
    "def plot_series(df=None, column=None, series=pd.Series([]),\n",
    "                label=None, ylabel=None, title=None, start=0, end=None):\n",
    "    sns.set()\n",
    "    fig, ax = plt.subplots(figsize=(30, 12))\n",
    "    ax.set_xlabel('Time', fontsize=16)\n",
    "    if column:\n",
    "        ax.plot(df[column][start:end], label=label)\n",
    "        ax.set_ylabel(ylabel, fontsize=16)\n",
    "    if series.any():\n",
    "        ax.plot(series, label=label)\n",
    "        ax.set_ylabel(ylabel, fontsize=16)\n",
    "    if label:\n",
    "        ax.legend(fontsize=16)\n",
    "    if title:\n",
    "        ax.set_title(title, fontsize=24)\n",
    "    ax.grid(True)\n",
    "    return ax\n"
   ],
   "metadata": {
    "collapsed": false,
    "pycharm": {
     "name": "#%%\n"
    }
   }
  },
  {
   "cell_type": "code",
   "execution_count": null,
   "outputs": [],
   "source": [
    "\n",
    "# Plot the hourly actual electricity total load, along with the weekly rolling mean\n",
    "\n",
    "rolling1 = df_final['total load actual'].rolling(24 * 7, center=True).mean()\n",
    "rolling2 = df_final['generation renewable'].rolling(24 * 7, center=True).mean()\n",
    "rolling3 = df_final['generation non-renewable'].rolling(24 * 7, center=True).mean()\n",
    "ax1 = plot_series(df_final, 'total load actual', label='Hourly', ylabel='Actual load (MWh)',\n",
    "                  title='Total Actual Hourly Electricity Total and Weekly rolling mean')\n",
    "ax2 = plot_series(df_final, 'generation renewable', label='Hourly', ylabel='Actual load (MWh)',\n",
    "                  title='Hourly Electricity Generation from Renewable Energy Total and Weekly rolling mean')\n",
    "ax3 = plot_series(df_final, 'generation non-renewable', label='Hourly', ylabel='Actual load (MWh)',\n",
    "                  title='Hourly Electricity Generation from Non-Renewable Energy Total and Weekly rolling mean')\n",
    "ax1.plot(rolling1, linestyle='-', linewidth=2, label='Weekly rolling mean')\n",
    "ax2.plot(rolling2, linestyle='-', linewidth=2, label='Weekly rolling mean')\n",
    "ax3.plot(rolling3, linestyle='-', linewidth=2, label='Weekly rolling mean')\n",
    "\n",
    "plt.show()"
   ],
   "metadata": {
    "collapsed": false,
    "pycharm": {
     "name": "#%%\n"
    }
   }
  },
  {
   "cell_type": "code",
   "execution_count": null,
   "outputs": [],
   "source": [
    "rolling4 = df_final['generation solar'].rolling(24 * 7, center=True).mean()\n",
    "rolling5 = df_final['generation wind onshore'].rolling(24 * 7, center=True).mean()\n",
    "rolling6 = df_final['generation hydro all'].rolling(24 * 7, center=True).mean()\n",
    "ax4 = plot_series(df_final, 'generation solar', label='Hourly', ylabel='Actual load (MWh)',\n",
    "                  title='Hourly Electricity Generation from Solar Energy Total and Weekly rolling mean')\n",
    "ax5 = plot_series(df_final, 'generation wind onshore', label='Hourly', ylabel='Actual load (MWh)',\n",
    "                  title='Hourly Electricity Generation from Wind Energy Total and Weekly rolling mean')\n",
    "ax6 = plot_series(df_final, 'generation hydro all', label='Hourly', ylabel='Actual load (MWh)',\n",
    "                  title='Hourly Electricity Generation from Hydro-Electric Energy Total and Weekly rolling mean')\n",
    "ax4.plot(rolling4, linestyle='-', linewidth=2, label='Weekly rolling mean')\n",
    "ax5.plot(rolling5, linestyle='-', linewidth=2, label='Weekly rolling mean')\n",
    "ax6.plot(rolling6, linestyle='-', linewidth=2, label='Weekly rolling mean')\n",
    "\n",
    "plt.show()"
   ],
   "metadata": {
    "collapsed": false,
    "pycharm": {
     "name": "#%%\n"
    }
   }
  },
  {
   "cell_type": "code",
   "execution_count": null,
   "outputs": [],
   "source": [
    "# Plot the actual electricity total load at a daily/weekly scale\n",
    "\n",
    "ax1 = plot_series(df_final, 'total load actual', label='Hourly', ylabel='Actual Load(MWh)',\n",
    "                  start=1 + 24 * 500, end=1 + 24 * 515,\n",
    "                  title='Actual Hourly Electricity Total Load (Zoomed - 2 Weeks)')\n",
    "ax2 = plot_series(df_final, 'generation renewable', label='Hourly', ylabel='Actual Load(MWh)',\n",
    "                  start=1 + 24 * 500, end=1 + 24 * 515,\n",
    "                  title='Hourly Electricity Generation from Renewable Energy (Zoomed - 2 Weeks)')\n",
    "ax3 = plot_series(df_final, 'generation non-renewable', label='Hourly', ylabel='Actual Load(MWh)',\n",
    "                  start=1 + 24 * 500, end=1 + 24 * 515,\n",
    "                  title='Hourly Electricity Generation from Non-Renewable Energy (Zoomed - 2 Weeks)')\n",
    "plt.show()"
   ],
   "metadata": {
    "collapsed": false,
    "pycharm": {
     "name": "#%%\n"
    }
   }
  },
  {
   "cell_type": "code",
   "execution_count": null,
   "outputs": [],
   "source": [
    "# Plot the percentage of the hourly change in the actual electricity load\n",
    "\n",
    "change = df_energy['total load actual'].div(df_energy['total load actual'].shift(1)).mul(100)\n",
    "ax = plot_series(series=change, ylabel='Hourly Change (%)',\n",
    "                 title='Percentage of the hourly change in the actual electricity total load')\n",
    "plt.show()"
   ],
   "metadata": {
    "collapsed": false,
    "pycharm": {
     "name": "#%%\n"
    }
   }
  },
  {
   "cell_type": "code",
   "execution_count": null,
   "outputs": [],
   "source": [
    "# Decompose the electricity load time series\n",
    "\n",
    "res = sm.tsa.seasonal_decompose(df_energy['total load actual'], model='additive')\n",
    "\n",
    "fig, (ax1, ax2, ax3) = plt.subplots(3, 1, figsize=(20, 12))\n",
    "res.observed.plot(ax=ax1, title='Observed')\n",
    "res.trend.plot(ax=ax2, title='Trend')\n",
    "res.resid.plot(ax=ax3, title='Residual')\n",
    "plt.tight_layout()\n",
    "plt.show()"
   ],
   "metadata": {
    "collapsed": false,
    "pycharm": {
     "name": "#%%\n"
    }
   }
  },
  {
   "cell_type": "code",
   "execution_count": null,
   "outputs": [],
   "source": [
    "df_global = df_final[['generation biomass', 'generation fossil gas', 'generation fossil oil', 'generation nuclear', 'generation other', 'generation solar', 'generation wind', 'generation hydro', 'generation other renewable', 'generation renewable', 'generation non-renewable', 'total load actual', 'temp', 'temp_min', 'temp_max', 'pressure','humidity', 'wind_speed', 'rain_1h', 'snow_3h', 'clouds_all']]"
   ],
   "metadata": {
    "collapsed": false,
    "pycharm": {
     "name": "#%%\n"
    }
   }
  },
  {
   "cell_type": "code",
   "execution_count": null,
   "outputs": [],
   "source": [
    "df_global.to_csv('C:\\\\Users\\\\loren\\\\PycharmProjects\\\\Bayes\\\\National.csv')"
   ],
   "metadata": {
    "collapsed": false,
    "pycharm": {
     "name": "#%%\n"
    }
   }
  },
  {
   "cell_type": "code",
   "execution_count": null,
   "outputs": [],
   "source": [
    "#NEURAL NETWORKS"
   ],
   "metadata": {
    "collapsed": false,
    "pycharm": {
     "name": "#%%\n"
    }
   }
  },
  {
   "cell_type": "code",
   "execution_count": null,
   "outputs": [],
   "source": [
    "scaler = MinMaxScaler()"
   ],
   "metadata": {
    "collapsed": false,
    "pycharm": {
     "name": "#%%\n"
    }
   }
  },
  {
   "cell_type": "code",
   "execution_count": null,
   "outputs": [],
   "source": [
    "columns = ['temp_min', 'temp', 'temp_max', 'pressure', 'humidity', 'wind_speed', 'rain_1h', 'snow_3h',\n",
    "         'clouds_all', 'generation solar', 'generation hydro', 'generation wind',\n",
    "         'generation other renewable', 'generation biomass', 'generation fossil gas', 'generation fossil oil', 'generation nuclear', 'generation other']"
   ],
   "metadata": {
    "collapsed": false,
    "pycharm": {
     "name": "#%%\n"
    }
   }
  },
  {
   "cell_type": "code",
   "execution_count": null,
   "outputs": [],
   "source": [
    "nng = df_global[['temp_min', 'temp', 'temp_max', 'pressure', 'humidity', 'wind_speed', 'rain_1h', 'snow_3h',\n",
    "         'clouds_all', 'generation solar', 'generation hydro', 'generation wind',\n",
    "         'generation other renewable', 'generation biomass', 'generation fossil gas', 'generation fossil oil', 'generation nuclear', 'generation other']]\n",
    "nng = scaler.fit_transform(nng)"
   ],
   "metadata": {
    "collapsed": false,
    "pycharm": {
     "name": "#%%\n"
    }
   }
  },
  {
   "cell_type": "code",
   "execution_count": null,
   "outputs": [],
   "source": [
    "dataset = pd.DataFrame(nng, columns = columns)"
   ],
   "metadata": {
    "collapsed": false,
    "pycharm": {
     "name": "#%%\n"
    }
   }
  },
  {
   "cell_type": "code",
   "execution_count": null,
   "outputs": [],
   "source": [
    "inputs = ['temp_min', 'temp', 'temp_max', 'pressure', 'humidity', 'wind_speed', 'rain_1h', 'snow_3h']\n",
    "outputs = ['generation solar', 'generation hydro', 'generation wind', 'generation other renewable']\n",
    "\n",
    "x = dataset[inputs]\n",
    "y = dataset[outputs]"
   ],
   "metadata": {
    "collapsed": false,
    "pycharm": {
     "name": "#%%\n"
    }
   }
  },
  {
   "cell_type": "code",
   "execution_count": null,
   "outputs": [],
   "source": [
    "tfk = tf.keras\n",
    "tf.keras.backend.set_floatx(\"float64\")\n",
    "tfd = tfp.distributions"
   ],
   "metadata": {
    "collapsed": false,
    "pycharm": {
     "name": "#%%\n"
    }
   }
  },
  {
   "cell_type": "code",
   "execution_count": null,
   "outputs": [],
   "source": [
    "tf.config.list_physical_devices(\"GPU\")"
   ],
   "metadata": {
    "collapsed": false,
    "pycharm": {
     "name": "#%%\n"
    }
   }
  },
  {
   "cell_type": "code",
   "execution_count": null,
   "outputs": [],
   "source": [
    "# Define helper functions.\n",
    "detector = IsolationForest(n_estimators=1000, random_state=42)\n",
    "neg_log_likelihood = lambda x, rv_x: -rv_x.log_prob(x)"
   ],
   "metadata": {
    "collapsed": false,
    "pycharm": {
     "name": "#%%\n"
    }
   }
  },
  {
   "cell_type": "code",
   "execution_count": null,
   "outputs": [],
   "source": [
    "# Define some hyperparameters.\n",
    "n_epochs, n_batches, n_samples = 20, 16, dataset.shape[0]\n",
    "buffer_size, batch_size = n_samples, np.floor(n_samples/n_batches)"
   ],
   "metadata": {
    "collapsed": false,
    "pycharm": {
     "name": "#%%\n"
    }
   }
  },
  {
   "cell_type": "code",
   "execution_count": null,
   "outputs": [],
   "source": [
    "# Define training and test data sizes.\n",
    "n_train = int(0.70*dataset.shape[0])\n",
    "n_train"
   ],
   "metadata": {
    "collapsed": false,
    "pycharm": {
     "name": "#%%\n"
    }
   }
  },
  {
   "cell_type": "code",
   "execution_count": null,
   "outputs": [],
   "source": [
    "# Define dataset instance.\n",
    "data = tf.data.Dataset.from_tensor_slices((dataset[inputs].values, dataset[outputs].values))\n",
    "data = data.shuffle(n_samples, reshuffle_each_iteration=True)"
   ],
   "metadata": {
    "collapsed": false,
    "pycharm": {
     "name": "#%%\n"
    }
   }
  },
  {
   "cell_type": "code",
   "execution_count": null,
   "outputs": [],
   "source": [
    "# Define train and test data instances.\n",
    "data_train = data.take(n_train).batch(batch_size).repeat(n_epochs)\n",
    "data_test = data.skip(n_train).batch(1)"
   ],
   "metadata": {
    "collapsed": false,
    "pycharm": {
     "name": "#%%\n"
    }
   }
  },
  {
   "cell_type": "code",
   "execution_count": null,
   "outputs": [],
   "source": [
    "# Define prior for regularization.\n",
    "gauss_prior = tfd.Normal(\n",
    "    loc = tf.zeros( len(outputs), dtype=tf.float64 ),\n",
    "    scale = 1.0, #tf.ones( len(outputs), dtype=tf.float64 ),\n",
    "    name = \"p_normal\",\n",
    "    )\n",
    "\n",
    "prior = tfd.Independent(\n",
    "    gauss_prior,\n",
    "    reinterpreted_batch_ndims = 1,\n",
    "    name = \"prior\",\n",
    "    )\n",
    "\n",
    "regularizer = tfp.layers.KLDivergenceRegularizer(prior, weight=1/n_batches, ) # Kullback–Leibler divergence (also called relative entropy)"
   ],
   "metadata": {
    "collapsed": false,
    "pycharm": {
     "name": "#%%\n"
    }
   }
  },
  {
   "cell_type": "code",
   "execution_count": null,
   "outputs": [],
   "source": [
    "# Define model instance.\n",
    "model = tfk.Sequential([\n",
    "    tfk.layers.InputLayer(\n",
    "        input_shape=(len(inputs),),\n",
    "    name=\"input\"),\n",
    "    # dense for inputs\n",
    "    tfk.layers.Dense(\n",
    "        n_batches,\n",
    "    activation=\"relu\", name=\"dense_1\"),\n",
    "    # dense for weights\n",
    "    tfk.layers.Dense(\n",
    "        tfp.layers.MultivariateNormalTriL.params_size(len(outputs)), # uncertainty in the parameters weights\n",
    "    activation=None, name=\"distribution_weights\"),\n",
    "    # (declaration of the) posterior probability distribution structure\n",
    "    tfp.layers.MultivariateNormalTriL(\n",
    "        len(outputs), activity_regularizer=tfp.layers.KLDivergenceRegularizer(prior, weight=1/n_batches), # activity_regularizer acts as prior for the output layer\n",
    "    name=\"output\")\n",
    "], name=\"model\")"
   ],
   "metadata": {
    "collapsed": false,
    "pycharm": {
     "name": "#%%\n"
    }
   }
  },
  {
   "cell_type": "code",
   "execution_count": null,
   "outputs": [],
   "source": [
    "log_dir = \"logs/fit/\" + datetime.datetime.now().strftime(\"%Y%m%d-%H%M%S\")\n",
    "tensorboard_callback = tf.keras.callbacks.TensorBoard(log_dir=log_dir, histogram_freq=1)"
   ],
   "metadata": {
    "collapsed": false,
    "pycharm": {
     "name": "#%%\n"
    }
   }
  },
  {
   "cell_type": "code",
   "execution_count": null,
   "outputs": [],
   "source": [
    "# Compile model.\n",
    "model.compile(optimizer=\"adam\", loss=neg_log_likelihood)"
   ],
   "metadata": {
    "collapsed": false,
    "pycharm": {
     "name": "#%%\n"
    }
   }
  },
  {
   "cell_type": "code",
   "execution_count": null,
   "outputs": [],
   "source": [
    "layer_weights = dict()"
   ],
   "metadata": {
    "collapsed": false,
    "pycharm": {
     "name": "#%%\n"
    }
   }
  },
  {
   "cell_type": "code",
   "execution_count": null,
   "outputs": [],
   "source": [
    "class CustomCallback(keras.callbacks.Callback):\n",
    "    def on_epoch_end(self, epoch, logs=None):\n",
    "        print(f\" ... i'm gonna pickle the model: \")\n",
    "\n",
    "        # model.save_weights(f'epoches/weights.{epoch:02}')\n",
    "        # model.save(f'epoches/model.{epoch:02}')\n",
    "\n",
    "        for l in ['dense_input', 'distribution_weights', 'output']:\n",
    "            layer_weights[epoch, l] = model.get_layer(l).weights\n",
    "\n",
    "        print(f'epoch #{epoch:02} pickled!')\n"
   ],
   "metadata": {
    "collapsed": false,
    "pycharm": {
     "name": "#%%\n"
    }
   }
  },
  {
   "cell_type": "code",
   "execution_count": null,
   "outputs": [],
   "source": [
    "# Run training session.\n",
    "model.fit(data_train, epochs=n_epochs, validation_data=data_test, verbose=True, callbacks=[CustomCallback(), tensorboard_callback])"
   ],
   "metadata": {
    "collapsed": false,
    "pycharm": {
     "name": "#%%\n"
    }
   }
  },
  {
   "cell_type": "code",
   "execution_count": null,
   "outputs": [],
   "source": [
    "# Describe model.\n",
    "model.summary()"
   ],
   "metadata": {
    "collapsed": false,
    "pycharm": {
     "name": "#%%\n"
    }
   }
  },
  {
   "cell_type": "code",
   "execution_count": null,
   "outputs": [],
   "source": [
    "pickle.dump(layer_weights, open('layer.weights.foreach.epoch.pkl', 'wb'))"
   ],
   "metadata": {
    "collapsed": false,
    "pycharm": {
     "name": "#%%\n"
    }
   }
  },
  {
   "cell_type": "code",
   "execution_count": null,
   "outputs": [],
   "source": [
    "#tfp.layers.DenseFlipout(32, activation=\"relu\", name=\"dense_1\")"
   ],
   "metadata": {
    "collapsed": false,
    "pycharm": {
     "name": "#%%\n"
    }
   }
  },
  {
   "cell_type": "code",
   "execution_count": null,
   "outputs": [],
   "source": [
    "# Predict.\n",
    "samples = 1000\n",
    "iterations = 10\n",
    "test_iterator = tf.compat.v1.data.make_one_shot_iterator(data_test)\n",
    "X_true, Y_true, Y_pred = np.empty(shape=(samples, len(inputs))), np.empty(shape=(samples, len(outputs))), np.empty(\n",
    "    shape=(samples, len(outputs), iterations))"
   ],
   "metadata": {
    "collapsed": false,
    "pycharm": {
     "name": "#%%\n"
    }
   }
  },
  {
   "cell_type": "code",
   "execution_count": null,
   "outputs": [],
   "source": [
    "for i in range(samples):\n",
    "    features, labels = test_iterator.get_next()\n",
    "    X_true[i,:] = features\n",
    "    Y_true[i,:] = labels.numpy()\n",
    "    for k in range(iterations):\n",
    "        Y_pred[i,:,k] = model.predict(features)"
   ],
   "metadata": {
    "collapsed": false,
    "pycharm": {
     "name": "#%%\n"
    }
   }
  },
  {
   "cell_type": "code",
   "execution_count": null,
   "outputs": [],
   "source": [
    "# Calculate mean and standard deviation.\n",
    "Y_pred_m = np.mean(Y_pred, axis=-1)\n",
    "Y_pred_s = np.std(Y_pred, axis=-1)\n",
    "Y_pred_m, Y_pred_s"
   ],
   "metadata": {
    "collapsed": false,
    "pycharm": {
     "name": "#%%\n"
    }
   }
  },
  {
   "cell_type": "code",
   "execution_count": null,
   "outputs": [],
   "source": [
    "plt.plot(Y_true[:,0])\n",
    "plt.plot(Y_pred_m[:,0])\n",
    "\n",
    "plt.show()"
   ],
   "metadata": {
    "collapsed": false,
    "pycharm": {
     "name": "#%%\n"
    }
   }
  },
  {
   "cell_type": "code",
   "execution_count": null,
   "outputs": [],
   "source": [
    "plt.plot((Y_true[:,0] - Y_pred_m[:,0])**2)"
   ],
   "metadata": {
    "collapsed": false,
    "pycharm": {
     "name": "#%%\n"
    }
   }
  },
  {
   "cell_type": "code",
   "execution_count": null,
   "outputs": [],
   "source": [
    "%tensorboard --logdir logs/fit\n"
   ],
   "metadata": {
    "collapsed": false,
    "pycharm": {
     "name": "#%%\n"
    }
   }
  },
  {
   "cell_type": "code",
   "execution_count": null,
   "outputs": [],
   "source": [
    "#model.save"
   ],
   "metadata": {
    "collapsed": false,
    "pycharm": {
     "name": "#%%\n"
    }
   }
  },
  {
   "cell_type": "code",
   "execution_count": null,
   "outputs": [],
   "source": [
    "nng = df_global[['temp_min', 'temp', 'temp_max', 'pressure', 'humidity', 'wind_speed', 'rain_1h', 'snow_3h',\n",
    "                 'clouds_all', 'generation solar', 'generation hydro', 'generation wind',\n",
    "                 'generation other renewable', 'generation biomass', 'generation fossil gas', 'generation fossil oil',\n",
    "                 'generation nuclear', 'generation other']]\n",
    "nng = scaler.fit_transform(nng)"
   ],
   "metadata": {
    "collapsed": false,
    "pycharm": {
     "name": "#%%\n"
    }
   }
  },
  {
   "cell_type": "code",
   "execution_count": null,
   "outputs": [],
   "source": [
    "dataset = pd.DataFrame(nng, columns=columns)"
   ],
   "metadata": {
    "collapsed": false,
    "pycharm": {
     "name": "#%%\n"
    }
   }
  },
  {
   "cell_type": "code",
   "execution_count": null,
   "outputs": [],
   "source": [
    "inputs = ['temp_min', 'temp', 'temp_max', 'pressure', 'humidity', 'wind_speed', 'rain_1h', 'snow_3h', 'generation biomass', 'generation fossil gas', 'generation fossil oil', 'generation nuclear', 'generation other']\n",
    "outputs = ['generation solar', 'generation hydro', 'generation wind', 'generation other renewable']\n",
    "\n",
    "x = dataset[inputs]\n",
    "y = dataset[outputs]"
   ],
   "metadata": {
    "collapsed": false,
    "pycharm": {
     "name": "#%%\n"
    }
   }
  },
  {
   "cell_type": "code",
   "execution_count": null,
   "outputs": [],
   "source": [
    "# Define helper functions.\n",
    "detector = IsolationForest(n_estimators=1000, random_state=42)\n",
    "neg_log_likelihood = lambda x, rv_x: -rv_x.log_prob(x)"
   ],
   "metadata": {
    "collapsed": false,
    "pycharm": {
     "name": "#%%\n"
    }
   }
  },
  {
   "cell_type": "code",
   "execution_count": null,
   "outputs": [],
   "source": [
    "# Define some hyperparameters.\n",
    "n_epochs, n_batches, n_samples = 20, 16, dataset.shape[0]\n",
    "buffer_size, batch_size = n_samples, np.floor(n_samples / n_batches)"
   ],
   "metadata": {
    "collapsed": false,
    "pycharm": {
     "name": "#%%\n"
    }
   }
  },
  {
   "cell_type": "code",
   "execution_count": null,
   "outputs": [],
   "source": [
    "# Define training and test data sizes.\n",
    "n_train = int(0.70 * dataset.shape[0])\n",
    "n_train"
   ],
   "metadata": {
    "collapsed": false,
    "pycharm": {
     "name": "#%%\n"
    }
   }
  },
  {
   "cell_type": "code",
   "execution_count": null,
   "outputs": [],
   "source": [
    "# Define dataset instance.\n",
    "data = tf.data.Dataset.from_tensor_slices((dataset[inputs].values, dataset[outputs].values))\n",
    "data = data.shuffle(n_samples, reshuffle_each_iteration=True)"
   ],
   "metadata": {
    "collapsed": false,
    "pycharm": {
     "name": "#%%\n"
    }
   }
  },
  {
   "cell_type": "code",
   "execution_count": null,
   "outputs": [],
   "source": [
    "# Define train and test data instances.\n",
    "data_train = data.take(n_train).batch(batch_size).repeat(n_epochs)\n",
    "data_test = data.skip(n_train).batch(1)"
   ],
   "metadata": {
    "collapsed": false,
    "pycharm": {
     "name": "#%%\n"
    }
   }
  },
  {
   "cell_type": "code",
   "execution_count": null,
   "outputs": [],
   "source": [
    "# Define prior for regularization.\n",
    "gauss_prior = tfd.Normal(\n",
    "    loc = tf.zeros( len(outputs), dtype=tf.float64 ),\n",
    "    scale = 1.0, #tf.ones( len(outputs), dtype=tf.float64 ),\n",
    "    name = \"p_normal\",\n",
    "    )\n",
    "\n",
    "prior = tfd.Independent(\n",
    "    gauss_prior,\n",
    "    reinterpreted_batch_ndims = 1,\n",
    "    name = \"prior\",\n",
    "    )\n",
    "\n",
    "regularizer = tfp.layers.KLDivergenceRegularizer(prior, weight=1/n_batches, ) # Kullback–Leibler divergence (also called relative entropy)"
   ],
   "metadata": {
    "collapsed": false,
    "pycharm": {
     "name": "#%%\n"
    }
   }
  },
  {
   "cell_type": "code",
   "execution_count": null,
   "outputs": [],
   "source": [
    "# Define model instance.\n",
    "model = tfk.Sequential([\n",
    "    tfk.layers.InputLayer(\n",
    "        input_shape=(len(inputs),),\n",
    "        name=\"input\"),\n",
    "    # dense for inputs\n",
    "    tfk.layers.Dense(\n",
    "        n_batches,\n",
    "        activation=\"relu\", name=\"dense_1\"),\n",
    "    # # a new dense for input\n",
    "    #tfp.layers.DenseFlipout(\n",
    "    #    10,\n",
    "    #    activation=\"relu\",\n",
    "    #    name=\"dense_1\"\n",
    "    #),\n",
    "    # dense for weights\n",
    "    tfk.layers.Dense(\n",
    "        tfp.layers.MultivariateNormalTriL.params_size(len(outputs)),  # uncertainty in the parameters weights\n",
    "        activation=None, name=\"distribution_weights\"),\n",
    "    # (declaration of the) posterior probability distribution structure\n",
    "    tfp.layers.MultivariateNormalTriL(\n",
    "        len(outputs), activity_regularizer=tfp.layers.KLDivergenceRegularizer(prior, weight=1 / n_batches),\n",
    "        # activity_regularizer acts as prior for the output layer\n",
    "        name=\"output\")\n",
    "], name=\"model\")"
   ],
   "metadata": {
    "collapsed": false,
    "pycharm": {
     "name": "#%%\n"
    }
   }
  },
  {
   "cell_type": "code",
   "execution_count": null,
   "outputs": [],
   "source": [
    "# Compile model.\n",
    "model.compile(optimizer=\"adam\", loss=neg_log_likelihood)"
   ],
   "metadata": {
    "collapsed": false,
    "pycharm": {
     "name": "#%%\n"
    }
   }
  },
  {
   "cell_type": "code",
   "execution_count": null,
   "outputs": [],
   "source": [
    "log_dir = \"logs/fit/\" + datetime.datetime.now().strftime(\"%Y%m%d-%H%M%S\")\n",
    "tensorboard_callback = tf.keras.callbacks.TensorBoard(log_dir=log_dir, histogram_freq=1)"
   ],
   "metadata": {
    "collapsed": false,
    "pycharm": {
     "name": "#%%\n"
    }
   }
  },
  {
   "cell_type": "code",
   "execution_count": null,
   "outputs": [],
   "source": [
    "layer_weights = dict()"
   ],
   "metadata": {
    "collapsed": false,
    "pycharm": {
     "name": "#%%\n"
    }
   }
  },
  {
   "cell_type": "code",
   "execution_count": null,
   "outputs": [],
   "source": [
    "class CustomCallback(keras.callbacks.Callback):\n",
    "    def on_epoch_end(self, epoch, logs=None):\n",
    "        print(f\" ... i'm gonna pickle the model: \")\n",
    "\n",
    "        # model.save_weights(f'epoches/weights.{epoch:02}')\n",
    "        # model.save(f'epoches/model.{epoch:02}')\n",
    "\n",
    "        for l in ['dense_input', 'distribution_weights', 'output']:\n",
    "            layer_weights[epoch, l] = model.get_layer(l).weights\n",
    "\n",
    "        print(f'epoch #{epoch:02} pickled!')"
   ],
   "metadata": {
    "collapsed": false,
    "pycharm": {
     "name": "#%%\n"
    }
   }
  },
  {
   "cell_type": "code",
   "execution_count": null,
   "outputs": [],
   "source": [
    "# Run training session.\n",
    "model.fit(data_train, epochs=n_epochs, validation_data=data_test, verbose=True, callbacks=[CustomCallback(), tensorboard_callback])"
   ],
   "metadata": {
    "collapsed": false,
    "pycharm": {
     "name": "#%%\n"
    }
   }
  },
  {
   "cell_type": "code",
   "execution_count": null,
   "outputs": [],
   "source": [
    "# Describe model.\n",
    "model.summary()"
   ],
   "metadata": {
    "collapsed": false,
    "pycharm": {
     "name": "#%%\n"
    }
   }
  },
  {
   "cell_type": "code",
   "execution_count": null,
   "outputs": [],
   "source": [
    "pickle.dump(layer_weights, open('layer.weights.foreach.epoch.pkl', 'wb'))"
   ],
   "metadata": {
    "collapsed": false,
    "pycharm": {
     "name": "#%%\n"
    }
   }
  },
  {
   "cell_type": "code",
   "execution_count": null,
   "outputs": [],
   "source": [
    "#tfp.layers.DenseFlipout(32, activation=\"relu\", name=\"dense_1\")"
   ],
   "metadata": {
    "collapsed": false,
    "pycharm": {
     "name": "#%%\n"
    }
   }
  },
  {
   "cell_type": "code",
   "execution_count": null,
   "outputs": [],
   "source": [
    "# Predict.\n",
    "samples = 1000\n",
    "iterations = 10\n",
    "test_iterator = tf.compat.v1.data.make_one_shot_iterator(data_test)\n",
    "X_true, Y_true, Y_pred = np.empty(shape=(samples, len(inputs))), np.empty(shape=(samples, len(outputs))), np.empty(\n",
    "    shape=(samples, len(outputs), iterations))"
   ],
   "metadata": {
    "collapsed": false,
    "pycharm": {
     "name": "#%%\n"
    }
   }
  },
  {
   "cell_type": "code",
   "execution_count": null,
   "outputs": [],
   "source": [
    "for i in range(samples):\n",
    "    features, labels = test_iterator.get_next()\n",
    "    X_true[i, :] = features\n",
    "    Y_true[i, :] = labels.numpy()\n",
    "    for k in range(iterations):\n",
    "        Y_pred[i, :, k] = model.predict(features)"
   ],
   "metadata": {
    "collapsed": false,
    "pycharm": {
     "name": "#%%\n"
    }
   }
  },
  {
   "cell_type": "code",
   "execution_count": null,
   "outputs": [],
   "source": [
    "# Calculate mean and standard deviation.\n",
    "Y_pred_m = np.mean(Y_pred, axis=-1)\n",
    "Y_pred_s = np.std(Y_pred, axis=-1)\n",
    "Y_pred_m, Y_pred_s"
   ],
   "metadata": {
    "collapsed": false,
    "pycharm": {
     "name": "#%%\n"
    }
   }
  },
  {
   "cell_type": "code",
   "execution_count": null,
   "outputs": [],
   "source": [
    "plt.plot(Y_true[:, 0])\n",
    "plt.plot(Y_pred_m[:, 0])\n",
    "\n",
    "plt.show()"
   ],
   "metadata": {
    "collapsed": false,
    "pycharm": {
     "name": "#%%\n"
    }
   }
  },
  {
   "cell_type": "code",
   "execution_count": null,
   "outputs": [],
   "source": [
    "plt.plot((Y_true[:, 0] - Y_pred_m[:, 0]) ** 2)\n",
    "#mse generally lower"
   ],
   "metadata": {
    "collapsed": false,
    "pycharm": {
     "name": "#%%\n"
    }
   }
  },
  {
   "cell_type": "code",
   "execution_count": null,
   "outputs": [],
   "source": [
    "%tensorboard --logdir logs/fit"
   ],
   "metadata": {
    "collapsed": false,
    "pycharm": {
     "name": "#%%\n"
    }
   }
  },
  {
   "cell_type": "code",
   "execution_count": null,
   "outputs": [],
   "source": [
    "#model.save"
   ],
   "metadata": {
    "collapsed": false,
    "pycharm": {
     "name": "#%%\n"
    }
   }
  },
  {
   "cell_type": "code",
   "execution_count": null,
   "outputs": [],
   "source": [
    "#dividere il df per ogni città"
   ],
   "metadata": {
    "collapsed": false,
    "pycharm": {
     "name": "#%%\n"
    }
   }
  },
  {
   "cell_type": "code",
   "execution_count": null,
   "outputs": [],
   "source": [
    "df_final = dict()\n",
    "\n",
    "for city, df in df_weather.groupby('city_name'):\n",
    "    df.drop('city_name', axis='columns', inplace=True)\n",
    "    city_str = city.strip()\n",
    "\n",
    "    df_final[city_str] = df.add_prefix(f'')\n",
    "    df_final[city_str].rename(columns={'dt_iso':'time'}, inplace=True)"
   ],
   "metadata": {
    "collapsed": false,
    "pycharm": {
     "name": "#%%\n"
    }
   }
  },
  {
   "cell_type": "code",
   "execution_count": null,
   "outputs": [],
   "source": [
    "df_energy = df_energy.add_prefix(f'')\n",
    "df_energy.rename(columns={'time': 'time'}, inplace=True)"
   ],
   "metadata": {
    "collapsed": false,
    "pycharm": {
     "name": "#%%\n"
    }
   }
  },
  {
   "cell_type": "code",
   "execution_count": null,
   "outputs": [],
   "source": [
    "df_energy.head()"
   ],
   "metadata": {
    "collapsed": false,
    "pycharm": {
     "name": "#%%\n"
    }
   }
  },
  {
   "cell_type": "code",
   "execution_count": null,
   "outputs": [],
   "source": [
    "df_final['Madrid'].head()"
   ],
   "metadata": {
    "collapsed": false,
    "pycharm": {
     "name": "#%%\n"
    }
   }
  },
  {
   "cell_type": "code",
   "execution_count": null,
   "outputs": [],
   "source": [
    "total_pop = 15272043\n",
    "weights = {\n",
    "    'Madrid': 6155116 / total_pop,\n",
    "    'Barcelona': 5179243 / total_pop,\n",
    "    'Valencia': 1645342 / total_pop,\n",
    "    'Seville': 1305342 / total_pop,\n",
    "    'Bilbao': 987000 / total_pop\n",
    "}"
   ],
   "metadata": {
    "collapsed": false,
    "pycharm": {
     "name": "#%%\n"
    }
   }
  },
  {
   "cell_type": "code",
   "execution_count": null,
   "outputs": [],
   "source": [
    "for city, percent in weights.items():\n",
    "\n",
    "    # trick di brumotti - togli la colonna, metti la colonna\n",
    "    #tmp = df_energy.set_index('time')\n",
    "    tmp = df_energy.astype(float) * percent\n",
    "    tmp = tmp.reset_index()\n",
    "\n",
    "    tmp = pd.merge(df_final[city], tmp, how='inner', left_on='time', right_on='time')\n",
    "\n",
    "    tmp.to_csv(f'C:\\\\Users\\\\loren\\\\PycharmProjects\\\\Bayes\\\\{city}.csv')"
   ],
   "metadata": {
    "collapsed": false,
    "pycharm": {
     "name": "#%%\n"
    }
   }
  },
  {
   "cell_type": "code",
   "execution_count": null,
   "outputs": [],
   "source": [
    "#fare nn per ogni città"
   ],
   "metadata": {
    "collapsed": false,
    "pycharm": {
     "name": "#%%\n"
    }
   }
  },
  {
   "cell_type": "code",
   "execution_count": null,
   "outputs": [],
   "source": [
    "bc = pd.read_csv('Barcelona.csv')\n",
    "bb = pd.read_csv('Bilbao.csv')\n",
    "md = pd.read_csv('Madrid.csv')\n",
    "sv = pd.read_csv('Seville.csv')\n",
    "vl = pd.read_csv('Valencia.csv')"
   ],
   "metadata": {
    "collapsed": false,
    "pycharm": {
     "name": "#%%\n"
    }
   }
  },
  {
   "cell_type": "code",
   "execution_count": null,
   "outputs": [],
   "source": [
    "nnMD = md[['temp_min', 'temp', 'temp_max', 'pressure', 'humidity', 'wind_speed', 'rain_1h', 'snow_3h',\n",
    "         'clouds_all', 'generation solar', 'generation hydro', 'generation wind',\n",
    "         'generation other renewable', 'generation biomass', 'generation fossil gas', 'generation fossil oil', 'generation nuclear', 'generation other']]"
   ],
   "metadata": {
    "collapsed": false,
    "pycharm": {
     "name": "#%%\n"
    }
   }
  },
  {
   "cell_type": "code",
   "execution_count": null,
   "outputs": [],
   "source": [
    "#NN per Madrid\n",
    "nnMD = scaler.fit_transform(nnMD)\n",
    "dataset = pd.DataFrame(nnMD, columns=columns)"
   ],
   "metadata": {
    "collapsed": false,
    "pycharm": {
     "name": "#%%\n"
    }
   }
  },
  {
   "cell_type": "code",
   "execution_count": null,
   "outputs": [],
   "source": [
    "inputs = ['temp_min', 'temp', 'temp_max', 'pressure', 'humidity', 'wind_speed', 'rain_1h', 'snow_3h', 'generation biomass', 'generation fossil gas', 'generation fossil oil', 'generation nuclear', 'generation other']\n",
    "outputs = ['generation solar', 'generation hydro', 'generation wind', 'generation other renewable']\n",
    "\n",
    "x = dataset[inputs]\n",
    "y = dataset[outputs]"
   ],
   "metadata": {
    "collapsed": false,
    "pycharm": {
     "name": "#%%\n"
    }
   }
  },
  {
   "cell_type": "code",
   "execution_count": null,
   "outputs": [],
   "source": [
    "# Define helper functions.\n",
    "detector = IsolationForest(n_estimators=1000, random_state=42)\n",
    "neg_log_likelihood = lambda x, rv_x: -rv_x.log_prob(x)"
   ],
   "metadata": {
    "collapsed": false,
    "pycharm": {
     "name": "#%%\n"
    }
   }
  },
  {
   "cell_type": "code",
   "execution_count": null,
   "outputs": [],
   "source": [
    "# Define some hyperparameters.\n",
    "n_epochs, n_batches, n_samples = 20, 16, bc.shape[0]\n",
    "buffer_size, batch_size = n_samples, np.floor(n_samples / n_batches)"
   ],
   "metadata": {
    "collapsed": false,
    "pycharm": {
     "name": "#%%\n"
    }
   }
  },
  {
   "cell_type": "code",
   "execution_count": null,
   "outputs": [],
   "source": [
    "# Define training and test data sizes.\n",
    "n_train = int(0.70 * bc.shape[0])\n",
    "n_train"
   ],
   "metadata": {
    "collapsed": false,
    "pycharm": {
     "name": "#%%\n"
    }
   }
  },
  {
   "cell_type": "code",
   "execution_count": null,
   "outputs": [],
   "source": [
    "# Define dataset instance.\n",
    "data = tf.data.Dataset.from_tensor_slices((dataset[inputs].values, dataset[outputs].values))\n",
    "data = data.shuffle(n_samples, reshuffle_each_iteration=True)"
   ],
   "metadata": {
    "collapsed": false,
    "pycharm": {
     "name": "#%%\n"
    }
   }
  },
  {
   "cell_type": "code",
   "execution_count": null,
   "outputs": [],
   "source": [
    "# Define train and test data instances.\n",
    "data_train = data.take(n_train).batch(batch_size).repeat(n_epochs)\n",
    "data_test = data.skip(n_train).batch(1)"
   ],
   "metadata": {
    "collapsed": false,
    "pycharm": {
     "name": "#%%\n"
    }
   }
  },
  {
   "cell_type": "code",
   "execution_count": null,
   "outputs": [],
   "source": [
    "# Define prior for regularization.\n",
    "gauss_prior = tfd.Normal(\n",
    "    loc = tf.zeros( len(outputs), dtype=tf.float64 ),\n",
    "    scale = 1.0, #tf.ones( len(outputs), dtype=tf.float64 ),\n",
    "    name = \"p_normal\",\n",
    "    )\n",
    "\n",
    "prior = tfd.Independent(\n",
    "    gauss_prior,\n",
    "    reinterpreted_batch_ndims = 1,\n",
    "    name = \"prior\",\n",
    "    )\n",
    "\n",
    "regularizer = tfp.layers.KLDivergenceRegularizer(prior, weight=1/n_batches, ) # Kullback–Leibler divergence (also called relative entropy)"
   ],
   "metadata": {
    "collapsed": false,
    "pycharm": {
     "name": "#%%\n"
    }
   }
  },
  {
   "cell_type": "code",
   "execution_count": null,
   "outputs": [],
   "source": [
    "# Define model instance.\n",
    "model = tfk.Sequential([\n",
    "    tfk.layers.InputLayer(\n",
    "        input_shape=(len(inputs),),\n",
    "        name=\"input\"),\n",
    "    # dense for inputs\n",
    "    tfk.layers.Dense(\n",
    "        n_batches,\n",
    "        activation=\"relu\", name=\"dense_input\"),\n",
    "    # dense for weights\n",
    "    tfk.layers.Dense(\n",
    "        tfp.layers.MultivariateNormalTriL.params_size(len(outputs)),  # uncertainty in the parameters weights\n",
    "        activation=None, name=\"distribution_weights\"),\n",
    "    # (declaration of the) posterior probability distribution structure\n",
    "    tfp.layers.MultivariateNormalTriL(\n",
    "        len(outputs), activity_regularizer=tfp.layers.KLDivergenceRegularizer(prior, weight=1 / n_batches),\n",
    "        # activity_regularizer acts as prior for the output layer\n",
    "        name=\"output\")\n",
    "], name=\"model\")"
   ],
   "metadata": {
    "collapsed": false,
    "pycharm": {
     "name": "#%%\n"
    }
   }
  },
  {
   "cell_type": "code",
   "execution_count": null,
   "outputs": [],
   "source": [
    "# Compile model.\n",
    "model.compile(optimizer=\"adam\", loss=neg_log_likelihood)\n",
    "log_dir = \"logs/fit/\" + datetime.datetime.now().strftime(\"%Y%m%d-%H%M%S\")"
   ],
   "metadata": {
    "collapsed": false,
    "pycharm": {
     "name": "#%%\n"
    }
   }
  },
  {
   "cell_type": "code",
   "execution_count": null,
   "outputs": [],
   "source": [
    "tensorboard_callback = tf.keras.callbacks.TensorBoard(log_dir=log_dir, histogram_freq=1)"
   ],
   "metadata": {
    "collapsed": false,
    "pycharm": {
     "name": "#%%\n"
    }
   }
  },
  {
   "cell_type": "code",
   "execution_count": null,
   "outputs": [],
   "source": [
    "layer_weights = dict()"
   ],
   "metadata": {
    "collapsed": false,
    "pycharm": {
     "name": "#%%\n"
    }
   }
  },
  {
   "cell_type": "code",
   "execution_count": null,
   "outputs": [],
   "source": [
    "class CustomCallback(keras.callbacks.Callback):\n",
    "    def on_epoch_end(self, epoch, logs=None):\n",
    "        print(f\" ... i'm gonna pickle the model: \")\n",
    "\n",
    "        # model.save_weights(f'epoches/weights.{epoch:02}')\n",
    "        # model.save(f'epoches/model.{epoch:02}')\n",
    "\n",
    "        for l in ['dense_input', 'distribution_weights', 'output']:\n",
    "            layer_weights[epoch, l] = model.get_layer(l).weights\n",
    "\n",
    "        print(f'epoch #{epoch:02} pickled!')"
   ],
   "metadata": {
    "collapsed": false,
    "pycharm": {
     "name": "#%%\n"
    }
   }
  },
  {
   "cell_type": "code",
   "execution_count": null,
   "outputs": [],
   "source": [
    "# Run training session.\n",
    "model.fit(data_train, epochs=n_epochs, validation_data=data_test, verbose=True, callbacks=[CustomCallback(), tensorboard_callback])"
   ],
   "metadata": {
    "collapsed": false,
    "pycharm": {
     "name": "#%%\n"
    }
   }
  },
  {
   "cell_type": "code",
   "execution_count": null,
   "outputs": [],
   "source": [
    "# Describe model.\n",
    "model.summary()"
   ],
   "metadata": {
    "collapsed": false,
    "pycharm": {
     "name": "#%%\n"
    }
   }
  },
  {
   "cell_type": "code",
   "execution_count": null,
   "outputs": [],
   "source": [
    "#tfp.layers.DenseFlipout(32, activation=\"relu\", name=\"dense_1\")"
   ],
   "metadata": {
    "collapsed": false,
    "pycharm": {
     "name": "#%%\n"
    }
   }
  },
  {
   "cell_type": "code",
   "execution_count": null,
   "outputs": [],
   "source": [
    "# Predict.\n",
    "samples = 1000\n",
    "iterations = 10\n",
    "test_iterator = tf.compat.v1.data.make_one_shot_iterator(data_test)\n",
    "X_true, Y_true, Y_pred = np.empty(shape=(samples, len(inputs))), np.empty(shape=(samples, len(outputs))), np.empty(\n",
    "    shape=(samples, len(outputs), iterations))"
   ],
   "metadata": {
    "collapsed": false,
    "pycharm": {
     "name": "#%%\n"
    }
   }
  },
  {
   "cell_type": "code",
   "execution_count": null,
   "outputs": [],
   "source": [
    "for i in range(samples):\n",
    "    features, labels = test_iterator.get_next()\n",
    "    X_true[i, :] = features\n",
    "    Y_true[i, :] = labels.numpy()\n",
    "    for k in range(iterations):\n",
    "        Y_pred[i, :, k] = model.predict(features)"
   ],
   "metadata": {
    "collapsed": false,
    "pycharm": {
     "name": "#%%\n"
    }
   }
  },
  {
   "cell_type": "code",
   "execution_count": null,
   "outputs": [],
   "source": [
    "# Calculate mean and standard deviation.\n",
    "Y_pred_m = np.mean(Y_pred, axis=-1)\n",
    "Y_pred_s = np.std(Y_pred, axis=-1)\n",
    "Y_pred_m, Y_pred_s"
   ],
   "metadata": {
    "collapsed": false,
    "pycharm": {
     "name": "#%%\n"
    }
   }
  },
  {
   "cell_type": "code",
   "execution_count": null,
   "outputs": [],
   "source": [
    "plt.plot(Y_true[:, 0])\n",
    "plt.plot(Y_pred_m[:, 0])\n",
    "\n",
    "plt.show()"
   ],
   "metadata": {
    "collapsed": false,
    "pycharm": {
     "name": "#%%\n"
    }
   }
  },
  {
   "cell_type": "code",
   "execution_count": null,
   "outputs": [],
   "source": [
    "plt.plot((Y_true[:, 0] - Y_pred_m[:, 0]) ** 2)"
   ],
   "metadata": {
    "collapsed": false,
    "pycharm": {
     "name": "#%%\n"
    }
   }
  },
  {
   "cell_type": "code",
   "execution_count": null,
   "outputs": [],
   "source": [
    "#TENSORBOARD\n",
    "%tensorboard --logdir logs/fit"
   ],
   "metadata": {
    "collapsed": false,
    "pycharm": {
     "name": "#%%\n"
    }
   }
  },
  {
   "cell_type": "code",
   "execution_count": null,
   "outputs": [],
   "source": [
    "#mode.save"
   ],
   "metadata": {
    "collapsed": false,
    "pycharm": {
     "name": "#%%\n"
    }
   }
  },
  {
   "cell_type": "code",
   "execution_count": null,
   "outputs": [],
   "source": [
    "#NN per Bilbao"
   ],
   "metadata": {
    "collapsed": false,
    "pycharm": {
     "name": "#%%\n"
    }
   }
  },
  {
   "cell_type": "code",
   "execution_count": null,
   "outputs": [],
   "source": [
    "nnBB = bb[['temp_min', 'temp', 'temp_max', 'pressure', 'humidity', 'wind_speed', 'rain_1h', 'snow_3h',\n",
    "           'clouds_all', 'generation solar', 'generation hydro', 'generation wind',\n",
    "           'generation other renewable', 'generation biomass', 'generation fossil gas', 'generation fossil oil',\n",
    "           'generation nuclear', 'generation other']]"
   ],
   "metadata": {
    "collapsed": false,
    "pycharm": {
     "name": "#%%\n"
    }
   }
  },
  {
   "cell_type": "code",
   "execution_count": null,
   "outputs": [],
   "source": [
    "nnBB = scaler.fit_transform(nnBB)\n",
    "dataset = pd.DataFrame(nnBB, columns=columns)"
   ],
   "metadata": {
    "collapsed": false,
    "pycharm": {
     "name": "#%%\n"
    }
   }
  },
  {
   "cell_type": "code",
   "execution_count": null,
   "outputs": [],
   "source": [
    "inputs = ['temp_min', 'temp', 'temp_max', 'pressure', 'humidity', 'wind_speed', 'rain_1h', 'snow_3h',\n",
    "          'generation biomass', 'generation fossil gas', 'generation fossil oil', 'generation nuclear',\n",
    "          'generation other']\n",
    "outputs = ['generation solar', 'generation hydro', 'generation wind', 'generation other renewable']\n",
    "\n",
    "x = dataset[inputs]\n",
    "y = dataset[outputs]"
   ],
   "metadata": {
    "collapsed": false,
    "pycharm": {
     "name": "#%%\n"
    }
   }
  },
  {
   "cell_type": "code",
   "execution_count": null,
   "outputs": [],
   "source": [
    "# Define helper functions.\n",
    "detector = IsolationForest(n_estimators=1000, random_state=42)\n",
    "neg_log_likelihood = lambda x, rv_x: -rv_x.log_prob(x)"
   ],
   "metadata": {
    "collapsed": false,
    "pycharm": {
     "name": "#%%\n"
    }
   }
  },
  {
   "cell_type": "code",
   "execution_count": null,
   "outputs": [],
   "source": [
    "# Define some hyperparameters.\n",
    "n_epochs, n_batches, n_samples = 20, 16, bc.shape[0]\n",
    "buffer_size, batch_size = n_samples, np.floor(n_samples / n_batches)"
   ],
   "metadata": {
    "collapsed": false,
    "pycharm": {
     "name": "#%%\n"
    }
   }
  },
  {
   "cell_type": "code",
   "execution_count": null,
   "outputs": [],
   "source": [
    "# Define training and test data sizes.\n",
    "n_train = int(0.70 * bc.shape[0])\n",
    "n_train"
   ],
   "metadata": {
    "collapsed": false,
    "pycharm": {
     "name": "#%%\n"
    }
   }
  },
  {
   "cell_type": "code",
   "execution_count": null,
   "outputs": [],
   "source": [
    "# Define dataset instance.\n",
    "data = tf.data.Dataset.from_tensor_slices((dataset[inputs].values, dataset[outputs].values))\n",
    "data = data.shuffle(n_samples, reshuffle_each_iteration=True)"
   ],
   "metadata": {
    "collapsed": false,
    "pycharm": {
     "name": "#%%\n"
    }
   }
  },
  {
   "cell_type": "code",
   "execution_count": null,
   "outputs": [],
   "source": [
    "# Define train and test data instances.\n",
    "data_train = data.take(n_train).batch(batch_size).repeat(n_epochs)\n",
    "data_test = data.skip(n_train).batch(1)"
   ],
   "metadata": {
    "collapsed": false,
    "pycharm": {
     "name": "#%%\n"
    }
   }
  },
  {
   "cell_type": "code",
   "execution_count": null,
   "outputs": [],
   "source": [
    "# Define prior for regularization.\n",
    "gauss_prior = tfd.Normal(\n",
    "    loc=tf.zeros(len(outputs), dtype=tf.float64),\n",
    "    scale=1.0,  #tf.ones( len(outputs), dtype=tf.float64 ),\n",
    "    name=\"p_normal\",\n",
    ")\n",
    "\n",
    "prior = tfd.Independent(\n",
    "    gauss_prior,\n",
    "    reinterpreted_batch_ndims=1,\n",
    "    name=\"prior\",\n",
    ")\n",
    "\n",
    "regularizer = tfp.layers.KLDivergenceRegularizer(prior,\n",
    "                                                 weight=1 / n_batches, )  # Kullback–Leibler divergence (also called relative entropy)"
   ],
   "metadata": {
    "collapsed": false,
    "pycharm": {
     "name": "#%%\n"
    }
   }
  },
  {
   "cell_type": "code",
   "execution_count": null,
   "outputs": [],
   "source": [
    "# Define model instance.\n",
    "model = tfk.Sequential([\n",
    "    tfk.layers.InputLayer(\n",
    "        input_shape=(len(inputs),),\n",
    "        name=\"input\"),\n",
    "    # dense for inputs\n",
    "    tfk.layers.Dense(\n",
    "        n_batches,\n",
    "        activation=\"relu\", name=\"dense_input\"),\n",
    "    # dense for weights\n",
    "    tfk.layers.Dense(\n",
    "        tfp.layers.MultivariateNormalTriL.params_size(len(outputs)),  # uncertainty in the parameters weights\n",
    "        activation=None, name=\"distribution_weights\"),\n",
    "    # (declaration of the) posterior probability distribution structure\n",
    "    tfp.layers.MultivariateNormalTriL(\n",
    "        len(outputs), activity_regularizer=tfp.layers.KLDivergenceRegularizer(prior, weight=1 / n_batches),\n",
    "        # activity_regularizer acts as prior for the output layer\n",
    "        name=\"output\")\n",
    "], name=\"model\")"
   ],
   "metadata": {
    "collapsed": false,
    "pycharm": {
     "name": "#%%\n"
    }
   }
  },
  {
   "cell_type": "code",
   "execution_count": null,
   "outputs": [],
   "source": [
    "# Compile model.\n",
    "model.compile(optimizer=\"adam\", loss=neg_log_likelihood)"
   ],
   "metadata": {
    "collapsed": false,
    "pycharm": {
     "name": "#%%\n"
    }
   }
  },
  {
   "cell_type": "code",
   "execution_count": null,
   "outputs": [],
   "source": [
    "log_dir = \"logs/fit/\" + datetime.datetime.now().strftime(\"%Y%m%d-%H%M%S\")\n",
    "tensorboard_callback = tf.keras.callbacks.TensorBoard(log_dir=log_dir, histogram_freq=1)"
   ],
   "metadata": {
    "collapsed": false,
    "pycharm": {
     "name": "#%%\n"
    }
   }
  },
  {
   "cell_type": "code",
   "execution_count": null,
   "outputs": [],
   "source": [
    "layer_weights = dict()"
   ],
   "metadata": {
    "collapsed": false,
    "pycharm": {
     "name": "#%%\n"
    }
   }
  },
  {
   "cell_type": "code",
   "execution_count": null,
   "outputs": [],
   "source": [
    "class CustomCallback(keras.callbacks.Callback):\n",
    "    def on_epoch_end(self, epoch, logs=None):\n",
    "        print(f\" ... i'm gonna pickle the model: \")\n",
    "\n",
    "        # model.save_weights(f'epoches/weights.{epoch:02}')\n",
    "        # model.save(f'epoches/model.{epoch:02}')\n",
    "\n",
    "        for l in ['dense_input', 'distribution_weights', 'output']:\n",
    "            layer_weights[epoch, l] = model.get_layer(l).weights\n",
    "\n",
    "        print(f'epoch #{epoch:02} pickled!')\n"
   ],
   "metadata": {
    "collapsed": false,
    "pycharm": {
     "name": "#%%\n"
    }
   }
  },
  {
   "cell_type": "code",
   "execution_count": null,
   "outputs": [],
   "source": [
    "# Run training session.\n",
    "model.fit(data_train, epochs=n_epochs, validation_data=data_test, verbose=True,\n",
    "          callbacks=[CustomCallback(), tensorboard_callback])"
   ],
   "metadata": {
    "collapsed": false,
    "pycharm": {
     "name": "#%%\n"
    }
   }
  },
  {
   "cell_type": "code",
   "execution_count": null,
   "outputs": [],
   "source": [
    "# Describe model.\n",
    "model.summary()"
   ],
   "metadata": {
    "collapsed": false,
    "pycharm": {
     "name": "#%%\n"
    }
   }
  },
  {
   "cell_type": "code",
   "execution_count": null,
   "outputs": [],
   "source": [
    "#tfp.layers.DenseFlipout(32, activation=\"relu\", name=\"dense_1\")"
   ],
   "metadata": {
    "collapsed": false,
    "pycharm": {
     "name": "#%%\n"
    }
   }
  },
  {
   "cell_type": "code",
   "execution_count": null,
   "outputs": [],
   "source": [
    "# Predict.\n",
    "samples = 1000\n",
    "iterations = 10\n",
    "test_iterator = tf.compat.v1.data.make_one_shot_iterator(data_test)\n",
    "X_true, Y_true, Y_pred = np.empty(shape=(samples, len(inputs))), np.empty(shape=(samples, len(outputs))), np.empty(\n",
    "    shape=(samples, len(outputs), iterations))"
   ],
   "metadata": {
    "collapsed": false,
    "pycharm": {
     "name": "#%%\n"
    }
   }
  },
  {
   "cell_type": "code",
   "execution_count": null,
   "outputs": [],
   "source": [
    "for i in range(samples):\n",
    "    features, labels = test_iterator.get_next()\n",
    "    X_true[i, :] = features\n",
    "    Y_true[i, :] = labels.numpy()\n",
    "    for k in range(iterations):\n",
    "        Y_pred[i, :, k] = model.predict(features)"
   ],
   "metadata": {
    "collapsed": false,
    "pycharm": {
     "name": "#%%\n"
    }
   }
  },
  {
   "cell_type": "code",
   "execution_count": null,
   "outputs": [],
   "source": [
    "# Calculate mean and standard deviation.\n",
    "Y_pred_m = np.mean(Y_pred, axis=-1)\n",
    "Y_pred_s = np.std(Y_pred, axis=-1)\n",
    "Y_pred_m, Y_pred_s"
   ],
   "metadata": {
    "collapsed": false,
    "pycharm": {
     "name": "#%%\n"
    }
   }
  },
  {
   "cell_type": "code",
   "execution_count": null,
   "outputs": [],
   "source": [
    "plt.plot(Y_true[:, 0])\n",
    "plt.plot(Y_pred_m[:, 0])\n",
    "\n",
    "plt.show()"
   ],
   "metadata": {
    "collapsed": false,
    "pycharm": {
     "name": "#%%\n"
    }
   }
  },
  {
   "cell_type": "code",
   "execution_count": null,
   "outputs": [],
   "source": [
    "plt.plot((Y_true[:, 0] - Y_pred_m[:, 0]) ** 2)"
   ],
   "metadata": {
    "collapsed": false,
    "pycharm": {
     "name": "#%%\n"
    }
   }
  },
  {
   "cell_type": "code",
   "execution_count": null,
   "outputs": [],
   "source": [
    "#TENSORBOARD\n",
    "% tensorboard --logdir logs / fit"
   ],
   "metadata": {
    "collapsed": false,
    "pycharm": {
     "name": "#%%\n"
    }
   }
  },
  {
   "cell_type": "code",
   "execution_count": null,
   "outputs": [],
   "source": [
    "#model.save"
   ],
   "metadata": {
    "collapsed": false,
    "pycharm": {
     "name": "#%%\n"
    }
   }
  }
 ],
 "metadata": {
  "kernelspec": {
   "display_name": "Python 3",
   "language": "python",
   "name": "python3"
  },
  "language_info": {
   "codemirror_mode": {
    "name": "ipython",
    "version": 2
   },
   "file_extension": ".py",
   "mimetype": "text/x-python",
   "name": "python",
   "nbconvert_exporter": "python",
   "pygments_lexer": "ipython2",
   "version": "2.7.6"
  }
 },
 "nbformat": 4,
 "nbformat_minor": 0
}