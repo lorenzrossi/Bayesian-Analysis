{
 "cells": [
  {
   "cell_type": "code",
   "execution_count": null,
   "metadata": {
    "collapsed": true
   },
   "outputs": [],
   "source": [
    "import pandas as pd"
   ]
  },
  {
   "cell_type": "code",
   "execution_count": 1,
   "outputs": [
    {
     "data": {
      "text/plain": "    crops,strucpro,geo\\time     2011      2012      2013      2014      2015   \\\n0         W1000,PR_HU_EU,AL   195.20    197.00         :    203.70    205.00    \n1         W1000,PR_HU_EU,AT   375.30    287.30    318.93    266.49    302.45    \n2         W1000,PR_HU_EU,BA   21.60 e   25.93 e   31.80 e   26.22 e   32.21 e   \n3         W1000,PR_HU_EU,BE    0.00 n    0.00 n    0.00 n    0.00 n    0.00 n   \n4         W1000,PR_HU_EU,BG   243.80    260.67    325.60    132.73    261.82    \n..                      ...       ...       ...       ...       ...       ...   \n159       W1300,PR_HU_EU,SI     0.00      0.00      0.00      0.00      0.00    \n160       W1300,PR_HU_EU,SK     0.00      0.00      0.00      0.00      0.00    \n161       W1300,PR_HU_EU,TR  1562.00   1614.00   1424.00   1563.00   1335.00    \n162       W1300,PR_HU_EU,UK     0.00      0.00      0.00      0.00      0.00    \n163       W1300,PR_HU_EU,XK       : z       : z       : z       : z        :    \n\n        2016      2017      2018      2019      2020    2021    2022   \n0     205.00    202.90    110.40    113.90   118.80 p      :       :   \n1     260.34    331.43    367.13    309.92    319.79       :       :   \n2     36.31 e   28.01 e   40.41 e   39.29 e   44.70 e      :       :   \n3      0.00 n    0.00 n    0.00 n    0.00 n    0.00 n  0.00 n  0.00 n  \n4    211.08 d   202.44    201.53    178.53    159.10       :       :   \n..        ...       ...       ...       ...       ...     ...     ...  \n159     0.00      0.00      0.00      0.00      0.00    0.00    0.00   \n160     0.00      0.00      0.00      0.00      0.00    0.00    0.00   \n161  1537.00   1603.00   1524.00   1599.00   1534.00       :       :   \n162     0.00      0.00      0.00      0.00      0.00       :       :   \n163        :         :         :         :         :       :       :   \n\n[164 rows x 13 columns]",
      "text/html": "<div>\n<style scoped>\n    .dataframe tbody tr th:only-of-type {\n        vertical-align: middle;\n    }\n\n    .dataframe tbody tr th {\n        vertical-align: top;\n    }\n\n    .dataframe thead th {\n        text-align: right;\n    }\n</style>\n<table border=\"1\" class=\"dataframe\">\n  <thead>\n    <tr style=\"text-align: right;\">\n      <th></th>\n      <th>crops,strucpro,geo\\time</th>\n      <th>2011</th>\n      <th>2012</th>\n      <th>2013</th>\n      <th>2014</th>\n      <th>2015</th>\n      <th>2016</th>\n      <th>2017</th>\n      <th>2018</th>\n      <th>2019</th>\n      <th>2020</th>\n      <th>2021</th>\n      <th>2022</th>\n    </tr>\n  </thead>\n  <tbody>\n    <tr>\n      <th>0</th>\n      <td>W1000,PR_HU_EU,AL</td>\n      <td>195.20</td>\n      <td>197.00</td>\n      <td>:</td>\n      <td>203.70</td>\n      <td>205.00</td>\n      <td>205.00</td>\n      <td>202.90</td>\n      <td>110.40</td>\n      <td>113.90</td>\n      <td>118.80 p</td>\n      <td>:</td>\n      <td>:</td>\n    </tr>\n    <tr>\n      <th>1</th>\n      <td>W1000,PR_HU_EU,AT</td>\n      <td>375.30</td>\n      <td>287.30</td>\n      <td>318.93</td>\n      <td>266.49</td>\n      <td>302.45</td>\n      <td>260.34</td>\n      <td>331.43</td>\n      <td>367.13</td>\n      <td>309.92</td>\n      <td>319.79</td>\n      <td>:</td>\n      <td>:</td>\n    </tr>\n    <tr>\n      <th>2</th>\n      <td>W1000,PR_HU_EU,BA</td>\n      <td>21.60 e</td>\n      <td>25.93 e</td>\n      <td>31.80 e</td>\n      <td>26.22 e</td>\n      <td>32.21 e</td>\n      <td>36.31 e</td>\n      <td>28.01 e</td>\n      <td>40.41 e</td>\n      <td>39.29 e</td>\n      <td>44.70 e</td>\n      <td>:</td>\n      <td>:</td>\n    </tr>\n    <tr>\n      <th>3</th>\n      <td>W1000,PR_HU_EU,BE</td>\n      <td>0.00 n</td>\n      <td>0.00 n</td>\n      <td>0.00 n</td>\n      <td>0.00 n</td>\n      <td>0.00 n</td>\n      <td>0.00 n</td>\n      <td>0.00 n</td>\n      <td>0.00 n</td>\n      <td>0.00 n</td>\n      <td>0.00 n</td>\n      <td>0.00 n</td>\n      <td>0.00 n</td>\n    </tr>\n    <tr>\n      <th>4</th>\n      <td>W1000,PR_HU_EU,BG</td>\n      <td>243.80</td>\n      <td>260.67</td>\n      <td>325.60</td>\n      <td>132.73</td>\n      <td>261.82</td>\n      <td>211.08 d</td>\n      <td>202.44</td>\n      <td>201.53</td>\n      <td>178.53</td>\n      <td>159.10</td>\n      <td>:</td>\n      <td>:</td>\n    </tr>\n    <tr>\n      <th>...</th>\n      <td>...</td>\n      <td>...</td>\n      <td>...</td>\n      <td>...</td>\n      <td>...</td>\n      <td>...</td>\n      <td>...</td>\n      <td>...</td>\n      <td>...</td>\n      <td>...</td>\n      <td>...</td>\n      <td>...</td>\n      <td>...</td>\n    </tr>\n    <tr>\n      <th>159</th>\n      <td>W1300,PR_HU_EU,SI</td>\n      <td>0.00</td>\n      <td>0.00</td>\n      <td>0.00</td>\n      <td>0.00</td>\n      <td>0.00</td>\n      <td>0.00</td>\n      <td>0.00</td>\n      <td>0.00</td>\n      <td>0.00</td>\n      <td>0.00</td>\n      <td>0.00</td>\n      <td>0.00</td>\n    </tr>\n    <tr>\n      <th>160</th>\n      <td>W1300,PR_HU_EU,SK</td>\n      <td>0.00</td>\n      <td>0.00</td>\n      <td>0.00</td>\n      <td>0.00</td>\n      <td>0.00</td>\n      <td>0.00</td>\n      <td>0.00</td>\n      <td>0.00</td>\n      <td>0.00</td>\n      <td>0.00</td>\n      <td>0.00</td>\n      <td>0.00</td>\n    </tr>\n    <tr>\n      <th>161</th>\n      <td>W1300,PR_HU_EU,TR</td>\n      <td>1562.00</td>\n      <td>1614.00</td>\n      <td>1424.00</td>\n      <td>1563.00</td>\n      <td>1335.00</td>\n      <td>1537.00</td>\n      <td>1603.00</td>\n      <td>1524.00</td>\n      <td>1599.00</td>\n      <td>1534.00</td>\n      <td>:</td>\n      <td>:</td>\n    </tr>\n    <tr>\n      <th>162</th>\n      <td>W1300,PR_HU_EU,UK</td>\n      <td>0.00</td>\n      <td>0.00</td>\n      <td>0.00</td>\n      <td>0.00</td>\n      <td>0.00</td>\n      <td>0.00</td>\n      <td>0.00</td>\n      <td>0.00</td>\n      <td>0.00</td>\n      <td>0.00</td>\n      <td>:</td>\n      <td>:</td>\n    </tr>\n    <tr>\n      <th>163</th>\n      <td>W1300,PR_HU_EU,XK</td>\n      <td>: z</td>\n      <td>: z</td>\n      <td>: z</td>\n      <td>: z</td>\n      <td>:</td>\n      <td>:</td>\n      <td>:</td>\n      <td>:</td>\n      <td>:</td>\n      <td>:</td>\n      <td>:</td>\n      <td>:</td>\n    </tr>\n  </tbody>\n</table>\n<p>164 rows × 13 columns</p>\n</div>"
     },
     "execution_count": 1,
     "metadata": {},
     "output_type": "execute_result"
    }
   ],
   "source": [
    "import pandas as pd\n",
    "tsv_data = pd.read_csv('C:\\\\Users\\\\loren\\\\Downloads\\\\tag00121.tsv.gz', sep='\\t')\n",
    "tsv_data"
   ],
   "metadata": {
    "collapsed": false,
    "pycharm": {
     "name": "#%%\n"
    }
   }
  }
 ],
 "metadata": {
  "kernelspec": {
   "display_name": "Python 3",
   "language": "python",
   "name": "python3"
  },
  "language_info": {
   "codemirror_mode": {
    "name": "ipython",
    "version": 2
   },
   "file_extension": ".py",
   "mimetype": "text/x-python",
   "name": "python",
   "nbconvert_exporter": "python",
   "pygments_lexer": "ipython2",
   "version": "2.7.6"
  }
 },
 "nbformat": 4,
 "nbformat_minor": 0
}