{
 "cells": [
  {
   "cell_type": "code",
   "execution_count": 1,
   "metadata": {
    "collapsed": true
   },
   "outputs": [
    {
     "ename": "NameError",
     "evalue": "name 'sns' is not defined",
     "output_type": "error",
     "traceback": [
      "\u001B[1;31m---------------------------------------------------------------------------\u001B[0m",
      "\u001B[1;31mNameError\u001B[0m                                 Traceback (most recent call last)",
      "Input \u001B[1;32mIn [1]\u001B[0m, in \u001B[0;36m<module>\u001B[1;34m\u001B[0m\n\u001B[0;32m      1\u001B[0m \u001B[38;5;66;03m# Check for outliers in 'pressure' column\u001B[39;00m\n\u001B[1;32m----> 3\u001B[0m \u001B[43msns\u001B[49m\u001B[38;5;241m.\u001B[39mboxplot(x\u001B[38;5;241m=\u001B[39mdf_weather[\u001B[38;5;124m'\u001B[39m\u001B[38;5;124mpressure\u001B[39m\u001B[38;5;124m'\u001B[39m])\n\u001B[0;32m      4\u001B[0m plt\u001B[38;5;241m.\u001B[39mshow()\n",
      "\u001B[1;31mNameError\u001B[0m: name 'sns' is not defined"
     ]
    }
   ],
   "source": [
    "# Check for outliers in 'pressure' column\n",
    "\n",
    "sns.boxplot(x=df_weather['pressure'])\n",
    "plt.show()"
   ]
  },
  {
   "cell_type": "code",
   "execution_count": null,
   "outputs": [],
   "source": [
    "# Check for outliers in 'pressure' column again\n",
    "\n",
    "sns.boxplot(x=df_weather['pressure'])\n",
    "plt.show()"
   ],
   "metadata": {
    "collapsed": false,
    "pycharm": {
     "name": "#%%\n"
    }
   }
  },
  {
   "cell_type": "code",
   "execution_count": null,
   "outputs": [],
   "source": [
    "# Check for outliers in 'wind_speed' column\n",
    "\n",
    "sns.boxplot(x=df_weather['wind_speed'])\n",
    "plt.show()"
   ],
   "metadata": {
    "collapsed": false,
    "pycharm": {
     "name": "#%%\n"
    }
   }
  },
  {
   "cell_type": "code",
   "execution_count": 2,
   "outputs": [
    {
     "ename": "NameError",
     "evalue": "name 'pd' is not defined",
     "output_type": "error",
     "traceback": [
      "\u001B[1;31m---------------------------------------------------------------------------\u001B[0m",
      "\u001B[1;31mNameError\u001B[0m                                 Traceback (most recent call last)",
      "Input \u001B[1;32mIn [2]\u001B[0m, in \u001B[0;36m<module>\u001B[1;34m\u001B[0m\n\u001B[0;32m      1\u001B[0m \u001B[38;5;66;03m# Define a function to plot different types of time-series\u001B[39;00m\n\u001B[1;32m----> 3\u001B[0m \u001B[38;5;28;01mdef\u001B[39;00m \u001B[38;5;21mplot_series\u001B[39m(df\u001B[38;5;241m=\u001B[39m\u001B[38;5;28;01mNone\u001B[39;00m, column\u001B[38;5;241m=\u001B[39m\u001B[38;5;28;01mNone\u001B[39;00m, series\u001B[38;5;241m=\u001B[39m\u001B[43mpd\u001B[49m\u001B[38;5;241m.\u001B[39mSeries([]),\n\u001B[0;32m      4\u001B[0m                 label\u001B[38;5;241m=\u001B[39m\u001B[38;5;28;01mNone\u001B[39;00m, ylabel\u001B[38;5;241m=\u001B[39m\u001B[38;5;28;01mNone\u001B[39;00m, title\u001B[38;5;241m=\u001B[39m\u001B[38;5;28;01mNone\u001B[39;00m, start\u001B[38;5;241m=\u001B[39m\u001B[38;5;241m0\u001B[39m, end\u001B[38;5;241m=\u001B[39m\u001B[38;5;28;01mNone\u001B[39;00m):\n\u001B[0;32m      5\u001B[0m     sns\u001B[38;5;241m.\u001B[39mset()\n\u001B[0;32m      6\u001B[0m     fig, ax \u001B[38;5;241m=\u001B[39m plt\u001B[38;5;241m.\u001B[39msubplots(figsize\u001B[38;5;241m=\u001B[39m(\u001B[38;5;241m30\u001B[39m, \u001B[38;5;241m12\u001B[39m))\n",
      "\u001B[1;31mNameError\u001B[0m: name 'pd' is not defined"
     ]
    }
   ],
   "source": [
    "# Define a function to plot different types of time-series\n",
    "\n",
    "def plot_series(df=None, column=None, series=pd.Series([]),\n",
    "                label=None, ylabel=None, title=None, start=0, end=None):\n",
    "    sns.set()\n",
    "    fig, ax = plt.subplots(figsize=(30, 12))\n",
    "    ax.set_xlabel('Time', fontsize=16)\n",
    "    if column:\n",
    "        ax.plot(df[column][start:end], label=label)\n",
    "        ax.set_ylabel(ylabel, fontsize=16)\n",
    "    if series.any():\n",
    "        ax.plot(series, label=label)\n",
    "        ax.set_ylabel(ylabel, fontsize=16)\n",
    "    if label:\n",
    "        ax.legend(fontsize=16)\n",
    "    if title:\n",
    "        ax.set_title(title, fontsize=24)\n",
    "    ax.grid(True)\n",
    "    return ax"
   ],
   "metadata": {
    "collapsed": false,
    "pycharm": {
     "name": "#%%\n"
    }
   }
  },
  {
   "cell_type": "code",
   "execution_count": null,
   "outputs": [],
   "source": [
    "# Plot the hourly actual electricity total load, along with the weekly rolling mean\n",
    "\n",
    "rolling1 = df_final['total load actual'].rolling(24*7, center=True).mean()\n",
    "rolling2 = df_final['generation renewable'].rolling(24*7, center=True).mean()\n",
    "rolling3 = df_final['generation non-renewable'].rolling(24*7, center=True).mean()\n",
    "ax1 = plot_series(df_final, 'total load actual', label='Hourly', ylabel='Actual load (MWh)',\n",
    "                 title='Total Actual Hourly Electricity Total and Weekly rolling mean')\n",
    "ax2 = plot_series(df_final, 'generation renewable', label='Hourly', ylabel='Actual load (MWh)',\n",
    "                 title='Hourly Electricity Generation from Renewable Energy Total and Weekly rolling mean')\n",
    "ax3 = plot_series(df_final, 'generation non-renewable', label='Hourly', ylabel='Actual load (MWh)',\n",
    "                 title='Hourly Electricity Generation from Non-Renewable Energy Total and Weekly rolling mean')\n",
    "ax1.plot(rolling1, linestyle='-', linewidth=2, label='Weekly rolling mean')\n",
    "ax2.plot(rolling2, linestyle='-', linewidth=2, label='Weekly rolling mean')\n",
    "ax3.plot(rolling3, linestyle='-', linewidth=2, label='Weekly rolling mean')\n",
    "\n",
    "plt.show()"
   ],
   "metadata": {
    "collapsed": false,
    "pycharm": {
     "name": "#%%\n"
    }
   }
  },
  {
   "cell_type": "code",
   "execution_count": null,
   "outputs": [],
   "source": [
    "rolling4 = df_final['generation solar'].rolling(24*7, center=True).mean()\n",
    "rolling5 = df_final['generation wind onshore'].rolling(24*7, center=True).mean()\n",
    "rolling6 = df_final['generation hydro all'].rolling(24*7, center=True).mean()\n",
    "ax4 = plot_series(df_final, 'generation solar', label='Hourly', ylabel='Actual load (MWh)',\n",
    "                 title='Hourly Electricity Generation from Solar Energy Total and Weekly rolling mean')\n",
    "ax5 = plot_series(df_final, 'generation wind onshore', label='Hourly', ylabel='Actual load (MWh)',\n",
    "                 title='Hourly Electricity Generation from Wind Energy Total and Weekly rolling mean')\n",
    "ax6 = plot_series(df_final, 'generation hydro all', label='Hourly', ylabel='Actual load (MWh)',\n",
    "                 title='Hourly Electricity Generation from Hydro-Electric Energy Total and Weekly rolling mean')\n",
    "ax4.plot(rolling4, linestyle='-', linewidth=2, label='Weekly rolling mean')\n",
    "ax5.plot(rolling5, linestyle='-', linewidth=2, label='Weekly rolling mean')\n",
    "ax6.plot(rolling6, linestyle='-', linewidth=2, label='Weekly rolling mean')\n",
    "\n",
    "plt.show()"
   ],
   "metadata": {
    "collapsed": false,
    "pycharm": {
     "name": "#%%\n"
    }
   }
  },
  {
   "cell_type": "code",
   "execution_count": null,
   "outputs": [],
   "source": [
    "# Plot the actual electricity total load at a daily/weekly scale\n",
    "\n",
    "ax1 = plot_series(df_final, 'total load actual', label='Hourly', ylabel='Actual Load(MWh)',\n",
    "                 start=1 + 24 * 500, end=1 + 24 * 515,\n",
    "                 title='Actual Hourly Electricity Total Load (Zoomed - 2 Weeks)')\n",
    "ax2 = plot_series(df_final, 'generation renewable', label='Hourly', ylabel='Actual Load(MWh)',\n",
    "                 start=1 + 24 * 500, end=1 + 24 * 515,\n",
    "                 title='Hourly Electricity Generation from Renewable Energy (Zoomed - 2 Weeks)')\n",
    "ax3 = plot_series(df_final, 'generation non-renewable', label='Hourly', ylabel='Actual Load(MWh)',\n",
    "                 start=1 + 24 * 500, end=1 + 24 * 515,\n",
    "                 title='Hourly Electricity Generation from Non-Renewable Energy (Zoomed - 2 Weeks)')\n",
    "plt.show()"
   ],
   "metadata": {
    "collapsed": false,
    "pycharm": {
     "name": "#%%\n"
    }
   }
  },
  {
   "cell_type": "code",
   "execution_count": null,
   "outputs": [],
   "source": [
    "# Plot the percentage of the hourly change in the actual electricity load\n",
    "\n",
    "change = df_energy['total load actual'].div(df_energy['total load actual'].shift(1)).mul(100)\n",
    "ax = plot_series(series=change, ylabel='Hourly Change (%)',\n",
    "                 title='Percentage of the hourly change in the actual electricity total load')\n",
    "plt.show()"
   ],
   "metadata": {
    "collapsed": false,
    "pycharm": {
     "name": "#%%\n"
    }
   }
  },
  {
   "cell_type": "code",
   "execution_count": null,
   "outputs": [],
   "source": [
    "# Decompose the electricity load time series\n",
    "\n",
    "res = sm.tsa.seasonal_decompose(df_energy['total load actual'], model='additive')\n",
    "\n",
    "fig, (ax1, ax2, ax3) = plt.subplots(3, 1, figsize=(20, 12))\n",
    "res.observed.plot(ax=ax1, title='Observed')\n",
    "res.trend.plot(ax=ax2, title='Trend')\n",
    "res.resid.plot(ax=ax3, title='Residual')\n",
    "plt.tight_layout()\n",
    "plt.show()"
   ],
   "metadata": {
    "collapsed": false,
    "pycharm": {
     "name": "#%%\n"
    }
   }
  }
 ],
 "metadata": {
  "kernelspec": {
   "display_name": "Python 3",
   "language": "python",
   "name": "python3"
  },
  "language_info": {
   "codemirror_mode": {
    "name": "ipython",
    "version": 2
   },
   "file_extension": ".py",
   "mimetype": "text/x-python",
   "name": "python",
   "nbconvert_exporter": "python",
   "pygments_lexer": "ipython2",
   "version": "2.7.6"
  }
 },
 "nbformat": 4,
 "nbformat_minor": 0
}