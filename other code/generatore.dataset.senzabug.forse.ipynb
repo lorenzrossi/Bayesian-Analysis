{
 "cells": [
  {
   "cell_type": "code",
   "execution_count": 36,
   "metadata": {},
   "outputs": [],
   "source": [
    "import pandas as pd"
   ]
  },
  {
   "cell_type": "markdown",
   "metadata": {},
   "source": [
    "### Y : energy"
   ]
  },
  {
   "cell_type": "code",
   "execution_count": 37,
   "metadata": {},
   "outputs": [
    {
     "data": {
      "text/plain": [
       "['forecast solar day ahead',\n",
       " 'forecast wind offshore eday ahead',\n",
       " 'forecast wind onshore day ahead',\n",
       " 'generation biomass',\n",
       " 'generation fossil brown coal/lignite',\n",
       " 'generation fossil coal-derived gas',\n",
       " 'generation fossil gas',\n",
       " 'generation fossil hard coal',\n",
       " 'generation fossil oil',\n",
       " 'generation fossil oil shale',\n",
       " 'generation fossil peat',\n",
       " 'generation geothermal',\n",
       " 'generation hydro pumped storage aggregated',\n",
       " 'generation hydro pumped storage consumption',\n",
       " 'generation hydro run-of-river and poundage',\n",
       " 'generation hydro water reservoir',\n",
       " 'generation marine',\n",
       " 'generation nuclear',\n",
       " 'generation other',\n",
       " 'generation other renewable',\n",
       " 'generation solar',\n",
       " 'generation waste',\n",
       " 'generation wind offshore',\n",
       " 'generation wind onshore',\n",
       " 'price actual',\n",
       " 'price day ahead',\n",
       " 'time',\n",
       " 'total load actual',\n",
       " 'total load forecast']"
      ]
     },
     "execution_count": 37,
     "metadata": {},
     "output_type": "execute_result"
    }
   ],
   "source": [
    "df_energy = pd.read_csv('data\\energy_dataset.csv')\n",
    "sorted(df_energy.columns)"
   ]
  },
  {
   "cell_type": "markdown",
   "metadata": {},
   "source": [
    "dropping useless features"
   ]
  },
  {
   "cell_type": "code",
   "execution_count": 38,
   "metadata": {},
   "outputs": [],
   "source": [
    "useless_energy_features = ['forecast solar day ahead',\n",
    " 'forecast wind offshore eday ahead',\n",
    " 'forecast wind onshore day ahead',\n",
    " 'price day ahead',\n",
    " 'total load actual',\n",
    " 'total load forecast',\n",
    " \n",
    " # NaN\n",
    " 'generation geothermal',\n",
    " 'generation marine',\n",
    " ]\n",
    " \n",
    "df_energy.drop(useless_energy_features, axis=1, inplace=True, )"
   ]
  },
  {
   "cell_type": "markdown",
   "metadata": {},
   "source": [
    "replacing NaNs"
   ]
  },
  {
   "cell_type": "code",
   "execution_count": 39,
   "metadata": {},
   "outputs": [
    {
     "data": {
      "text/plain": [
       "time                                               0\n",
       "generation biomass                                19\n",
       "generation fossil brown coal/lignite              18\n",
       "generation fossil coal-derived gas                18\n",
       "generation fossil gas                             18\n",
       "generation fossil hard coal                       18\n",
       "generation fossil oil                             19\n",
       "generation fossil oil shale                       18\n",
       "generation fossil peat                            18\n",
       "generation hydro pumped storage aggregated     35064\n",
       "generation hydro pumped storage consumption       19\n",
       "generation hydro run-of-river and poundage        19\n",
       "generation hydro water reservoir                  18\n",
       "generation nuclear                                17\n",
       "generation other                                  18\n",
       "generation other renewable                        18\n",
       "generation solar                                  18\n",
       "generation waste                                  19\n",
       "generation wind offshore                          18\n",
       "generation wind onshore                           18\n",
       "price actual                                       0\n",
       "dtype: int64"
      ]
     },
     "execution_count": 39,
     "metadata": {},
     "output_type": "execute_result"
    }
   ],
   "source": [
    "df_energy.isnull().sum()"
   ]
  },
  {
   "cell_type": "code",
   "execution_count": 40,
   "metadata": {},
   "outputs": [],
   "source": [
    "df_energy.sort_values('time', inplace = True, )\n",
    "df_energy.interpolate(method='linear', limit_direction='forward', inplace=True, axis=0)"
   ]
  },
  {
   "cell_type": "markdown",
   "metadata": {},
   "source": [
    "merging similar features"
   ]
  },
  {
   "cell_type": "code",
   "execution_count": 41,
   "metadata": {},
   "outputs": [],
   "source": [
    "fossil_features = [\n",
    "    'generation fossil brown coal/lignite',\n",
    "    'generation fossil coal-derived gas',\n",
    "    'generation fossil gas',\n",
    "    'generation fossil hard coal',\n",
    "    'generation fossil oil',\n",
    "    'generation fossil oil shale',\n",
    "    'generation fossil peat',\n",
    " ]\n",
    "\n",
    "df_energy['generation fossil'] = df_energy[fossil_features].sum(axis = 1)\n",
    "df_energy.drop(fossil_features, axis=1, inplace=True, )"
   ]
  },
  {
   "cell_type": "code",
   "execution_count": 42,
   "metadata": {},
   "outputs": [],
   "source": [
    "hydro_features = [\n",
    "    'generation hydro pumped storage aggregated',\n",
    "    'generation hydro pumped storage consumption',\n",
    "    'generation hydro run-of-river and poundage',\n",
    "    'generation hydro water reservoir',\n",
    " ]\n",
    "\n",
    "df_energy['generation hydro'] = df_energy[hydro_features].sum(axis = 1)\n",
    "df_energy.drop(hydro_features, axis=1, inplace=True, )"
   ]
  },
  {
   "cell_type": "code",
   "execution_count": 43,
   "metadata": {},
   "outputs": [],
   "source": [
    "wind_features = [\n",
    "    'generation wind offshore',\n",
    "    'generation wind onshore',\n",
    "    ]\n",
    "\n",
    "df_energy['generation wind'] = df_energy[wind_features].sum(axis = 1)\n",
    "df_energy.drop(wind_features, axis=1, inplace=True, )"
   ]
  },
  {
   "cell_type": "markdown",
   "metadata": {},
   "source": [
    "define features group"
   ]
  },
  {
   "cell_type": "code",
   "execution_count": 44,
   "metadata": {},
   "outputs": [],
   "source": [
    "nonrenew_features = [\n",
    "    'generation fossil',\n",
    "    'generation other',\n",
    "    'generation nuclear',\n",
    "    'generation waste',\n",
    " ]\n",
    "\n",
    "renewable_features = [\n",
    " 'generation biomass',\n",
    " 'generation hydro',\n",
    " 'generation other renewable',\n",
    " 'generation solar',\n",
    " 'generation wind'\n",
    " ]"
   ]
  },
  {
   "cell_type": "code",
   "execution_count": 45,
   "metadata": {},
   "outputs": [],
   "source": [
    "total_pop = 15272043\n",
    "weights = {\n",
    "    'Madrid': 6155116 / total_pop,\n",
    "    'Barcelona': 5179243 / total_pop,\n",
    "    'Valencia': 1645342 / total_pop,\n",
    "    'Seville': 1305342 / total_pop,\n",
    "    'Bilbao': 987000 / total_pop\n",
    "    }"
   ]
  },
  {
   "cell_type": "code",
   "execution_count": 46,
   "metadata": {},
   "outputs": [],
   "source": [
    "# for city, weight in weights.items():    \n",
    "#     for feature in features_list:\n",
    "#         df_en[feature + ' ' + city] = df_en[feature]*weight"
   ]
  },
  {
   "cell_type": "code",
   "execution_count": 47,
   "metadata": {},
   "outputs": [],
   "source": [
    "# df_energy['time'] = pd.to_datetime(df_energy['time'], utc=True, infer_datetime_format=True)\n",
    "# df_energy = df_energy.set_index('time')"
   ]
  },
  {
   "cell_type": "markdown",
   "metadata": {},
   "source": [
    "### X : weather"
   ]
  },
  {
   "cell_type": "code",
   "execution_count": 48,
   "metadata": {},
   "outputs": [
    {
     "data": {
      "text/plain": [
       "['city_name',\n",
       " 'clouds_all',\n",
       " 'dt_iso',\n",
       " 'humidity',\n",
       " 'pressure',\n",
       " 'rain_1h',\n",
       " 'rain_3h',\n",
       " 'snow_3h',\n",
       " 'temp',\n",
       " 'temp_max',\n",
       " 'temp_min',\n",
       " 'weather_description',\n",
       " 'weather_icon',\n",
       " 'weather_id',\n",
       " 'weather_main',\n",
       " 'wind_deg',\n",
       " 'wind_speed']"
      ]
     },
     "execution_count": 48,
     "metadata": {},
     "output_type": "execute_result"
    }
   ],
   "source": [
    "df_weather = pd.read_csv('data\\weather_features.csv')\n",
    "sorted(df_weather.columns)"
   ]
  },
  {
   "cell_type": "code",
   "execution_count": 49,
   "metadata": {},
   "outputs": [],
   "source": [
    "df_weather.drop_duplicates(subset=['dt_iso', 'city_name'], keep='first', inplace = True, )"
   ]
  },
  {
   "cell_type": "code",
   "execution_count": 50,
   "metadata": {},
   "outputs": [],
   "source": [
    "useless_weather_features = [\n",
    "    'weather_id', \n",
    "    'weather_main', \n",
    "    'weather_icon', \n",
    "    'weather_description',\n",
    "    ]\n",
    "df_weather.drop(useless_weather_features, axis=1, inplace=True, )"
   ]
  },
  {
   "cell_type": "code",
   "execution_count": 51,
   "metadata": {},
   "outputs": [],
   "source": [
    "weather_list = [ 'city_name', 'temp', 'temp_min', 'temp_max', 'pressure',\n",
    "       'humidity', 'wind_speed', 'wind_deg', 'rain_1h', 'rain_3h', 'snow_3h',\n",
    "       'clouds_all', 'weather_description',\n",
    "       ]"
   ]
  },
  {
   "cell_type": "markdown",
   "metadata": {},
   "source": [
    "sulla fiducia"
   ]
  },
  {
   "cell_type": "code",
   "execution_count": 52,
   "metadata": {},
   "outputs": [],
   "source": [
    "import numpy as np"
   ]
  },
  {
   "cell_type": "code",
   "execution_count": 53,
   "metadata": {},
   "outputs": [],
   "source": [
    "df_weather.loc[df_weather.pressure > 1051, 'pressure'] = np.nan\n",
    "df_weather.loc[df_weather.pressure < 931, 'pressure'] = np.nan\n",
    "df_weather.loc[df_weather.wind_speed > 50, 'wind_speed'] = np.nan"
   ]
  },
  {
   "cell_type": "code",
   "execution_count": 54,
   "metadata": {},
   "outputs": [],
   "source": [
    "df_weather.interpolate(method='linear', limit_direction='forward', inplace=True, axis=0)"
   ]
  },
  {
   "cell_type": "markdown",
   "metadata": {},
   "source": [
    "encoding `weather_description`"
   ]
  },
  {
   "cell_type": "code",
   "execution_count": 55,
   "metadata": {},
   "outputs": [],
   "source": [
    "# extract token words\n",
    "# weather_tokens = {w for l in df_weather.weather_description for w in l.split()}\n",
    "# weather_tokens.difference_update(['and', 'with', 'is', ])\n",
    "# weather_tokens\n",
    "\n",
    "# TODO PCA per alleggerire"
   ]
  },
  {
   "cell_type": "code",
   "execution_count": 56,
   "metadata": {},
   "outputs": [],
   "source": [
    "# for t in weather_tokens:\n",
    "#     df_weather[t] = df_weather.weather_description.apply(lambda text : 1 if t in text else 0)\n",
    "# df_weather.drop('weather_description', axis=1, inplace = True, )"
   ]
  },
  {
   "cell_type": "markdown",
   "metadata": {},
   "source": [
    "encodind `cities`"
   ]
  },
  {
   "cell_type": "code",
   "execution_count": 57,
   "metadata": {},
   "outputs": [],
   "source": [
    "df_final = dict()\n",
    "\n",
    "for city, df in df_weather.groupby('city_name'):\n",
    "    df.drop('city_name', axis='columns', inplace=True)\n",
    "    city_str = city.strip()\n",
    "\n",
    "    df_final[city_str] = df.add_prefix(f'x_')\n",
    "    df_final[city_str].rename(columns={'x_dt_iso':'time'}, inplace=True)\n"
   ]
  },
  {
   "cell_type": "code",
   "execution_count": 58,
   "metadata": {},
   "outputs": [
    {
     "data": {
      "text/html": [
       "<div>\n",
       "<style scoped>\n",
       "    .dataframe tbody tr th:only-of-type {\n",
       "        vertical-align: middle;\n",
       "    }\n",
       "\n",
       "    .dataframe tbody tr th {\n",
       "        vertical-align: top;\n",
       "    }\n",
       "\n",
       "    .dataframe thead th {\n",
       "        text-align: right;\n",
       "    }\n",
       "</style>\n",
       "<table border=\"1\" class=\"dataframe\">\n",
       "  <thead>\n",
       "    <tr style=\"text-align: right;\">\n",
       "      <th></th>\n",
       "      <th>time</th>\n",
       "      <th>x_temp</th>\n",
       "      <th>x_temp_min</th>\n",
       "      <th>x_temp_max</th>\n",
       "      <th>x_pressure</th>\n",
       "      <th>x_humidity</th>\n",
       "      <th>x_wind_speed</th>\n",
       "      <th>x_wind_deg</th>\n",
       "      <th>x_rain_1h</th>\n",
       "      <th>x_rain_3h</th>\n",
       "      <th>x_snow_3h</th>\n",
       "      <th>x_clouds_all</th>\n",
       "    </tr>\n",
       "  </thead>\n",
       "  <tbody>\n",
       "    <tr>\n",
       "      <th>35145</th>\n",
       "      <td>2015-01-01 00:00:00+01:00</td>\n",
       "      <td>267.325</td>\n",
       "      <td>267.325</td>\n",
       "      <td>267.325</td>\n",
       "      <td>971.0</td>\n",
       "      <td>63</td>\n",
       "      <td>1.0</td>\n",
       "      <td>309</td>\n",
       "      <td>0.0</td>\n",
       "      <td>0.0</td>\n",
       "      <td>0.0</td>\n",
       "      <td>0</td>\n",
       "    </tr>\n",
       "    <tr>\n",
       "      <th>35146</th>\n",
       "      <td>2015-01-01 01:00:00+01:00</td>\n",
       "      <td>267.325</td>\n",
       "      <td>267.325</td>\n",
       "      <td>267.325</td>\n",
       "      <td>971.0</td>\n",
       "      <td>63</td>\n",
       "      <td>1.0</td>\n",
       "      <td>309</td>\n",
       "      <td>0.0</td>\n",
       "      <td>0.0</td>\n",
       "      <td>0.0</td>\n",
       "      <td>0</td>\n",
       "    </tr>\n",
       "    <tr>\n",
       "      <th>35147</th>\n",
       "      <td>2015-01-01 02:00:00+01:00</td>\n",
       "      <td>266.186</td>\n",
       "      <td>266.186</td>\n",
       "      <td>266.186</td>\n",
       "      <td>971.0</td>\n",
       "      <td>64</td>\n",
       "      <td>1.0</td>\n",
       "      <td>273</td>\n",
       "      <td>0.0</td>\n",
       "      <td>0.0</td>\n",
       "      <td>0.0</td>\n",
       "      <td>0</td>\n",
       "    </tr>\n",
       "    <tr>\n",
       "      <th>35148</th>\n",
       "      <td>2015-01-01 03:00:00+01:00</td>\n",
       "      <td>266.186</td>\n",
       "      <td>266.186</td>\n",
       "      <td>266.186</td>\n",
       "      <td>971.0</td>\n",
       "      <td>64</td>\n",
       "      <td>1.0</td>\n",
       "      <td>273</td>\n",
       "      <td>0.0</td>\n",
       "      <td>0.0</td>\n",
       "      <td>0.0</td>\n",
       "      <td>0</td>\n",
       "    </tr>\n",
       "    <tr>\n",
       "      <th>35149</th>\n",
       "      <td>2015-01-01 04:00:00+01:00</td>\n",
       "      <td>266.186</td>\n",
       "      <td>266.186</td>\n",
       "      <td>266.186</td>\n",
       "      <td>971.0</td>\n",
       "      <td>64</td>\n",
       "      <td>1.0</td>\n",
       "      <td>273</td>\n",
       "      <td>0.0</td>\n",
       "      <td>0.0</td>\n",
       "      <td>0.0</td>\n",
       "      <td>0</td>\n",
       "    </tr>\n",
       "  </tbody>\n",
       "</table>\n",
       "</div>"
      ],
      "text/plain": [
       "                            time   x_temp  x_temp_min  x_temp_max  x_pressure  \\\n",
       "35145  2015-01-01 00:00:00+01:00  267.325     267.325     267.325       971.0   \n",
       "35146  2015-01-01 01:00:00+01:00  267.325     267.325     267.325       971.0   \n",
       "35147  2015-01-01 02:00:00+01:00  266.186     266.186     266.186       971.0   \n",
       "35148  2015-01-01 03:00:00+01:00  266.186     266.186     266.186       971.0   \n",
       "35149  2015-01-01 04:00:00+01:00  266.186     266.186     266.186       971.0   \n",
       "\n",
       "       x_humidity  x_wind_speed  x_wind_deg  x_rain_1h  x_rain_3h  x_snow_3h  \\\n",
       "35145          63           1.0         309        0.0        0.0        0.0   \n",
       "35146          63           1.0         309        0.0        0.0        0.0   \n",
       "35147          64           1.0         273        0.0        0.0        0.0   \n",
       "35148          64           1.0         273        0.0        0.0        0.0   \n",
       "35149          64           1.0         273        0.0        0.0        0.0   \n",
       "\n",
       "       x_clouds_all  \n",
       "35145             0  \n",
       "35146             0  \n",
       "35147             0  \n",
       "35148             0  \n",
       "35149             0  "
      ]
     },
     "execution_count": 58,
     "metadata": {},
     "output_type": "execute_result"
    }
   ],
   "source": [
    "df_final['Madrid'].head()"
   ]
  },
  {
   "cell_type": "code",
   "execution_count": 59,
   "metadata": {},
   "outputs": [],
   "source": [
    "df_energy = df_energy.add_prefix(f'y_')\n",
    "df_energy.rename(columns={'y_time':'time'}, inplace=True)"
   ]
  },
  {
   "cell_type": "code",
   "execution_count": 60,
   "metadata": {},
   "outputs": [
    {
     "data": {
      "text/html": [
       "<div>\n",
       "<style scoped>\n",
       "    .dataframe tbody tr th:only-of-type {\n",
       "        vertical-align: middle;\n",
       "    }\n",
       "\n",
       "    .dataframe tbody tr th {\n",
       "        vertical-align: top;\n",
       "    }\n",
       "\n",
       "    .dataframe thead th {\n",
       "        text-align: right;\n",
       "    }\n",
       "</style>\n",
       "<table border=\"1\" class=\"dataframe\">\n",
       "  <thead>\n",
       "    <tr style=\"text-align: right;\">\n",
       "      <th></th>\n",
       "      <th>time</th>\n",
       "      <th>y_generation biomass</th>\n",
       "      <th>y_generation nuclear</th>\n",
       "      <th>y_generation other</th>\n",
       "      <th>y_generation other renewable</th>\n",
       "      <th>y_generation solar</th>\n",
       "      <th>y_generation waste</th>\n",
       "      <th>y_price actual</th>\n",
       "      <th>y_generation fossil</th>\n",
       "      <th>y_generation hydro</th>\n",
       "      <th>y_generation wind</th>\n",
       "    </tr>\n",
       "  </thead>\n",
       "  <tbody>\n",
       "    <tr>\n",
       "      <th>0</th>\n",
       "      <td>2015-01-01 00:00:00+01:00</td>\n",
       "      <td>447.0</td>\n",
       "      <td>7096.0</td>\n",
       "      <td>43.0</td>\n",
       "      <td>73.0</td>\n",
       "      <td>49.0</td>\n",
       "      <td>196.0</td>\n",
       "      <td>65.41</td>\n",
       "      <td>10156.0</td>\n",
       "      <td>3813.0</td>\n",
       "      <td>6378.0</td>\n",
       "    </tr>\n",
       "    <tr>\n",
       "      <th>1</th>\n",
       "      <td>2015-01-01 01:00:00+01:00</td>\n",
       "      <td>449.0</td>\n",
       "      <td>7096.0</td>\n",
       "      <td>43.0</td>\n",
       "      <td>71.0</td>\n",
       "      <td>50.0</td>\n",
       "      <td>195.0</td>\n",
       "      <td>64.92</td>\n",
       "      <td>10437.0</td>\n",
       "      <td>3587.0</td>\n",
       "      <td>5890.0</td>\n",
       "    </tr>\n",
       "    <tr>\n",
       "      <th>2</th>\n",
       "      <td>2015-01-01 02:00:00+01:00</td>\n",
       "      <td>448.0</td>\n",
       "      <td>7099.0</td>\n",
       "      <td>43.0</td>\n",
       "      <td>73.0</td>\n",
       "      <td>50.0</td>\n",
       "      <td>196.0</td>\n",
       "      <td>64.48</td>\n",
       "      <td>9918.0</td>\n",
       "      <td>3508.0</td>\n",
       "      <td>5461.0</td>\n",
       "    </tr>\n",
       "    <tr>\n",
       "      <th>3</th>\n",
       "      <td>2015-01-01 03:00:00+01:00</td>\n",
       "      <td>438.0</td>\n",
       "      <td>7098.0</td>\n",
       "      <td>43.0</td>\n",
       "      <td>75.0</td>\n",
       "      <td>50.0</td>\n",
       "      <td>191.0</td>\n",
       "      <td>59.32</td>\n",
       "      <td>8859.0</td>\n",
       "      <td>3231.0</td>\n",
       "      <td>5238.0</td>\n",
       "    </tr>\n",
       "    <tr>\n",
       "      <th>4</th>\n",
       "      <td>2015-01-01 04:00:00+01:00</td>\n",
       "      <td>428.0</td>\n",
       "      <td>7097.0</td>\n",
       "      <td>43.0</td>\n",
       "      <td>74.0</td>\n",
       "      <td>42.0</td>\n",
       "      <td>189.0</td>\n",
       "      <td>56.04</td>\n",
       "      <td>8313.0</td>\n",
       "      <td>3499.0</td>\n",
       "      <td>4935.0</td>\n",
       "    </tr>\n",
       "  </tbody>\n",
       "</table>\n",
       "</div>"
      ],
      "text/plain": [
       "                        time  y_generation biomass  y_generation nuclear  \\\n",
       "0  2015-01-01 00:00:00+01:00                 447.0                7096.0   \n",
       "1  2015-01-01 01:00:00+01:00                 449.0                7096.0   \n",
       "2  2015-01-01 02:00:00+01:00                 448.0                7099.0   \n",
       "3  2015-01-01 03:00:00+01:00                 438.0                7098.0   \n",
       "4  2015-01-01 04:00:00+01:00                 428.0                7097.0   \n",
       "\n",
       "   y_generation other  y_generation other renewable  y_generation solar  \\\n",
       "0                43.0                          73.0                49.0   \n",
       "1                43.0                          71.0                50.0   \n",
       "2                43.0                          73.0                50.0   \n",
       "3                43.0                          75.0                50.0   \n",
       "4                43.0                          74.0                42.0   \n",
       "\n",
       "   y_generation waste  y_price actual  y_generation fossil  \\\n",
       "0               196.0           65.41              10156.0   \n",
       "1               195.0           64.92              10437.0   \n",
       "2               196.0           64.48               9918.0   \n",
       "3               191.0           59.32               8859.0   \n",
       "4               189.0           56.04               8313.0   \n",
       "\n",
       "   y_generation hydro  y_generation wind  \n",
       "0              3813.0             6378.0  \n",
       "1              3587.0             5890.0  \n",
       "2              3508.0             5461.0  \n",
       "3              3231.0             5238.0  \n",
       "4              3499.0             4935.0  "
      ]
     },
     "execution_count": 60,
     "metadata": {},
     "output_type": "execute_result"
    }
   ],
   "source": [
    "df_energy.head()"
   ]
  },
  {
   "cell_type": "markdown",
   "metadata": {},
   "source": [
    "### XY : merge"
   ]
  },
  {
   "cell_type": "code",
   "execution_count": 61,
   "metadata": {},
   "outputs": [],
   "source": [
    "# df_energy.drop_duplicates(subset=['time'], keep='first', inplace = True, )"
   ]
  },
  {
   "cell_type": "code",
   "execution_count": 62,
   "metadata": {},
   "outputs": [
    {
     "data": {
      "text/html": [
       "<div>\n",
       "<style scoped>\n",
       "    .dataframe tbody tr th:only-of-type {\n",
       "        vertical-align: middle;\n",
       "    }\n",
       "\n",
       "    .dataframe tbody tr th {\n",
       "        vertical-align: top;\n",
       "    }\n",
       "\n",
       "    .dataframe thead th {\n",
       "        text-align: right;\n",
       "    }\n",
       "</style>\n",
       "<table border=\"1\" class=\"dataframe\">\n",
       "  <thead>\n",
       "    <tr style=\"text-align: right;\">\n",
       "      <th></th>\n",
       "      <th>dt_iso</th>\n",
       "      <th>city_name</th>\n",
       "      <th>temp</th>\n",
       "      <th>temp_min</th>\n",
       "      <th>temp_max</th>\n",
       "      <th>pressure</th>\n",
       "      <th>humidity</th>\n",
       "      <th>wind_speed</th>\n",
       "      <th>wind_deg</th>\n",
       "      <th>rain_1h</th>\n",
       "      <th>rain_3h</th>\n",
       "      <th>snow_3h</th>\n",
       "      <th>clouds_all</th>\n",
       "    </tr>\n",
       "  </thead>\n",
       "  <tbody>\n",
       "    <tr>\n",
       "      <th>0</th>\n",
       "      <td>2015-01-01 00:00:00+01:00</td>\n",
       "      <td>Valencia</td>\n",
       "      <td>270.475</td>\n",
       "      <td>270.475</td>\n",
       "      <td>270.475</td>\n",
       "      <td>1001.0</td>\n",
       "      <td>77</td>\n",
       "      <td>1.0</td>\n",
       "      <td>62</td>\n",
       "      <td>0.0</td>\n",
       "      <td>0.0</td>\n",
       "      <td>0.0</td>\n",
       "      <td>0</td>\n",
       "    </tr>\n",
       "    <tr>\n",
       "      <th>1</th>\n",
       "      <td>2015-01-01 01:00:00+01:00</td>\n",
       "      <td>Valencia</td>\n",
       "      <td>270.475</td>\n",
       "      <td>270.475</td>\n",
       "      <td>270.475</td>\n",
       "      <td>1001.0</td>\n",
       "      <td>77</td>\n",
       "      <td>1.0</td>\n",
       "      <td>62</td>\n",
       "      <td>0.0</td>\n",
       "      <td>0.0</td>\n",
       "      <td>0.0</td>\n",
       "      <td>0</td>\n",
       "    </tr>\n",
       "    <tr>\n",
       "      <th>2</th>\n",
       "      <td>2015-01-01 02:00:00+01:00</td>\n",
       "      <td>Valencia</td>\n",
       "      <td>269.686</td>\n",
       "      <td>269.686</td>\n",
       "      <td>269.686</td>\n",
       "      <td>1002.0</td>\n",
       "      <td>78</td>\n",
       "      <td>0.0</td>\n",
       "      <td>23</td>\n",
       "      <td>0.0</td>\n",
       "      <td>0.0</td>\n",
       "      <td>0.0</td>\n",
       "      <td>0</td>\n",
       "    </tr>\n",
       "    <tr>\n",
       "      <th>3</th>\n",
       "      <td>2015-01-01 03:00:00+01:00</td>\n",
       "      <td>Valencia</td>\n",
       "      <td>269.686</td>\n",
       "      <td>269.686</td>\n",
       "      <td>269.686</td>\n",
       "      <td>1002.0</td>\n",
       "      <td>78</td>\n",
       "      <td>0.0</td>\n",
       "      <td>23</td>\n",
       "      <td>0.0</td>\n",
       "      <td>0.0</td>\n",
       "      <td>0.0</td>\n",
       "      <td>0</td>\n",
       "    </tr>\n",
       "    <tr>\n",
       "      <th>4</th>\n",
       "      <td>2015-01-01 04:00:00+01:00</td>\n",
       "      <td>Valencia</td>\n",
       "      <td>269.686</td>\n",
       "      <td>269.686</td>\n",
       "      <td>269.686</td>\n",
       "      <td>1002.0</td>\n",
       "      <td>78</td>\n",
       "      <td>0.0</td>\n",
       "      <td>23</td>\n",
       "      <td>0.0</td>\n",
       "      <td>0.0</td>\n",
       "      <td>0.0</td>\n",
       "      <td>0</td>\n",
       "    </tr>\n",
       "  </tbody>\n",
       "</table>\n",
       "</div>"
      ],
      "text/plain": [
       "                      dt_iso city_name     temp  temp_min  temp_max  pressure  \\\n",
       "0  2015-01-01 00:00:00+01:00  Valencia  270.475   270.475   270.475    1001.0   \n",
       "1  2015-01-01 01:00:00+01:00  Valencia  270.475   270.475   270.475    1001.0   \n",
       "2  2015-01-01 02:00:00+01:00  Valencia  269.686   269.686   269.686    1002.0   \n",
       "3  2015-01-01 03:00:00+01:00  Valencia  269.686   269.686   269.686    1002.0   \n",
       "4  2015-01-01 04:00:00+01:00  Valencia  269.686   269.686   269.686    1002.0   \n",
       "\n",
       "   humidity  wind_speed  wind_deg  rain_1h  rain_3h  snow_3h  clouds_all  \n",
       "0        77         1.0        62      0.0      0.0      0.0           0  \n",
       "1        77         1.0        62      0.0      0.0      0.0           0  \n",
       "2        78         0.0        23      0.0      0.0      0.0           0  \n",
       "3        78         0.0        23      0.0      0.0      0.0           0  \n",
       "4        78         0.0        23      0.0      0.0      0.0           0  "
      ]
     },
     "execution_count": 62,
     "metadata": {},
     "output_type": "execute_result"
    }
   ],
   "source": [
    "df_weather.head()"
   ]
  },
  {
   "cell_type": "markdown",
   "metadata": {},
   "source": [
    "### plotting"
   ]
  },
  {
   "cell_type": "code",
   "execution_count": 63,
   "metadata": {},
   "outputs": [],
   "source": [
    "import seaborn as sns\n",
    "sns.set_theme(style=\"darkgrid\")"
   ]
  },
  {
   "cell_type": "code",
   "execution_count": 64,
   "metadata": {},
   "outputs": [],
   "source": [
    "import math"
   ]
  },
  {
   "cell_type": "code",
   "execution_count": 65,
   "metadata": {},
   "outputs": [],
   "source": [
    "df_weather['wse'] = df_weather.wind_speed.apply(lambda x : math.log(x+1,4))"
   ]
  },
  {
   "cell_type": "code",
   "execution_count": 66,
   "metadata": {},
   "outputs": [
    {
     "data": {
      "text/plain": [
       "<seaborn.axisgrid.FacetGrid at 0x1478ebf48e0>"
      ]
     },
     "execution_count": 66,
     "metadata": {},
     "output_type": "execute_result"
    },
    {
     "data": {
      "image/png": "[encoded data removed]",
      "text/plain": [
       "<Figure size 452.35x360 with 1 Axes>"
      ]
     },
     "metadata": {},
     "output_type": "display_data"
    }
   ],
   "source": [
    "sns.displot(data=df_weather, x=\"wse\", hue=\"city_name\", kind=\"kde\", )"
   ]
  },
  {
   "cell_type": "code",
   "execution_count": 65,
   "metadata": {},
   "outputs": [
    {
     "data": {
      "text/plain": [
       "<seaborn.axisgrid.FacetGrid at 0x22848e9ee90>"
      ]
     },
     "execution_count": 65,
     "metadata": {},
     "output_type": "execute_result"
    },
    {
     "data": {
      "image/png": "[encoded data removed]",
      "text/plain": [
       "<Figure size 452.35x360 with 1 Axes>"
      ]
     },
     "metadata": {},
     "output_type": "display_data"
    }
   ],
   "source": [
    "sns.displot(data=df_weather, x=\"humidity\", hue=\"city_name\", kind=\"kde\")"
   ]
  },
  {
   "cell_type": "code",
   "execution_count": 66,
   "metadata": {},
   "outputs": [
    {
     "data": {
      "text/plain": [
       "<seaborn.axisgrid.FacetGrid at 0x2285ddca6e0>"
      ]
     },
     "execution_count": 66,
     "metadata": {},
     "output_type": "execute_result"
    },
    {
     "data": {
      "image/png": "[encoded data removed]",
      "text/plain": [
       "<Figure size 452.35x360 with 1 Axes>"
      ]
     },
     "metadata": {},
     "output_type": "display_data"
    }
   ],
   "source": [
    "sns.displot(data=df_weather, x=\"temp\", hue=\"city_name\", kind=\"kde\")"
   ]
  },
  {
   "cell_type": "code",
   "execution_count": 67,
   "metadata": {},
   "outputs": [
    {
     "ename": "ZeroDivisionError",
     "evalue": "division by zero",
     "output_type": "error",
     "traceback": [
      "\u001b[1;31m---------------------------------------------------------------------------\u001b[0m",
      "\u001b[1;31mZeroDivisionError\u001b[0m                         Traceback (most recent call last)",
      "\u001b[1;32mh:\\git.rossini.project\\generatore.dataset.senzabug.forse.ipynb Cell 42'\u001b[0m in \u001b[0;36m<cell line: 1>\u001b[1;34m()\u001b[0m\n\u001b[1;32m----> <a href='vscode-notebook-cell:/h%3A/git.rossini.project/generatore.dataset.senzabug.forse.ipynb#ch0000041?line=0'>1</a>\u001b[0m \u001b[39m0\u001b[39;49m\u001b[39m/\u001b[39;49m\u001b[39m0\u001b[39;49m\n",
      "\u001b[1;31mZeroDivisionError\u001b[0m: division by zero"
     ]
    }
   ],
   "source": [
    "0/0"
   ]
  },
  {
   "cell_type": "markdown",
   "metadata": {},
   "source": [
    "### saving"
   ]
  },
  {
   "cell_type": "markdown",
   "metadata": {},
   "source": [
    "global dataset"
   ]
  },
  {
   "cell_type": "code",
   "execution_count": null,
   "metadata": {},
   "outputs": [],
   "source": [
    "df_global = df_energy.copy()\n",
    "for city in weights:\n",
    "    df_global = pd.merge(df_global, df_final[city].add_suffix(f'_{city}', ), how='inner', left_on='time', right_on=f'time_{city}', )"
   ]
  },
  {
   "cell_type": "code",
   "execution_count": null,
   "metadata": {},
   "outputs": [
    {
     "data": {
      "text/html": [
       "<div>\n",
       "<style scoped>\n",
       "    .dataframe tbody tr th:only-of-type {\n",
       "        vertical-align: middle;\n",
       "    }\n",
       "\n",
       "    .dataframe tbody tr th {\n",
       "        vertical-align: top;\n",
       "    }\n",
       "\n",
       "    .dataframe thead th {\n",
       "        text-align: right;\n",
       "    }\n",
       "</style>\n",
       "<table border=\"1\" class=\"dataframe\">\n",
       "  <thead>\n",
       "    <tr style=\"text-align: right;\">\n",
       "      <th></th>\n",
       "      <th>time</th>\n",
       "      <th>y_generation biomass</th>\n",
       "      <th>y_generation nuclear</th>\n",
       "      <th>y_generation other</th>\n",
       "      <th>y_generation other renewable</th>\n",
       "      <th>y_generation solar</th>\n",
       "      <th>y_generation waste</th>\n",
       "      <th>y_price actual</th>\n",
       "      <th>y_generation fossil</th>\n",
       "      <th>y_generation hydro</th>\n",
       "      <th>...</th>\n",
       "      <th>x_temp_min_Bilbao</th>\n",
       "      <th>x_temp_max_Bilbao</th>\n",
       "      <th>x_pressure_Bilbao</th>\n",
       "      <th>x_humidity_Bilbao</th>\n",
       "      <th>x_wind_speed_Bilbao</th>\n",
       "      <th>x_wind_deg_Bilbao</th>\n",
       "      <th>x_rain_1h_Bilbao</th>\n",
       "      <th>x_rain_3h_Bilbao</th>\n",
       "      <th>x_snow_3h_Bilbao</th>\n",
       "      <th>x_clouds_all_Bilbao</th>\n",
       "    </tr>\n",
       "  </thead>\n",
       "  <tbody>\n",
       "    <tr>\n",
       "      <th>0</th>\n",
       "      <td>2015-01-01 00:00:00+01:00</td>\n",
       "      <td>447.0</td>\n",
       "      <td>7096.0</td>\n",
       "      <td>43.0</td>\n",
       "      <td>73.0</td>\n",
       "      <td>49.0</td>\n",
       "      <td>196.0</td>\n",
       "      <td>65.41</td>\n",
       "      <td>10156.0</td>\n",
       "      <td>3813.0</td>\n",
       "      <td>...</td>\n",
       "      <td>269.657312</td>\n",
       "      <td>269.657312</td>\n",
       "      <td>1036.0</td>\n",
       "      <td>97</td>\n",
       "      <td>0.0</td>\n",
       "      <td>226</td>\n",
       "      <td>0.0</td>\n",
       "      <td>0.0</td>\n",
       "      <td>0.0</td>\n",
       "      <td>0</td>\n",
       "    </tr>\n",
       "    <tr>\n",
       "      <th>1</th>\n",
       "      <td>2015-01-01 01:00:00+01:00</td>\n",
       "      <td>449.0</td>\n",
       "      <td>7096.0</td>\n",
       "      <td>43.0</td>\n",
       "      <td>71.0</td>\n",
       "      <td>50.0</td>\n",
       "      <td>195.0</td>\n",
       "      <td>64.92</td>\n",
       "      <td>10437.0</td>\n",
       "      <td>3587.0</td>\n",
       "      <td>...</td>\n",
       "      <td>269.763500</td>\n",
       "      <td>269.763500</td>\n",
       "      <td>1035.0</td>\n",
       "      <td>97</td>\n",
       "      <td>0.0</td>\n",
       "      <td>229</td>\n",
       "      <td>0.0</td>\n",
       "      <td>0.0</td>\n",
       "      <td>0.0</td>\n",
       "      <td>0</td>\n",
       "    </tr>\n",
       "    <tr>\n",
       "      <th>2</th>\n",
       "      <td>2015-01-01 02:00:00+01:00</td>\n",
       "      <td>448.0</td>\n",
       "      <td>7099.0</td>\n",
       "      <td>43.0</td>\n",
       "      <td>73.0</td>\n",
       "      <td>50.0</td>\n",
       "      <td>196.0</td>\n",
       "      <td>64.48</td>\n",
       "      <td>9918.0</td>\n",
       "      <td>3508.0</td>\n",
       "      <td>...</td>\n",
       "      <td>269.251688</td>\n",
       "      <td>269.251688</td>\n",
       "      <td>1036.0</td>\n",
       "      <td>97</td>\n",
       "      <td>1.0</td>\n",
       "      <td>224</td>\n",
       "      <td>0.0</td>\n",
       "      <td>0.0</td>\n",
       "      <td>0.0</td>\n",
       "      <td>0</td>\n",
       "    </tr>\n",
       "    <tr>\n",
       "      <th>3</th>\n",
       "      <td>2015-01-01 03:00:00+01:00</td>\n",
       "      <td>438.0</td>\n",
       "      <td>7098.0</td>\n",
       "      <td>43.0</td>\n",
       "      <td>75.0</td>\n",
       "      <td>50.0</td>\n",
       "      <td>191.0</td>\n",
       "      <td>59.32</td>\n",
       "      <td>8859.0</td>\n",
       "      <td>3231.0</td>\n",
       "      <td>...</td>\n",
       "      <td>269.203344</td>\n",
       "      <td>269.203344</td>\n",
       "      <td>1035.0</td>\n",
       "      <td>97</td>\n",
       "      <td>1.0</td>\n",
       "      <td>225</td>\n",
       "      <td>0.0</td>\n",
       "      <td>0.0</td>\n",
       "      <td>0.0</td>\n",
       "      <td>0</td>\n",
       "    </tr>\n",
       "    <tr>\n",
       "      <th>4</th>\n",
       "      <td>2015-01-01 04:00:00+01:00</td>\n",
       "      <td>428.0</td>\n",
       "      <td>7097.0</td>\n",
       "      <td>43.0</td>\n",
       "      <td>74.0</td>\n",
       "      <td>42.0</td>\n",
       "      <td>189.0</td>\n",
       "      <td>56.04</td>\n",
       "      <td>8313.0</td>\n",
       "      <td>3499.0</td>\n",
       "      <td>...</td>\n",
       "      <td>269.485500</td>\n",
       "      <td>269.485500</td>\n",
       "      <td>1035.0</td>\n",
       "      <td>97</td>\n",
       "      <td>1.0</td>\n",
       "      <td>221</td>\n",
       "      <td>0.0</td>\n",
       "      <td>0.0</td>\n",
       "      <td>0.0</td>\n",
       "      <td>0</td>\n",
       "    </tr>\n",
       "  </tbody>\n",
       "</table>\n",
       "<p>5 rows × 71 columns</p>\n",
       "</div>"
      ],
      "text/plain": [
       "                        time  y_generation biomass  y_generation nuclear  \\\n",
       "0  2015-01-01 00:00:00+01:00                 447.0                7096.0   \n",
       "1  2015-01-01 01:00:00+01:00                 449.0                7096.0   \n",
       "2  2015-01-01 02:00:00+01:00                 448.0                7099.0   \n",
       "3  2015-01-01 03:00:00+01:00                 438.0                7098.0   \n",
       "4  2015-01-01 04:00:00+01:00                 428.0                7097.0   \n",
       "\n",
       "   y_generation other  y_generation other renewable  y_generation solar  \\\n",
       "0                43.0                          73.0                49.0   \n",
       "1                43.0                          71.0                50.0   \n",
       "2                43.0                          73.0                50.0   \n",
       "3                43.0                          75.0                50.0   \n",
       "4                43.0                          74.0                42.0   \n",
       "\n",
       "   y_generation waste  y_price actual  y_generation fossil  \\\n",
       "0               196.0           65.41              10156.0   \n",
       "1               195.0           64.92              10437.0   \n",
       "2               196.0           64.48               9918.0   \n",
       "3               191.0           59.32               8859.0   \n",
       "4               189.0           56.04               8313.0   \n",
       "\n",
       "   y_generation hydro  ...  x_temp_min_Bilbao x_temp_max_Bilbao  \\\n",
       "0              3813.0  ...         269.657312        269.657312   \n",
       "1              3587.0  ...         269.763500        269.763500   \n",
       "2              3508.0  ...         269.251688        269.251688   \n",
       "3              3231.0  ...         269.203344        269.203344   \n",
       "4              3499.0  ...         269.485500        269.485500   \n",
       "\n",
       "   x_pressure_Bilbao  x_humidity_Bilbao  x_wind_speed_Bilbao  \\\n",
       "0             1036.0                 97                  0.0   \n",
       "1             1035.0                 97                  0.0   \n",
       "2             1036.0                 97                  1.0   \n",
       "3             1035.0                 97                  1.0   \n",
       "4             1035.0                 97                  1.0   \n",
       "\n",
       "   x_wind_deg_Bilbao  x_rain_1h_Bilbao  x_rain_3h_Bilbao  x_snow_3h_Bilbao  \\\n",
       "0                226               0.0               0.0               0.0   \n",
       "1                229               0.0               0.0               0.0   \n",
       "2                224               0.0               0.0               0.0   \n",
       "3                225               0.0               0.0               0.0   \n",
       "4                221               0.0               0.0               0.0   \n",
       "\n",
       "   x_clouds_all_Bilbao  \n",
       "0                    0  \n",
       "1                    0  \n",
       "2                    0  \n",
       "3                    0  \n",
       "4                    0  \n",
       "\n",
       "[5 rows x 71 columns]"
      ]
     },
     "execution_count": 28,
     "metadata": {},
     "output_type": "execute_result"
    }
   ],
   "source": [
    "df_global.to_csv('splitted/Total.csv', index=False, )\n",
    "df_global.head()"
   ]
  },
  {
   "cell_type": "markdown",
   "metadata": {},
   "source": [
    "local datasets"
   ]
  },
  {
   "cell_type": "code",
   "execution_count": null,
   "metadata": {},
   "outputs": [],
   "source": [
    "for city, percent in weights.items():\n",
    "\n",
    "    # trick di brumotti - togli la colonna, metti la colonna\n",
    "    tmp = df_energy.set_index('time')\n",
    "    tmp = tmp.astype(float) * percent\n",
    "    tmp = tmp.reset_index()\n",
    "\n",
    "    tmp = pd.merge(df_final[city], tmp, how='inner', left_on='time', right_on='time')\n",
    "\n",
    "    tmp.to_csv(f'splitted/{city}.csv', index=False, )"
   ]
  }
 ],
 "metadata": {
  "interpreter": {
   "hash": "31f2aee4e71d21fbe5cf8b01ff0e069b9275f58929596ceb00d14d90e3e16cd6"
  },
  "kernelspec": {
   "display_name": "Python 3.8.10 64-bit",
   "language": "python",
   "name": "python3"
  },
  "language_info": {
   "codemirror_mode": {
    "name": "ipython",
    "version": 3
   },
   "file_extension": ".py",
   "mimetype": "text/x-python",
   "name": "python",
   "nbconvert_exporter": "python",
   "pygments_lexer": "ipython3",
   "version": "3.10.2"
  },
  "orig_nbformat": 4
 },
 "nbformat": 4,
 "nbformat_minor": 2
}
